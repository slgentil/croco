{
 "cells": [
  {
   "cell_type": "markdown",
   "metadata": {},
   "source": [
    "# zonally periodic jet with internal waves configuration\n",
    "\n",
    "Description of the configuration, see:\n",
    "\n",
    "- [Ponte and Klein 2017](https://agupubs.onlinelibrary.wiley.com/doi/full/10.1002/2016JC012214)\n",
    "\n",
    "- [Ponte and Klein 2013](https://link.springer.com/article/10.1007/s10236-013-0611-7)\n",
    "\n",
    "The cpp key is JETN\n",
    "The type of jet (1 to 4) is defined in `cppdefs.h`\n",
    "Run time options are found in `croco.in`"
   ]
  },
  {
   "cell_type": "markdown",
   "metadata": {},
   "source": [
    "---\n",
    "\n",
    "### compilation\n",
    "\n",
    "In `configs/jetn/`, run:\n",
    "\n",
    "```\n",
    "./jobcomp\n",
    "```\n",
    "\n",
    "If few files have been modified, just run:\n",
    "```\n",
    "./jobmake\n",
    "```"
   ]
  },
  {
   "cell_type": "markdown",
   "metadata": {},
   "source": [
    "---\n",
    "\n",
    "### launch: python code"
   ]
  },
  {
   "cell_type": "code",
   "execution_count": 6,
   "metadata": {},
   "outputs": [
    {
     "name": "stdout",
     "output_type": "stream",
     "text": [
      "Run will be stored in /home/c11-data/Test_aponte/jetn/jet_cfg1_wp4_4km_m1a0_500a1000j\n"
     ]
    },
    {
     "data": {
      "text/plain": [
       "<crocosi.launch.run at 0x2aaad6a5d590>"
      ]
     },
     "execution_count": 6,
     "metadata": {},
     "output_type": "execute_result"
    }
   ],
   "source": [
    "import crocosi.launch as lc\n",
    "import numpy as np\n",
    "import itertools\n",
    "\n",
    "workdir = '/home/c11-data/Test_aponte/jetn/'\n",
    "\n",
    "# 1 run of 100 days\n",
    "#lc.run('fsturb_4km_0a100j'.format(m), launch=True)\n",
    "\n",
    "#itide:  flag_itide   omega_itide   nmode_itide   Az_itide  y_itide    start_time_itide\n",
    "#            T      1.45444104333e-4     2         1.0e-2   400.0e+3       500\n",
    "#jet: flag_jet   flag_jet_perturb  jet_ywidth  jet_weight jet_decay_start\n",
    "#       T              T            800.0e+3      0.6        500\n",
    "\n",
    "# parameters\n",
    "wp=4\n",
    "mp = {'itide': ['T', 1.45444104333e-4, 2, 1.0e-2, 400.0e+3, 500],\n",
    "      'jet': ['T', 'T', 800.0e+3, wp*.1, 500]}\n",
    "#rdir, jobname = 'jet_cfg1_wp{}_4km_500a1000j'.format(wp), 'j0'\n",
    "rdir, jobname = 'jet_cfg1_wp{}_m1a0_4km_500a1000j'.format(wp), 'j1'\n",
    "\n",
    "# restart\n",
    "rst = workdir+'jet_cfg1_wp{}_4km_0a1000j/t5/jetn_rst*.nc'.format(wp)\n",
    "\n",
    "# launch simulation\n",
    "lc.run(rdir,\n",
    "       jobname=jobname,\n",
    "       workdir=workdir,\n",
    "       restart = rst,\n",
    "       nbchains=5,\n",
    "       launch=True,\n",
    "       **mp)"
   ]
  },
  {
   "cell_type": "code",
   "execution_count": null,
   "metadata": {},
   "outputs": [],
   "source": [
    "to be updated\n",
    "\n",
    "M = {0: {'fsturb_avmodes': [1., 0., 0., 0., 0.]},\n",
    "     1: {'fsturb_avmodes': [0., 1., 0., 0., 0.]}\n",
    "    }\n",
    "\n",
    "A = {i: {'fsturb': [10., a, 50.e+3, 100.e+3,0., 300., \n",
    "                    5, 0., 0., 1440.e+3, 500.e+3]} \n",
    "     for i, a in enumerate([1.e-4, 5.e-4, 1.e-3, 5.e-3])\n",
    "    }\n",
    "\n",
    "for m, a in itertools.product(M,A):\n",
    "    lc.run('fsturb_m{}_a{}_4km_0a600j'.format(m,a),\n",
    "           jobname='f{}{}'.format(m,a),\n",
    "           workdir=workdir,\n",
    "           nbchains=6,\n",
    "           launch=True,\n",
    "           **M[m], **A[a])"
   ]
  },
  {
   "cell_type": "markdown",
   "metadata": {},
   "source": [
    "### launch: manual commands\n",
    "\n",
    "```\n",
    "./jobcomp\n",
    "python chain_datarmor.py jet_cfg1_wp75_4km_0a1000j 10 03:00:00 4 jetn 0\n",
    "# and release\n",
    "```\n",
    "\n",
    "Restart:\n",
    "```\n",
    "python chain_datarmor.py jet_cfg1_wp75_4km_m1_500a1000j 5 03:00:00 4 jetn 1\n",
    "# follow instructions and release\n",
    "```"
   ]
  },
  {
   "cell_type": "markdown",
   "metadata": {},
   "source": [
    "---\n",
    "\n",
    "## list of simulations available on datarmor:\n",
    "\n",
    "**Please send email to aurelien to update this note if you see errors !**\n",
    "\n",
    "In `/home/c11-data/Test_aponte/jetn`:\n",
    "\n",
    "| Name  | Resolution (dx=dy) | Length (days) | Jet configuration | Weight | Internal tide | Mode number| Amplitude |  High resolution output| Other |\n",
    "|--|:-:|:-:|:-:|:-:|:-:|:-:|:-:|:-:|:-:|\n",
    "| jet_cfg1_wp4_4km_0a1000j | 4 km | 1000d |  1 | 0.4  | No  |  | | No | |\n",
    "| jet_cfg1_wp4_4km_500a1000j | 4 km | 500d |  1 | 0.4  | No  |  | | Yes | floats |\n",
    "| jet_cfg1_wp4_m1a0_4km_500a1000j | 4 km | 500d |  1 | 0.4  | Yes  | 1 | 0.01 | Yes | floats |\n",
    "| jet_cfg1_wp5_4km_0a1000j | 4 km | 1000d |  1 | 0.5  | No  |  | | No | |\n",
    "| jet_cfg1_wp5_4km_500a1000j | 4 km | 500d |  1 | 0.5  | No  |  | | Yes | floats |\n",
    "| jet_cfg1_wp5_4km_m1a1_500a1000j | 4 km | 500d |  1 | 0.5  | Yes  | 1 | 0.02 | Yes | floats |\n",
    "| jet_cfg1_wp5_4km_m2a1_500a1000j | 4 km | 500d |  1 | 0.5  | Yes  | 2 | 0.02 | Yes | floats |\n",
    "| jet_cfg1_wp6_4km_0a1000j | 4 km | 1000d |  1 | 0.6  | No  |  | | No | |\n",
    "| jet_cfg1_wp6_4km_500a1000j | 4 km | 500d |  1 | 0.6  | No  |  | | Yes | floats |\n",
    "| jet_cfg1_wp6_4km_m1a0_500a1000j | 4 km | 500d |  1 | 0.6  | Yes  | 1 | 0.01 | Yes | floats |\n",
    "| jet_cfg1_wp6_2km_m1a0_500a700j | 2 km | 200d |  1 | 0.6  | Yes  | 1 | 0.01 | Yes | floats |\n",
    "| jet_cfg1_wp6_4km_m1a1_500a1000j | 4 km | 500d |  1 | 0.6  | Yes  | 1 | 0.02 | Yes | floats |\n",
    "| jet_cfg1_wp6_4km_m2a1_500a1000j | 4 km | 500d |  1 | 0.6  | Yes  | 2 | 0.02 | Yes | floats |\n",
    "| jet_cfg1_wp7_4km_0a1000j | 4 km | 1000d |  1 | 0.7  | No  |  | | No | |\n",
    "| jet_cfg1_wp8_4km_0a1000j | 4 km | 1000d |  1 | 0.8  | No  |  | | No | |\n",
    "| jet_cfg1_wp8_4km_500a1000j | 4 km | 500d |  1 | 0.8  | No  |  | | Yes | floats |\n",
    "| jet_cfg1_wp8_4km_m1a1_500a1000j | 4 km | 500d |  1 | 0.8  | Yes  | 1 | 0.02 | Yes | floats |\n",
    "| jet_cfg1_wp8_4km_m2a1_500a1000j | 4 km | 500d |  1 | 0.8  | Yes  | 2 | 0.02 | Yes | floats |\n",
    "| jet_cfg1_wp9_4km_0a1000j | 4 km | 1000d |  1 | 0.9  | No  |  | | No | |\n",
    "\n",
    "Simulations with an **unperturbed jet** in `/home/c11-data/Test_aponte/jetn`:\n",
    "\n",
    "| Name  | Resolution (dx=dy) | Length (days) | Jet configuration | Weight | Internal tide | Mode number| Amplitude |  High resolution output| Other |\n",
    "|--|:-:|:-:|:-:|:-:|:-:|:-:|:-:|:-:|:-:|\n",
    "| jet_cfg1_wp0_m1a1_4km_0a100j | 4 km | 100d |  1 | 0.0  | Yes  | 1 | 0.02 | Yes | floats |\n",
    "| jet_cfg1_wp0_m1a1_2km_0a100j | 2 km | 100d |  1 | 0.0  | Yes  | 1 | 0.02 | Yes | floats |\n",
    "| jet_cfg1_wp75_unperturbed_m1a1_4km_0a100j | 4 km | 100d |  1 | 0.75  | Yes  | 1 | 0.02 | Yes | floats, jet unperturbed initially |\n",
    "| jet_cfg1_wp75_unperturbed_m1a1_2km_0a100j | 2 km | 100d |  1 | 0.75  | Yes  | 1 | 0.02 | Yes | floats, jet unperturbed initially |\n",
    "\n",
    "\n",
    "**Notes:**\n",
    "- The weight modulates the strength of the turbulence\n",
    "- internal tide modes are: 0=barotropic, 1=1st baroclinic, 2=2nd baroclinic, etc\n",
    "- internal tide amplitude is has given in `croco.in` (Az_itide parameter) and may modified online (for different modes)"
   ]
  },
  {
   "cell_type": "markdown",
   "metadata": {},
   "source": [
    "---\n",
    "\n",
    "## outputs:\n",
    "\n",
    "see [`iodef.xml`](iodef.xml)\n",
    "\n",
    "### file_his_*.nc\n",
    "\n",
    "Relevant temporal variable: `time_counter`\n",
    "\n",
    "Variables are 2D or 3D:\n",
    "\n",
    "- `v_a` : temporal averaged of variable $v$\n",
    "\n",
    "- `v_t_cos` : temporal averaged of $v\\times\\cos(\\omega t)$\n",
    "\n",
    "- `v_t_sin` : temporal averaged of $v\\times\\cos(\\omega t)$\n",
    "\n",
    "- `v_t_dirac` : instantaneous value of $v$ at the center of the interval\n",
    "\n",
    "The relevant time interval for this output has size `freq_op` (2d typically) and is outputed every `output_freq` (25d typically).\n",
    "\n",
    "![his](croco_jetn_time.001.png)\n",
    "\n",
    "\n",
    "### file_ave_*.nc\n",
    "\n",
    "Relevant temporal variable: `time_counter`\n",
    "\n",
    "Variables are 2D and averaged over a temporal window of size `output_freq` (2d typically).\n",
    "\n",
    "- `v` : temporal averaged of variable $v$\n",
    "\n",
    "- `v_t_cos` : temporal averaged of $v\\times\\cos(\\omega t)$\n",
    "\n",
    "- `v_t_sin` : temporal averaged of $v\\times\\cos(\\omega t)$\n",
    "\n",
    "![ave](croco_jetn_time.002.png)\n",
    "\n",
    "### file_surf_*.nc\n",
    "\n",
    "Relevant temporal variable: `time_instant`\n",
    "\n",
    "Variables are 2D (surface) and instantaneous every `output_freq` (10 min typically).\n",
    "\n",
    "### file_inst_*.nc, file_sta1_*.nc, ...\n",
    "\n",
    "Relevant temporal variable: `time_instant`\n",
    "\n",
    "Variables are 1D and instantaneous every `output_freq` (30min typically).\n",
    "\n",
    "### file_swath_*.nc\n",
    "\n",
    "Not that useful for now.\n",
    "\n",
    "\n",
    "### nicer treatment of time coordinate\n",
    "\n",
    "Work is ongoing around xarray in order to implement useful features for this\n",
    "such as selection alon non-dim coordinates [issue](https://github.com/pydata/xarray/issues/1603)"
   ]
  },
  {
   "cell_type": "code",
   "execution_count": null,
   "metadata": {},
   "outputs": [],
   "source": []
  }
 ],
 "metadata": {
  "kernelspec": {
   "display_name": "Python 3",
   "language": "python",
   "name": "python3"
  },
  "language_info": {
   "codemirror_mode": {
    "name": "ipython",
    "version": 3
   },
   "file_extension": ".py",
   "mimetype": "text/x-python",
   "name": "python",
   "nbconvert_exporter": "python",
   "pygments_lexer": "ipython3",
   "version": "3.7.6"
  }
 },
 "nbformat": 4,
 "nbformat_minor": 4
}
