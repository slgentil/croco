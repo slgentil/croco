{
 "cells": [
  {
   "cell_type": "code",
   "execution_count": 1,
   "metadata": {},
   "outputs": [],
   "source": [
    "import os\n",
    "from glob import glob\n",
    "import threading\n",
    "\n",
    "import numpy as np\n",
    "import dask.dataframe as dd\n",
    "from dask import delayed\n",
    "import pandas as pd\n",
    "import xarray as xr\n",
    "\n",
    "%matplotlib inline\n",
    "from matplotlib import pyplot as plt\n",
    "#import matplotlib.animation as anim\n",
    "\n",
    "import crocosi.postp as pp\n",
    "from crocosi.jet import set_relevant_time"
   ]
  },
  {
   "cell_type": "markdown",
   "metadata": {},
   "source": [
    "---"
   ]
  },
  {
   "cell_type": "code",
   "execution_count": 2,
   "metadata": {},
   "outputs": [],
   "source": [
    "from dask_jobqueue import PBSCluster\n",
    "cluster = PBSCluster()\n",
    "w = cluster.scale(28*2)"
   ]
  },
  {
   "cell_type": "code",
   "execution_count": 3,
   "metadata": {},
   "outputs": [],
   "source": [
    "from dask.distributed import Client\n",
    "#client = Client()  # set up local cluster on your laptop\n",
    "client = Client(cluster) # with distributed cluster"
   ]
  },
  {
   "cell_type": "code",
   "execution_count": 6,
   "metadata": {},
   "outputs": [
    {
     "data": {
      "text/html": [
       "<table style=\"border: 2px solid white;\">\n",
       "<tr>\n",
       "<td style=\"vertical-align: top; border: 0px solid white\">\n",
       "<h3 style=\"text-align: left;\">Client</h3>\n",
       "<ul style=\"text-align: left; list-style: none; margin: 0; padding: 0;\">\n",
       "  <li><b>Scheduler: </b>tcp://10.148.1.2:32783</li>\n",
       "  <li><b>Dashboard: </b><a href='http://10.148.1.2:8787/status' target='_blank'>http://10.148.1.2:8787/status</a>\n",
       "</ul>\n",
       "</td>\n",
       "<td style=\"vertical-align: top; border: 0px solid white\">\n",
       "<h3 style=\"text-align: left;\">Cluster</h3>\n",
       "<ul style=\"text-align: left; list-style:none; margin: 0; padding: 0;\">\n",
       "  <li><b>Workers: </b>28</li>\n",
       "  <li><b>Cores: </b>28</li>\n",
       "  <li><b>Memory: </b>120.12 GB</li>\n",
       "</ul>\n",
       "</td>\n",
       "</tr>\n",
       "</table>"
      ],
      "text/plain": [
       "<Client: 'tcp://10.148.1.2:32783' processes=28 threads=28, memory=120.12 GB>"
      ]
     },
     "execution_count": 6,
     "metadata": {},
     "output_type": "execute_result"
    }
   ],
   "source": [
    "client"
   ]
  },
  {
   "cell_type": "markdown",
   "metadata": {},
   "source": [
    "---"
   ]
  },
  {
   "cell_type": "code",
   "execution_count": null,
   "metadata": {},
   "outputs": [],
   "source": [
    "#root_path = '/Users/zcaspar/'\n",
    "root_path = '/home/datawork-lops-osi/slgentil/croco/jetn/'\n",
    "run = 'jet_cfg1_wp75_4km_1500a2000j_floats_lev50_itide/'\n",
    "\n",
    "gparams = {'f0': 1.0313e-4, 'beta': 1.6186e-11}\n",
    "r = pp.CROCOrun(root_path+run, prefix='file_', open_nc=['surf'], \n",
    "                chunk_time={'his': 1, 'surf': 1}, grid_params=gparams)\n",
    "#set_relevant_time(r) # this triggers slow computations later on, don't know why"
   ]
  },
  {
   "cell_type": "code",
   "execution_count": 8,
   "metadata": {},
   "outputs": [
    {
     "data": {
      "text/html": [
       "<div>\n",
       "<style scoped>\n",
       "    .dataframe tbody tr th:only-of-type {\n",
       "        vertical-align: middle;\n",
       "    }\n",
       "\n",
       "    .dataframe tbody tr th {\n",
       "        vertical-align: top;\n",
       "    }\n",
       "\n",
       "    .dataframe thead th {\n",
       "        text-align: right;\n",
       "    }\n",
       "</style>\n",
       "<table border=\"1\" class=\"dataframe\">\n",
       "  <thead>\n",
       "    <tr style=\"text-align: right;\">\n",
       "      <th></th>\n",
       "      <th>id</th>\n",
       "      <th>time</th>\n",
       "      <th>xgrid</th>\n",
       "      <th>ygrid</th>\n",
       "      <th>zgrid</th>\n",
       "      <th>depth</th>\n",
       "      <th>temp</th>\n",
       "      <th>X1</th>\n",
       "      <th>X2</th>\n",
       "      <th>X3</th>\n",
       "      <th>X4</th>\n",
       "      <th>X5</th>\n",
       "    </tr>\n",
       "  </thead>\n",
       "  <tbody>\n",
       "    <tr>\n",
       "      <th>0</th>\n",
       "      <td>7161</td>\n",
       "      <td>1500.0069</td>\n",
       "      <td>196.40944</td>\n",
       "      <td>541.79652</td>\n",
       "      <td>50.0</td>\n",
       "      <td>-0.935944</td>\n",
       "      <td>25.886666</td>\n",
       "      <td>0.058079</td>\n",
       "      <td>-0.105506</td>\n",
       "      <td>-5.820925e-08</td>\n",
       "      <td>3.420817e-07</td>\n",
       "      <td>-8.260263</td>\n",
       "    </tr>\n",
       "    <tr>\n",
       "      <th>1</th>\n",
       "      <td>7162</td>\n",
       "      <td>1500.0069</td>\n",
       "      <td>196.40937</td>\n",
       "      <td>543.30184</td>\n",
       "      <td>50.0</td>\n",
       "      <td>-0.940022</td>\n",
       "      <td>25.885229</td>\n",
       "      <td>0.057283</td>\n",
       "      <td>-0.101750</td>\n",
       "      <td>-2.034746e-08</td>\n",
       "      <td>3.515808e-07</td>\n",
       "      <td>-8.300321</td>\n",
       "    </tr>\n",
       "    <tr>\n",
       "      <th>2</th>\n",
       "      <td>7163</td>\n",
       "      <td>1500.0069</td>\n",
       "      <td>196.40946</td>\n",
       "      <td>544.80716</td>\n",
       "      <td>50.0</td>\n",
       "      <td>-0.944117</td>\n",
       "      <td>25.884374</td>\n",
       "      <td>0.058512</td>\n",
       "      <td>-0.097537</td>\n",
       "      <td>-1.201106e-09</td>\n",
       "      <td>3.599363e-07</td>\n",
       "      <td>-8.340519</td>\n",
       "    </tr>\n",
       "    <tr>\n",
       "      <th>3</th>\n",
       "      <td>7164</td>\n",
       "      <td>1500.0069</td>\n",
       "      <td>196.40961</td>\n",
       "      <td>546.31250</td>\n",
       "      <td>50.0</td>\n",
       "      <td>-0.948345</td>\n",
       "      <td>25.884627</td>\n",
       "      <td>0.060480</td>\n",
       "      <td>-0.093268</td>\n",
       "      <td>-1.958836e-08</td>\n",
       "      <td>3.627984e-07</td>\n",
       "      <td>-8.381996</td>\n",
       "    </tr>\n",
       "    <tr>\n",
       "      <th>4</th>\n",
       "      <td>7165</td>\n",
       "      <td>1500.0069</td>\n",
       "      <td>196.40971</td>\n",
       "      <td>547.81780</td>\n",
       "      <td>50.0</td>\n",
       "      <td>-0.952706</td>\n",
       "      <td>25.885603</td>\n",
       "      <td>0.061626</td>\n",
       "      <td>-0.089432</td>\n",
       "      <td>-6.096121e-08</td>\n",
       "      <td>3.575484e-07</td>\n",
       "      <td>-8.424740</td>\n",
       "    </tr>\n",
       "  </tbody>\n",
       "</table>\n",
       "</div>"
      ],
      "text/plain": [
       "     id       time      xgrid      ygrid  zgrid     depth       temp  \\\n",
       "0  7161  1500.0069  196.40944  541.79652   50.0 -0.935944  25.886666   \n",
       "1  7162  1500.0069  196.40937  543.30184   50.0 -0.940022  25.885229   \n",
       "2  7163  1500.0069  196.40946  544.80716   50.0 -0.944117  25.884374   \n",
       "3  7164  1500.0069  196.40961  546.31250   50.0 -0.948345  25.884627   \n",
       "4  7165  1500.0069  196.40971  547.81780   50.0 -0.952706  25.885603   \n",
       "\n",
       "         X1        X2            X3            X4        X5  \n",
       "0  0.058079 -0.105506 -5.820925e-08  3.420817e-07 -8.260263  \n",
       "1  0.057283 -0.101750 -2.034746e-08  3.515808e-07 -8.300321  \n",
       "2  0.058512 -0.097537 -1.201106e-09  3.599363e-07 -8.340519  \n",
       "3  0.060480 -0.093268 -1.958836e-08  3.627984e-07 -8.381996  \n",
       "4  0.061626 -0.089432 -6.096121e-08  3.575484e-07 -8.424740  "
      ]
     },
     "execution_count": 8,
     "metadata": {},
     "output_type": "execute_result"
    }
   ],
   "source": [
    "#path_data='/Users/zcaspar/jet_cfg1_wp75_4km_1500a2000j_floats_lev50_itide/'\n",
    "#df = dd.read_csv(glob(root_path+run+'t?/float.????'), \n",
    "df = dd.read_csv(glob(root_path+run+'t1/float.????'), \n",
    "                 names=['id','time','xgrid','ygrid','zgrid','depth','temp','X1','X2','X3','X4','X5'],\n",
    "                 delim_whitespace=True).persist()\n",
    "df.head()"
   ]
  },
  {
   "cell_type": "code",
   "execution_count": 18,
   "metadata": {},
   "outputs": [],
   "source": [
    "# sort right away data by time:\n",
    "#df = df.apply(lambda d: d.sort_values('time')).persist()\n",
    "# not working, not implemented in dask (too much shufling)"
   ]
  },
  {
   "cell_type": "code",
   "execution_count": 19,
   "metadata": {},
   "outputs": [],
   "source": [
    "# note for AP for future stuff\n",
    "#df.groupby(['id']).get_group(2).compute()\n",
    "#df.groupby(['id']).apply(lambda d: d.sort_values('time'), meta=df).to_delayed()\n",
    "# with stack to get dask array"
   ]
  },
  {
   "cell_type": "markdown",
   "metadata": {},
   "source": [
    "### paramètres :"
   ]
  },
  {
   "cell_type": "code",
   "execution_count": 9,
   "metadata": {},
   "outputs": [],
   "source": [
    "#Dt = 6*6 # Dt = X*6 images toutes les Xh\n",
    "dt = 2 # temps avant l'instant t plotté utilisé pour visualiser la trajectoire (en jours)\n",
    "#ti = 1500 # temps0 en jours\n",
    "#tf = 1599 # temps d'arrêt en jours\n",
    "vari = 'ssh' # variable affichée en fond pour une seule variable\n",
    "#vari1 = 'u'  # 1ère variable affichée en fond pour 2 variables\n",
    "#vari2 = 'v'  # 2ème variable affichée en fond pour 2 variables\n",
    "#floats_var = 'depth' # variable affichée le long de la trajectoire du drifter\n",
    "#float_id = [102,300] # numéro des flotteurs voulu"
   ]
  },
  {
   "cell_type": "code",
   "execution_count": 10,
   "metadata": {},
   "outputs": [
    {
     "name": "stdout",
     "output_type": "stream",
     "text": [
      "Figures directory: /home1/scratch/aponte/figs/\n"
     ]
    }
   ],
   "source": [
    "# could delete all figures beforehand\n",
    "figdir = '/home1/scratch/aponte/figs/'\n",
    "print('Figures directory: '+figdir)\n",
    "\n",
    "def genfig(i, ds, v, df, overwrite=True):\n",
    "    \n",
    "    figname = figdir+'float_%s_t%05d' %(v, i)+'.png'\n",
    "    \n",
    "    if not os.path.isfile(figname) or overwrite:\n",
    "        time = ds['time_instant'].values\n",
    "        ldf = df[ (df.time>=time-dt) & (df.time<=time) ]\n",
    "        #\n",
    "        MPL_LOCK = threading.Lock()\n",
    "        with MPL_LOCK:\n",
    "            plt.switch_backend('agg')    \n",
    "            #\n",
    "            fig = plt.figure(figsize=(12,12))\n",
    "            ax = fig.add_subplot(1,2,1)        \n",
    "            ds[v].plot(ax=ax)\n",
    "            ax.plot(ldf.xgrid, ldf.ygrid, '.', color='k')\n",
    "            fig.savefig(figname)\n",
    "            #\n",
    "            m = 1.\n",
    "    else:\n",
    "        m = -1.\n",
    "    return m"
   ]
  },
  {
   "cell_type": "code",
   "execution_count": 11,
   "metadata": {},
   "outputs": [],
   "source": [
    "ds = r['surf'][vari].to_dataset()\n",
    "#v = (r['surf'][vari].shift(time=-1)+r['surf'][vari])*.5\n",
    "#t = ds.time"
   ]
  },
  {
   "cell_type": "code",
   "execution_count": 12,
   "metadata": {},
   "outputs": [
    {
     "data": {
      "text/html": [
       "<pre>&lt;xarray.Dataset&gt;\n",
       "Dimensions:       (time: 72000, x_rho: 258, y_rho: 722)\n",
       "Coordinates:\n",
       "    xi_rho        (y_rho, x_rho) float32 dask.array&lt;chunksize=(722, 258), meta=np.ndarray&gt;\n",
       "    eta_rho       (y_rho, x_rho) float32 dask.array&lt;chunksize=(722, 258), meta=np.ndarray&gt;\n",
       "    time_instant  (time) float64 dask.array&lt;chunksize=(1,), meta=np.ndarray&gt;\n",
       "    time_counter  (time) float64 1.5e+03 1.5e+03 1.5e+03 ... 2e+03 2e+03 2e+03\n",
       "    f             (y_rho, x_rho) float32 dask.array&lt;chunksize=(722, 258), meta=np.ndarray&gt;\n",
       "Dimensions without coordinates: time, x_rho, y_rho\n",
       "Data variables:\n",
       "    ssh           (time, y_rho, x_rho) float32 dask.array&lt;chunksize=(1, 722, 258), meta=np.ndarray&gt;</pre>"
      ],
      "text/plain": [
       "<xarray.Dataset>\n",
       "Dimensions:       (time: 72000, x_rho: 258, y_rho: 722)\n",
       "Coordinates:\n",
       "    xi_rho        (y_rho, x_rho) float32 dask.array<chunksize=(722, 258), meta=np.ndarray>\n",
       "    eta_rho       (y_rho, x_rho) float32 dask.array<chunksize=(722, 258), meta=np.ndarray>\n",
       "    time_instant  (time) float64 dask.array<chunksize=(1,), meta=np.ndarray>\n",
       "    time_counter  (time) float64 1.5e+03 1.5e+03 1.5e+03 ... 2e+03 2e+03 2e+03\n",
       "    f             (y_rho, x_rho) float32 dask.array<chunksize=(722, 258), meta=np.ndarray>\n",
       "Dimensions without coordinates: time, x_rho, y_rho\n",
       "Data variables:\n",
       "    ssh           (time, y_rho, x_rho) float32 dask.array<chunksize=(1, 722, 258), meta=np.ndarray>"
      ]
     },
     "execution_count": 12,
     "metadata": {},
     "output_type": "execute_result"
    }
   ],
   "source": [
    "ds"
   ]
  },
  {
   "cell_type": "code",
   "execution_count": 13,
   "metadata": {},
   "outputs": [
    {
     "name": "stdout",
     "output_type": "stream",
     "text": [
      "7 loops to be done\n",
      " - 0 - 61\n",
      " - 62 - 123\n",
      " - 124 - 185\n",
      " - 186 - 247\n",
      " - 248 - 309\n",
      " - 310 - 370\n",
      " - 371 - 431\n"
     ]
    }
   ],
   "source": [
    "rg = range(0,6*24*3) # 3 days\n",
    "II = np.array_split(rg,len(rg)/56) # 4 maybe will work\n",
    "print('%d loops to be done'%len(II))\n",
    "for I in II:\n",
    "    print('  %d - %d'%(I[0],I[-1]))\n",
    "    lt = ds.time_instant.isel(time=I).values\n",
    "    ldf = df[ (df.time>lt[0]-dt) & (df.time<lt[-1]) ]\n",
    "    values = [delayed(genfig)(i, ds.isel(time=i), vari, \\\n",
    "                              ldf, \\\n",
    "                              overwrite=True) for i in I]\n",
    "    futures = client.compute(values)\n",
    "    results = client.gather(futures)"
   ]
  },
  {
   "cell_type": "code",
   "execution_count": null,
   "metadata": {},
   "outputs": [],
   "source": [
    "cluster.close()"
   ]
  },
  {
   "cell_type": "code",
   "execution_count": null,
   "metadata": {},
   "outputs": [],
   "source": []
  }
 ],
 "metadata": {
  "kernelspec": {
   "display_name": "Python 3",
   "language": "python",
   "name": "python3"
  },
  "language_info": {
   "codemirror_mode": {
    "name": "ipython",
    "version": 3
   },
   "file_extension": ".py",
   "mimetype": "text/x-python",
   "name": "python",
   "nbconvert_exporter": "python",
   "pygments_lexer": "ipython3",
   "version": "3.7.3"
  }
 },
 "nbformat": 4,
 "nbformat_minor": 4
}
