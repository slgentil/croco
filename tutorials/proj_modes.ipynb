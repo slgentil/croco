{
 "cells": [
  {
   "cell_type": "markdown",
   "metadata": {},
   "source": [
    "# Projection on vertical modes"
   ]
  },
  {
   "cell_type": "code",
   "execution_count": 1,
   "metadata": {},
   "outputs": [],
   "source": [
    "from matplotlib import pyplot as plt\n",
    "%matplotlib inline\n",
    "import numpy as np\n",
    "\n",
    "import crocosi.postp as pp\n",
    "from crocosi.gridop import get_z"
   ]
  },
  {
   "cell_type": "markdown",
   "metadata": {},
   "source": [
    "# Read netcdf file"
   ]
  },
  {
   "cell_type": "code",
   "execution_count": 2,
   "metadata": {},
   "outputs": [
    {
     "data": {
      "text/plain": [
       "<xarray.Dataset>\n",
       "Dimensions:              (axis_nbounds: 2, s_rho: 50, time: 12, x_rho: 258, x_u: 257, x_v: 258, x_w: 258, y_rho: 722, y_u: 722, y_v: 721, y_w: 722)\n",
       "Coordinates:\n",
       "    xi_w                 (y_w, x_w) float32 dask.array<chunksize=(722, 258), meta=np.ndarray>\n",
       "    eta_u                (y_u, x_u) float32 dask.array<chunksize=(722, 257), meta=np.ndarray>\n",
       "    xi_u                 (y_u, x_u) float32 dask.array<chunksize=(722, 257), meta=np.ndarray>\n",
       "    eta_v                (y_v, x_v) float32 dask.array<chunksize=(721, 258), meta=np.ndarray>\n",
       "    eta_w                (y_w, x_w) float32 dask.array<chunksize=(722, 258), meta=np.ndarray>\n",
       "    eta_rho              (y_rho, x_rho) float32 dask.array<chunksize=(722, 258), meta=np.ndarray>\n",
       "    xi_v                 (y_v, x_v) float32 dask.array<chunksize=(721, 258), meta=np.ndarray>\n",
       "    xi_rho               (y_rho, x_rho) float32 dask.array<chunksize=(722, 258), meta=np.ndarray>\n",
       "  * s_rho                (s_rho) float32 -0.99 -0.97 -0.95 ... -0.05 -0.03 -0.01\n",
       "    time_instant         (time) datetime64[ns] dask.array<chunksize=(1,), meta=np.ndarray>\n",
       "  * time                 (time) float64 2e+03 nan nan nan ... nan nan nan nan\n",
       "    f                    (y_rho, x_rho) float32 dask.array<chunksize=(722, 258), meta=np.ndarray>\n",
       "Dimensions without coordinates: axis_nbounds, x_rho, x_u, x_v, x_w, y_rho, y_u, y_v, y_w\n",
       "Data variables:\n",
       "    ssh_a                (time, y_rho, x_rho) float32 dask.array<chunksize=(1, 722, 258), meta=np.ndarray>\n",
       "    time_instant_bounds  (time, axis_nbounds) datetime64[ns] dask.array<chunksize=(1, 2), meta=np.ndarray>\n",
       "    time_counter_bounds  (time, axis_nbounds) datetime64[ns] dask.array<chunksize=(1, 2), meta=np.ndarray>\n",
       "    T_a                  (time, s_rho, y_rho, x_rho) float32 dask.array<chunksize=(1, 1, 722, 258), meta=np.ndarray>\n",
       "    u_a                  (time, s_rho, y_u, x_u) float32 dask.array<chunksize=(1, 1, 722, 257), meta=np.ndarray>\n",
       "    v_a                  (time, s_rho, y_v, x_v) float32 dask.array<chunksize=(1, 1, 721, 258), meta=np.ndarray>\n",
       "    w_a                  (time, s_rho, y_rho, x_rho) float32 dask.array<chunksize=(1, 1, 722, 258), meta=np.ndarray>\n",
       "    ssh_t_cos            (time, y_rho, x_rho) float32 dask.array<chunksize=(1, 722, 258), meta=np.ndarray>\n",
       "    ssh_t_sin            (time, y_rho, x_rho) float32 dask.array<chunksize=(1, 722, 258), meta=np.ndarray>\n",
       "    T_t_cos              (time, s_rho, y_rho, x_rho) float32 dask.array<chunksize=(1, 1, 722, 258), meta=np.ndarray>\n",
       "    T_t_sin              (time, s_rho, y_rho, x_rho) float32 dask.array<chunksize=(1, 1, 722, 258), meta=np.ndarray>\n",
       "    u_t_cos              (time, s_rho, y_u, x_u) float32 dask.array<chunksize=(1, 1, 722, 257), meta=np.ndarray>\n",
       "    u_t_sin              (time, s_rho, y_u, x_u) float32 dask.array<chunksize=(1, 1, 722, 257), meta=np.ndarray>\n",
       "    v_t_cos              (time, s_rho, y_v, x_v) float32 dask.array<chunksize=(1, 1, 721, 258), meta=np.ndarray>\n",
       "    v_t_sin              (time, s_rho, y_v, x_v) float32 dask.array<chunksize=(1, 1, 721, 258), meta=np.ndarray>\n",
       "    w_t_cos              (time, s_rho, y_w, x_w) float32 dask.array<chunksize=(1, 1, 722, 258), meta=np.ndarray>\n",
       "    w_t_sin              (time, s_rho, y_w, x_w) float32 dask.array<chunksize=(1, 1, 722, 258), meta=np.ndarray>\n",
       "    ssh_t_dirac          (time, y_rho, x_rho) float32 dask.array<chunksize=(1, 722, 258), meta=np.ndarray>\n",
       "    T_t_dirac            (time, s_rho, y_rho, x_rho) float32 dask.array<chunksize=(1, 1, 722, 258), meta=np.ndarray>\n",
       "    u_t_dirac            (time, s_rho, y_u, x_u) float32 dask.array<chunksize=(1, 1, 722, 257), meta=np.ndarray>\n",
       "    v_t_dirac            (time, s_rho, y_v, x_v) float32 dask.array<chunksize=(1, 1, 721, 258), meta=np.ndarray>\n",
       "    w_t_dirac            (time, s_rho, y_w, x_w) float32 dask.array<chunksize=(1, 1, 722, 258), meta=np.ndarray>\n",
       "    sc_r                 (s_rho) float64 -0.99 -0.97 -0.95 ... -0.05 -0.03 -0.01\n",
       "    Cs_r                 (s_rho) float64 -0.9506 -0.8588 ... -1.708e-05\n",
       "    h                    (y_rho, x_rho) float64 4e+03 4e+03 ... 4e+03 4e+03\n",
       "Attributes:\n",
       "    name:         file_his\n",
       "    description:  Created by xios\n",
       "    title:        Created by xios\n",
       "    Conventions:  CF-1.5\n",
       "    production:   An IPSL model\n",
       "    timeStamp:    2019-Sep-26 11:09:11 GMT\n",
       "    f0:           0.00010313\n",
       "    beta:         1.6186e-11"
      ]
     },
     "execution_count": 2,
     "metadata": {},
     "output_type": "execute_result"
    }
   ],
   "source": [
    "root_path = '/home/datawork-lops-osi/aponte/bturb_itide/jet/'\n",
    "run = 'jet_cfg1_wp9_4km_nodecay_2000a2300j/'\n",
    "\n",
    "gparams = {'f0': 1.0313e-4, 'beta': 1.6186e-11}\n",
    "r = pp.CROCOrun(root_path+run, prefix='file_', open_nc=[], grid_params=gparams)"
   ]
  },
  {
   "cell_type": "markdown",
   "metadata": {},
   "source": [
    "# Compute vertical modes\n",
    "ssh temporal mean"
   ]
  },
  {
   "cell_type": "code",
   "execution_count": 3,
   "metadata": {},
   "outputs": [],
   "source": [
    "sshmean = r.ds['his'].ssh_a.mean(dim='time')"
   ]
  },
  {
   "cell_type": "markdown",
   "metadata": {},
   "source": [
    "Compute z mean from ssh mean"
   ]
  },
  {
   "cell_type": "code",
   "execution_count": 4,
   "metadata": {},
   "outputs": [
    {
     "name": "stderr",
     "output_type": "stream",
     "text": [
      "/home1/dunree/slgentil/models/croco/croco/crocosi/gridop.py:109: FutureWarning: This DataArray contains multi-dimensional coordinates. In the future, these coordinates will be transposed as well unless you specify transpose_coords=False.\n",
      "  z = z.transpose(sc.dims[0], _zeta.dims[0], _zeta.dims[1])\n"
     ]
    },
    {
     "data": {
      "text/plain": [
       "<matplotlib.collections.QuadMesh at 0x14c6cab49fd0>"
      ]
     },
     "execution_count": 4,
     "metadata": {},
     "output_type": "execute_result"
    },
    {
     "data": {
      "image/png": "[encoded data removed]",
      "text/plain": [
       "<Figure size 432x288 with 2 Axes>"
      ]
     },
     "metadata": {
      "needs_background": "light"
     },
     "output_type": "display_data"
    }
   ],
   "source": [
    "zmean = get_z(r, zeta=sshmean, h=r.ds['his'].h, vgrid='r', hgrid='r')\n",
    "zmean.isel(x_rho=125).plot(x='y_rho', y='s_rho')"
   ]
  },
  {
   "cell_type": "markdown",
   "metadata": {},
   "source": [
    "Interpolate vertically stratification T(x,y,z,t)  on zmean -> T(x,y,$\\bar{z}$,t)"
   ]
  },
  {
   "cell_type": "markdown",
   "metadata": {},
   "source": [
    "Temporal mean of stratification T(x,y,$\\bar{z}$,t) -> T(x,y,$\\bar{z}$)"
   ]
  },
  {
   "cell_type": "markdown",
   "metadata": {},
   "source": [
    "Compute N2 profile from stratification on mean z  T(x,y,$\\bar{z}$) -> N2(x,y,$\\bar{z}$)"
   ]
  },
  {
   "cell_type": "markdown",
   "metadata": {},
   "source": [
    "Compute vertical modes N2(x,y,$\\bar{z}$) -> $phi_{n}$(x,y,$\\bar{z}$)"
   ]
  },
  {
   "cell_type": "markdown",
   "metadata": {},
   "source": [
    "# Projection of a variable on vertical modes"
   ]
  },
  {
   "cell_type": "markdown",
   "metadata": {},
   "source": [
    "Interpolation of the variable on zmean -> var(x,y,$\\bar{z}$,t)"
   ]
  },
  {
   "cell_type": "markdown",
   "metadata": {},
   "source": [
    "Projection on vertical modes -> $var_{n}$(x,y,t)"
   ]
  },
  {
   "cell_type": "code",
   "execution_count": null,
   "metadata": {},
   "outputs": [],
   "source": []
  }
 ],
 "metadata": {
  "kernelspec": {
   "display_name": "Python 3",
   "language": "python",
   "name": "python3"
  },
  "language_info": {
   "codemirror_mode": {
    "name": "ipython",
    "version": 3
   },
   "file_extension": ".py",
   "mimetype": "text/x-python",
   "name": "python",
   "nbconvert_exporter": "python",
   "pygments_lexer": "ipython3",
   "version": "3.7.3"
  }
 },
 "nbformat": 4,
 "nbformat_minor": 2
}
