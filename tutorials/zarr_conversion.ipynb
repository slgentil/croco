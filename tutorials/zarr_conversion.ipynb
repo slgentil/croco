{
 "cells": [
  {
   "cell_type": "markdown",
   "metadata": {},
   "source": [
    "# convert data to zarr format"
   ]
  },
  {
   "cell_type": "code",
   "execution_count": 1,
   "metadata": {},
   "outputs": [],
   "source": [
    "%matplotlib inline\n",
    "from matplotlib import pyplot as plt\n",
    "\n",
    "import crocosi.postp as pp"
   ]
  },
  {
   "cell_type": "code",
   "execution_count": 2,
   "metadata": {},
   "outputs": [],
   "source": [
    "from dask.distributed import Client, LocalCluster\n",
    "#\n",
    "#cluster = LocalCluster()\n",
    "#\n",
    "from dask_jobqueue import PBSCluster\n",
    "# get processes with large amount of memory\n",
    "cluster = PBSCluster(processes=8, cores=16,\n",
    "                     walltime='04:00:00')\n",
    "w = cluster.scale(jobs=5)\n",
    "#\n",
    "client = Client(cluster)"
   ]
  },
  {
   "cell_type": "code",
   "execution_count": 6,
   "metadata": {},
   "outputs": [
    {
     "data": {
      "text/html": [
       "<table style=\"border: 2px solid white;\">\n",
       "<tr>\n",
       "<td style=\"vertical-align: top; border: 0px solid white\">\n",
       "<h3 style=\"text-align: left;\">Client</h3>\n",
       "<ul style=\"text-align: left; list-style: none; margin: 0; padding: 0;\">\n",
       "  <li><b>Scheduler: </b>tcp://10.148.1.39:46430</li>\n",
       "  <li><b>Dashboard: </b><a href='http://10.148.1.39:8787/status' target='_blank'>http://10.148.1.39:8787/status</a>\n",
       "</ul>\n",
       "</td>\n",
       "<td style=\"vertical-align: top; border: 0px solid white\">\n",
       "<h3 style=\"text-align: left;\">Cluster</h3>\n",
       "<ul style=\"text-align: left; list-style:none; margin: 0; padding: 0;\">\n",
       "  <li><b>Workers: </b>40</li>\n",
       "  <li><b>Cores: </b>80</li>\n",
       "  <li><b>Memory: </b>600.00 GB</li>\n",
       "</ul>\n",
       "</td>\n",
       "</tr>\n",
       "</table>"
      ],
      "text/plain": [
       "<Client: 'tcp://10.148.1.39:46430' processes=40 threads=80, memory=600.00 GB>"
      ]
     },
     "execution_count": 6,
     "metadata": {},
     "output_type": "execute_result"
    }
   ],
   "source": [
    "client"
   ]
  },
  {
   "cell_type": "markdown",
   "metadata": {},
   "source": [
    "---\n",
    "\n",
    "## load data"
   ]
  },
  {
   "cell_type": "code",
   "execution_count": 7,
   "metadata": {},
   "outputs": [],
   "source": [
    "root_path = '/home/c11-data/Test_aponte/jetn/'\n",
    "run = 'jet_cfg1_wp6_m1_4km_500a1000j'"
   ]
  },
  {
   "cell_type": "code",
   "execution_count": 8,
   "metadata": {},
   "outputs": [
    {
     "name": "stdout",
     "output_type": "stream",
     "text": [
      "Analysing directory /home/c11-data/Test_aponte/jetn/jet_cfg1_wp6_m1_4km_500a1000j\n",
      "Found 5 segments\n",
      "Found 5 grid files\n",
      "Found 25 his files\n",
      "Found 10 surf files\n",
      "Found 10 sta2 files\n",
      "Found 10 sta1 files\n",
      "Found 5 ave files\n",
      "Found 50 swath files\n",
      "Parameters detected in croco.in :\n",
      "  time step = 300.0 s\n",
      "  theta_s = 5.0\n",
      "  theta_b = 0.0\n",
      "  Hc = 100.0 m\n",
      "  rho0 = 1000.0 kg/m^3\n",
      "Parameters detected in output.mpi :\n",
      "  H = 4000.0 m\n",
      "  Found 9 columns in output.mpi:\n",
      "    STEP\n",
      "    time[DAYS]\n",
      "    KINETIC_ENRG\n",
      "    POTEN_ENRG\n",
      "    TOTAL_ENRG\n",
      "    NET_VOLUME\n",
      "    trd\n",
      "    ENSTROPHY\n",
      "    BTKIN_ENRG\n",
      "Opening datasets:  ['grid', 'his', 'surf', 'sta2', 'sta1', 'ave', 'swath']\n",
      "  grid - 0.0 GB\n",
      "  his - 15.9 GB\n",
      "  surf - 89.3 GB\n",
      "  sta2 - 0.1 GB\n",
      "  sta1 - 0.1 GB\n",
      "  ave - 3.0 GB\n",
      "  swath - 251.1 GB\n",
      "Grid size: (L ,M, N) = (258, 722, 50)\n"
     ]
    }
   ],
   "source": [
    "r = pp.Run(root_path+run, outputs='all', read_zarr=False,\n",
    "           verbose=2)"
   ]
  },
  {
   "cell_type": "markdown",
   "metadata": {},
   "source": [
    "---\n",
    "\n",
    "## store to zarr format"
   ]
  },
  {
   "cell_type": "code",
   "execution_count": 10,
   "metadata": {},
   "outputs": [
    {
     "name": "stdout",
     "output_type": "stream",
     "text": [
      "- grid stored\n",
      "  location: /home/c11-data/Test_aponte/jetn/jet_cfg1_wp6_m1_4km_500a1000j/zarr/grid.zarr \n",
      "  size:     0.0 GB\n",
      "  typical chunks: (722,258) for size (722,258)\n",
      "- his stored\n",
      "  location: /home/c11-data/Test_aponte/jetn/jet_cfg1_wp6_m1_4km_500a1000j/zarr/his.zarr \n",
      "  size:     13.0 GB\n",
      "  typical chunks: (2,50,722,258) for size (25,50,722,258)\n",
      "- surf stored\n",
      "  location: /home/c11-data/Test_aponte/jetn/jet_cfg1_wp6_m1_4km_500a1000j/zarr/surf.zarr \n",
      "  size:     78.2 GB\n",
      "  typical chunks: (2400,722,258) for size (24000,722,258)\n",
      "- sta2 stored\n",
      "  location: /home/c11-data/Test_aponte/jetn/jet_cfg1_wp6_m1_4km_500a1000j/zarr/sta2.zarr \n",
      "  size:     0.1 GB\n",
      "  typical chunks: (72000,50) for size (72000,50)\n",
      "- sta1 stored\n",
      "  location: /home/c11-data/Test_aponte/jetn/jet_cfg1_wp6_m1_4km_500a1000j/zarr/sta1.zarr \n",
      "  size:     0.1 GB\n",
      "  typical chunks: (72000,50) for size (72000,50)\n",
      "- ave stored\n",
      "  location: /home/c11-data/Test_aponte/jetn/jet_cfg1_wp6_m1_4km_500a1000j/zarr/ave.zarr \n",
      "  size:     2.6 GB\n",
      "  typical chunks: (250,50,722) for size (250,50,722)\n",
      "- swath stored\n",
      "  location: /home/c11-data/Test_aponte/jetn/jet_cfg1_wp6_m1_4km_500a1000j/zarr/swath.zarr \n",
      "  size:     218.5 GB\n",
      "  typical chunks: (480,50,722,12) for size (24000,50,722,12)\n"
     ]
    }
   ],
   "source": [
    "%time r.store_zarr(mode='w')"
   ]
  },
  {
   "cell_type": "markdown",
   "metadata": {},
   "source": [
    "---\n",
    "## reload fields and make a plot"
   ]
  },
  {
   "cell_type": "code",
   "execution_count": 11,
   "metadata": {},
   "outputs": [
    {
     "name": "stdout",
     "output_type": "stream",
     "text": [
      "Analysing directory /home/c11-data/Test_aponte/jetn/jet_cfg1_wp6_m1_4km_500a1000j\n",
      "Found 5 segments\n",
      "Found 5 grid files\n",
      "Found 25 his files\n",
      "Found 10 surf files\n",
      "Found 10 sta2 files\n",
      "Found 10 sta1 files\n",
      "Found 5 ave files\n",
      "Found 50 swath files\n",
      "Parameters detected in croco.in :\n",
      "  time step = 300.0 s\n",
      "  theta_s = 5.0\n",
      "  theta_b = 0.0\n",
      "  Hc = 100.0 m\n",
      "  rho0 = 1000.0 kg/m^3\n",
      "Parameters detected in output.mpi :\n",
      "  H = 4000.0 m\n",
      "  Found 9 columns in output.mpi:\n",
      "    STEP\n",
      "    time[DAYS]\n",
      "    KINETIC_ENRG\n",
      "    POTEN_ENRG\n",
      "    TOTAL_ENRG\n",
      "    NET_VOLUME\n",
      "    trd\n",
      "    ENSTROPHY\n",
      "    BTKIN_ENRG\n",
      "Opening datasets:  ['grid', 'his', 'surf', 'sta2', 'sta1', 'ave', 'swath']\n",
      "  grid - 0.0 GB\n",
      "  his - 15.9 GB\n",
      "  surf - 89.3 GB\n",
      "  sta2 - 0.1 GB\n",
      "  sta1 - 0.1 GB\n",
      "  ave - 3.0 GB\n",
      "  swath - 251.1 GB\n",
      "Grid size: (L ,M, N) = (258, 722, 50)\n"
     ]
    }
   ],
   "source": [
    "r = pp.Run(root_path+run, outputs='all', verbose=2)"
   ]
  },
  {
   "cell_type": "code",
   "execution_count": 14,
   "metadata": {},
   "outputs": [
    {
     "data": {
      "image/png": "[encoded data removed]",
      "text/plain": [
       "<Figure size 432x288 with 2 Axes>"
      ]
     },
     "metadata": {
      "needs_background": "light"
     },
     "output_type": "display_data"
    }
   ],
   "source": [
    "ax = plt.subplot()\n",
    "r['his'].T_a.isel(time=-1,s_rho=-1).plot(ax=ax)\n",
    "ax.set_aspect('equal','box')"
   ]
  },
  {
   "cell_type": "markdown",
   "metadata": {},
   "source": [
    "---\n",
    "\n",
    "## delete netcdf files\n",
    "\n",
    "Obviously you need to be sure of yourself to do this ..."
   ]
  },
  {
   "cell_type": "code",
   "execution_count": 10,
   "metadata": {},
   "outputs": [
    {
     "name": "stdout",
     "output_type": "stream",
     "text": [
      "/home/datawork-lops-osi/equinox/jetn/tmp/jet_cfg1_wp6_4km_0a1000j/t1/ave_00010101-00010410.nc deleted\n",
      "/home/datawork-lops-osi/equinox/jetn/tmp/jet_cfg1_wp6_4km_0a1000j/t2/ave_00010101-00010410.nc deleted\n",
      "/home/datawork-lops-osi/equinox/jetn/tmp/jet_cfg1_wp6_4km_0a1000j/t1/surf_00010101-00010219.nc deleted\n",
      "/home/datawork-lops-osi/equinox/jetn/tmp/jet_cfg1_wp6_4km_0a1000j/t1/surf_00010220-00010410.nc deleted\n",
      "/home/datawork-lops-osi/equinox/jetn/tmp/jet_cfg1_wp6_4km_0a1000j/t2/surf_00010101-00010219.nc deleted\n",
      "/home/datawork-lops-osi/equinox/jetn/tmp/jet_cfg1_wp6_4km_0a1000j/t2/surf_00010220-00010410.nc deleted\n",
      "/home/datawork-lops-osi/equinox/jetn/tmp/jet_cfg1_wp6_4km_0a1000j/t1/grid.nc deleted\n",
      "/home/datawork-lops-osi/equinox/jetn/tmp/jet_cfg1_wp6_4km_0a1000j/t2/grid.nc deleted\n",
      "/home/datawork-lops-osi/equinox/jetn/tmp/jet_cfg1_wp6_4km_0a1000j/t1/his_00010101-00010120.nc deleted\n",
      "/home/datawork-lops-osi/equinox/jetn/tmp/jet_cfg1_wp6_4km_0a1000j/t1/his_00010121-00010209.nc deleted\n",
      "/home/datawork-lops-osi/equinox/jetn/tmp/jet_cfg1_wp6_4km_0a1000j/t1/his_00010210-00010301.nc deleted\n",
      "/home/datawork-lops-osi/equinox/jetn/tmp/jet_cfg1_wp6_4km_0a1000j/t1/his_00010302-00010321.nc deleted\n",
      "/home/datawork-lops-osi/equinox/jetn/tmp/jet_cfg1_wp6_4km_0a1000j/t1/his_00010322-00010410.nc deleted\n",
      "/home/datawork-lops-osi/equinox/jetn/tmp/jet_cfg1_wp6_4km_0a1000j/t2/his_00010101-00010120.nc deleted\n",
      "/home/datawork-lops-osi/equinox/jetn/tmp/jet_cfg1_wp6_4km_0a1000j/t2/his_00010121-00010209.nc deleted\n",
      "/home/datawork-lops-osi/equinox/jetn/tmp/jet_cfg1_wp6_4km_0a1000j/t2/his_00010210-00010301.nc deleted\n",
      "/home/datawork-lops-osi/equinox/jetn/tmp/jet_cfg1_wp6_4km_0a1000j/t2/his_00010302-00010321.nc deleted\n",
      "/home/datawork-lops-osi/equinox/jetn/tmp/jet_cfg1_wp6_4km_0a1000j/t2/his_00010322-00010410.nc deleted\n"
     ]
    }
   ],
   "source": [
    "r.delete_nc()"
   ]
  },
  {
   "cell_type": "markdown",
   "metadata": {},
   "source": [
    "---"
   ]
  },
  {
   "cell_type": "code",
   "execution_count": 15,
   "metadata": {},
   "outputs": [
    {
     "name": "stderr",
     "output_type": "stream",
     "text": [
      "distributed.client - ERROR - Failed to reconnect to scheduler after 10.00 seconds, closing client\n",
      "_GatheringFuture exception was never retrieved\n",
      "future: <_GatheringFuture finished exception=CancelledError()>\n",
      "concurrent.futures._base.CancelledError\n"
     ]
    }
   ],
   "source": [
    "cluster.close()"
   ]
  },
  {
   "cell_type": "code",
   "execution_count": null,
   "metadata": {},
   "outputs": [],
   "source": []
  }
 ],
 "metadata": {
  "kernelspec": {
   "display_name": "Python 3",
   "language": "python",
   "name": "python3"
  },
  "language_info": {
   "codemirror_mode": {
    "name": "ipython",
    "version": 3
   },
   "file_extension": ".py",
   "mimetype": "text/x-python",
   "name": "python",
   "nbconvert_exporter": "python",
   "pygments_lexer": "ipython3",
   "version": "3.7.6"
  }
 },
 "nbformat": 4,
 "nbformat_minor": 4
}
