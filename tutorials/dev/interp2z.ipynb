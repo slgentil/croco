{
 "cells": [
  {
   "cell_type": "code",
   "execution_count": 1,
   "metadata": {},
   "outputs": [],
   "source": [
    "import numpy as np\n",
    "import xarray as xr\n",
    "import crocosi.gridop as gop\n",
    "\n",
    "\n",
    "%matplotlib inline\n",
    "from matplotlib import pyplot as plt\n",
    "\n",
    "from itertools import permutations"
   ]
  },
  {
   "cell_type": "code",
   "execution_count": 2,
   "metadata": {},
   "outputs": [
    {
     "data": {
      "text/html": [
       "<table style=\"border: 2px solid white;\">\n",
       "<tr>\n",
       "<td style=\"vertical-align: top; border: 0px solid white\">\n",
       "<h3 style=\"text-align: left;\">Client</h3>\n",
       "<ul style=\"text-align: left; list-style: none; margin: 0; padding: 0;\">\n",
       "  <li><b>Scheduler: </b>tcp://127.0.0.1:59315</li>\n",
       "  <li><b>Dashboard: </b><a href='http://127.0.0.1:8787/status' target='_blank'>http://127.0.0.1:8787/status</a>\n",
       "</ul>\n",
       "</td>\n",
       "<td style=\"vertical-align: top; border: 0px solid white\">\n",
       "<h3 style=\"text-align: left;\">Cluster</h3>\n",
       "<ul style=\"text-align: left; list-style:none; margin: 0; padding: 0;\">\n",
       "  <li><b>Workers: </b>4</li>\n",
       "  <li><b>Cores: </b>4</li>\n",
       "  <li><b>Memory: </b>17.18 GB</li>\n",
       "</ul>\n",
       "</td>\n",
       "</tr>\n",
       "</table>"
      ],
      "text/plain": [
       "<Client: 'tcp://127.0.0.1:59315' processes=4 threads=4, memory=17.18 GB>"
      ]
     },
     "execution_count": 2,
     "metadata": {},
     "output_type": "execute_result"
    }
   ],
   "source": [
    "from dask.distributed import Client, LocalCluster\n",
    "cluster = LocalCluster()\n",
    "client = Client(cluster)\n",
    "client"
   ]
  },
  {
   "cell_type": "code",
   "execution_count": 3,
   "metadata": {},
   "outputs": [],
   "source": [
    "# generate synthetic data\n",
    "dims = {'time':3, 'z':5, 'y':20, 'x':10}\n",
    "vmap = {'time':0., 'z':1., 'y':0., 'x':0.}"
   ]
  },
  {
   "cell_type": "code",
   "execution_count": 4,
   "metadata": {},
   "outputs": [
    {
     "data": {
      "text/plain": [
       "[('time', 'z', 'y'),\n",
       " ('time', 'z', 'x'),\n",
       " ('time', 'y', 'z'),\n",
       " ('time', 'x', 'z'),\n",
       " ('z', 'time', 'y'),\n",
       " ('z', 'time', 'x'),\n",
       " ('z', 'y', 'time'),\n",
       " ('z', 'y', 'x'),\n",
       " ('z', 'x', 'time'),\n",
       " ('z', 'x', 'y'),\n",
       " ('y', 'time', 'z'),\n",
       " ('y', 'z', 'time'),\n",
       " ('y', 'z', 'x'),\n",
       " ('y', 'x', 'z'),\n",
       " ('x', 'time', 'z'),\n",
       " ('x', 'z', 'time'),\n",
       " ('x', 'z', 'y'),\n",
       " ('x', 'y', 'z')]"
      ]
     },
     "execution_count": 4,
     "metadata": {},
     "output_type": "execute_result"
    }
   ],
   "source": [
    "ndim = 3\n",
    "def get_P(ndim):\n",
    "    return [p for p in list(permutations(dims.keys(),ndim)) if 'z' in p]\n",
    "\n",
    "#for p in P\n",
    "# ...\n",
    "get_P(3)"
   ]
  },
  {
   "cell_type": "code",
   "execution_count": 5,
   "metadata": {},
   "outputs": [],
   "source": [
    "def get_ds(p, chunks=None):\n",
    "    \"\"\" Create a synthetic dataset based on some dimension order p\n",
    "    \"\"\"\n",
    "\n",
    "    # assemble coordinates\n",
    "    _coords = {d: np.arange(dims[d]) for d in p}\n",
    "    _coords.update(z_target1d=np.arange(.5,6))\n",
    "    ds = xr.Dataset(coords=_coords)\n",
    "\n",
    "    # create data variable and initial grid\n",
    "    ds['v'] = sum([ds[d]*vmap[d] for d in p])\n",
    "    ds['z_v'] = ds['z'] + 0.*ds['v']\n",
    "    # the line above necessarily imposes a dimension order which may vary\n",
    "    # should loop around all potential dimension order for zv\n",
    "\n",
    "    # create target grid\n",
    "    ds['z_target'] = ds['z_target1d']\n",
    "    # need to vary number of dimensions and their order on the line above\n",
    "    if chunks:\n",
    "        ds = ds.chunk(chunks)\n",
    "    return ds"
   ]
  },
  {
   "cell_type": "code",
   "execution_count": 6,
   "metadata": {},
   "outputs": [
    {
     "name": "stdout",
     "output_type": "stream",
     "text": [
      "---------\n",
      "v shape: ['z', 'y', 'time']\n",
      "Input shape = (5, 20, 3)\n",
      "Ouput shape = (6, 20, 3)\n",
      "[0.5 1.5 2.5 3.5 nan nan]\n",
      "---------\n",
      "v shape: ['z', 'y']\n",
      "Input shape = (5, 20)\n",
      "Ouput shape = (6, 20)\n",
      "[0.5 1.5 2.5 3.5 nan nan]\n",
      "---------\n",
      "v shape: ['z']\n",
      "Input shape = (5,)\n",
      "Ouput shape = (6,)\n",
      "[0.5 1.5 2.5 3.5 nan nan]\n"
     ]
    }
   ],
   "source": [
    "def test_interp2z_np_3d(ds):\n",
    "    #print(ds)\n",
    "    out = gop.interp2z_np_3d(ds['z_target'].values, \n",
    "                          (0.*ds['v']+ds['z_v']).values,\n",
    "                          ds['v'].values, \n",
    "                          b_extrap=0, t_extrap=0)\n",
    "    print('---------')\n",
    "    print('v shape: {}'.format(list(ds.v.dims)))    \n",
    "    print('Input shape = {}'.format(ds['v'].values.shape))\n",
    "    print('Ouput shape = {}'.format(out.shape))\n",
    "    if out.ndim==3:\n",
    "        out = out[:,0,0]\n",
    "    elif out.ndim==2:\n",
    "        out = out[:,0]\n",
    "    print(out)\n",
    "    #hdl = plt.plot(ds['z_target1d'].values, out)\n",
    "    #plt.grid()\n",
    "    \n",
    "test_interp2z_np_3d(get_ds(get_P(3)[6]))\n",
    "test_interp2z_np_3d(get_ds(get_P(2)[2]))\n",
    "test_interp2z_np_3d(get_ds(('z',)))"
   ]
  },
  {
   "cell_type": "code",
   "execution_count": 7,
   "metadata": {},
   "outputs": [
    {
     "data": {
      "text/plain": [
       "[('time', 'z', 'y', 'x'),\n",
       " ('time', 'z', 'x', 'y'),\n",
       " ('time', 'y', 'z', 'x'),\n",
       " ('time', 'y', 'x', 'z'),\n",
       " ('time', 'x', 'z', 'y'),\n",
       " ('time', 'x', 'y', 'z'),\n",
       " ('z', 'time', 'y', 'x'),\n",
       " ('z', 'time', 'x', 'y'),\n",
       " ('z', 'y', 'time', 'x'),\n",
       " ('z', 'y', 'x', 'time'),\n",
       " ('z', 'x', 'time', 'y'),\n",
       " ('z', 'x', 'y', 'time'),\n",
       " ('y', 'time', 'z', 'x'),\n",
       " ('y', 'time', 'x', 'z'),\n",
       " ('y', 'z', 'time', 'x'),\n",
       " ('y', 'z', 'x', 'time'),\n",
       " ('y', 'x', 'time', 'z'),\n",
       " ('y', 'x', 'z', 'time'),\n",
       " ('x', 'time', 'z', 'y'),\n",
       " ('x', 'time', 'y', 'z'),\n",
       " ('x', 'z', 'time', 'y'),\n",
       " ('x', 'z', 'y', 'time'),\n",
       " ('x', 'y', 'time', 'z'),\n",
       " ('x', 'y', 'z', 'time')]"
      ]
     },
     "execution_count": 7,
     "metadata": {},
     "output_type": "execute_result"
    }
   ],
   "source": [
    "get_P(4)"
   ]
  },
  {
   "cell_type": "code",
   "execution_count": 8,
   "metadata": {},
   "outputs": [
    {
     "name": "stdout",
     "output_type": "stream",
     "text": [
      "---------\n",
      "v shape: ['time', 'z', 'y', 'x']\n",
      "Input shape = (3, 5, 20, 10)\n",
      "Ouput shape = (3, 6, 20, 10)\n",
      "[0.5 1.5 2.5 3.5 nan nan]\n",
      "---------\n",
      "v shape: ['z', 'time', 'y', 'x']\n",
      "Input shape = (5, 3, 20, 10)\n",
      "Ouput shape = (6, 3, 20, 10)\n",
      "[0.5 1.5 2.5 3.5 nan nan]\n",
      "---------\n",
      "v shape: ['z', 'y', 'time']\n",
      "Input shape = (5, 20, 3)\n",
      "Ouput shape = (6, 20, 3)\n",
      "[0.5 1.5 2.5 3.5 nan nan]\n",
      "---------\n",
      "v shape: ['z', 'y']\n",
      "Input shape = (5, 20)\n",
      "Ouput shape = (6, 20)\n",
      "[0.5 1.5 2.5 3.5 nan nan]\n",
      "---------\n",
      "v shape: ['z']\n",
      "Input shape = (5,)\n",
      "Ouput shape = (6,)\n",
      "[0.5 1.5 2.5 3.5 nan nan]\n"
     ]
    }
   ],
   "source": [
    "def test_interp2z_np(ds):\n",
    "    #print(ds)\n",
    "    z_pos = ds.v._get_axis_num('z')\n",
    "    z_size = ds.dims['z']\n",
    "    out = gop.interp2z_np(ds['z_target'].values, \n",
    "                          (0.*ds['v']+ds['z_v']).values,\n",
    "                          ds['v'].values, \n",
    "                          zdim=(z_pos, z_size),\n",
    "                          b_extrap=0, t_extrap=0)\n",
    "    print('---------')\n",
    "    print('v shape: {}'.format(list(ds.v.dims)))\n",
    "    print('Input shape = {}'.format(ds['v'].values.shape))\n",
    "    print('Ouput shape = {}'.format(out.shape))\n",
    "    if out.ndim==4:\n",
    "        out = out.swapaxes(0,z_pos)[:,0,0,0]\n",
    "    elif out.ndim==3:\n",
    "        out = out[:,0,0]\n",
    "    elif out.ndim==2:\n",
    "        out = out[:,0]\n",
    "    print(out)\n",
    "    \n",
    "test_interp2z_np(get_ds(get_P(4)[0]))\n",
    "test_interp2z_np(get_ds(get_P(4)[6]))\n",
    "test_interp2z_np(get_ds(get_P(3)[6]))\n",
    "test_interp2z_np(get_ds(get_P(2)[2]))\n",
    "test_interp2z_np(get_ds(('z',)))"
   ]
  },
  {
   "cell_type": "code",
   "execution_count": 9,
   "metadata": {},
   "outputs": [
    {
     "name": "stdout",
     "output_type": "stream",
     "text": [
      "---------\n",
      "v shape: ['time', 'z', 'y', 'x']\n",
      "Input shape = (3, 5, 20, 10)\n",
      "Ouput shape = (3, 6, 20, 10)\n",
      "[0.5 1.5 2.5 3.5 nan nan]\n",
      "---------\n",
      "v shape: ['z', 'time', 'y', 'x']\n",
      "Input shape = (5, 3, 20, 10)\n",
      "Ouput shape = (6, 3, 20, 10)\n",
      "[0.5 1.5 2.5 3.5 nan nan]\n",
      "---------\n",
      "v shape: ['z', 'y', 'time']\n",
      "Input shape = (5, 20, 3)\n",
      "Ouput shape = (6, 20, 3)\n",
      "[0.5 1.5 2.5 3.5 nan nan]\n",
      "---------\n",
      "v shape: ['z', 'y']\n",
      "Input shape = (5, 20)\n",
      "Ouput shape = (6, 20)\n",
      "[0.5 1.5 2.5 3.5 nan nan]\n",
      "---------\n",
      "v shape: ['z']\n",
      "Input shape = (5,)\n",
      "Ouput shape = (6,)\n",
      "[0.5 1.5 2.5 3.5 nan nan]\n"
     ]
    }
   ],
   "source": [
    "def test_interp2z(ds):\n",
    "    #print(ds)\n",
    "    out = gop.interp2z(ds['z_target'], ds['v'], \n",
    "                          (0.*ds['v']+ds['z_v']),\n",
    "                          b_extrap=0, t_extrap=0)\n",
    "    print('---------')\n",
    "    print('v shape: {}'.format(list(ds.v.dims)))\n",
    "    print('Input shape = {}'.format(ds['v'].values.shape))\n",
    "    print('Ouput shape = {}'.format(out.shape))\n",
    "    if out.ndim==4:\n",
    "        out = out.swapaxes(0,z_pos)[:,0,0,0]\n",
    "    elif out.ndim==3:\n",
    "        out = out[:,0,0]\n",
    "    elif out.ndim==2:\n",
    "        out = out[:,0]\n",
    "    print(out)\n",
    "    \n",
    "test_interp2z_np(get_ds(get_P(4)[0]))\n",
    "test_interp2z_np(get_ds(get_P(4)[6]))\n",
    "test_interp2z_np(get_ds(get_P(3)[6]))\n",
    "test_interp2z_np(get_ds(get_P(2)[2]))\n",
    "test_interp2z_np(get_ds(('z',)))"
   ]
  },
  {
   "cell_type": "code",
   "execution_count": 16,
   "metadata": {},
   "outputs": [
    {
     "name": "stdout",
     "output_type": "stream",
     "text": [
      "---------\n",
      "v shape: ['time', 'z', 'y', 'x']\n",
      "Input shape = (3, 5, 20, 10)\n",
      "Ouput shape = (3, 6, 20, 10)\n",
      "[0.5 1.5 2.5 3.5 nan nan]\n",
      "---------\n",
      "v shape: ['time', 'z', 'y', 'x']\n",
      "Input shape = (3, 5, 20, 10)\n",
      "Ouput shape = (3, 6, 20, 10)\n",
      "[0.5 1.5 2.5 3.5 nan nan]\n",
      "---------\n",
      "v shape: ['time', 'z', 'y', 'x']\n",
      "Input shape = (3, 5, 20, 10)\n",
      "Ouput shape = (3, 6, 20, 10)\n",
      "[0.5 1.5 2.5 3.5 nan nan]\n"
     ]
    }
   ],
   "source": [
    "def test_interp2z(ds):\n",
    "    #print(ds)\n",
    "    out = gop.interp2z(ds['z_target'], ds['v'], \n",
    "                       (0.*ds['v']+ds['z_v']),\n",
    "                       zt_dim='z_target1d',\n",
    "                       b_extrap=0, t_extrap=0).compute()\n",
    "    print('---------')\n",
    "    print('v shape: {}'.format(list(ds.v.dims)))\n",
    "    print('Input shape = {}'.format(ds['v'].values.shape))\n",
    "    print('Ouput shape = {}'.format(out.shape))\n",
    "    z_pos = ds.v._get_axis_num('z')\n",
    "    if out.ndim==4:\n",
    "        out = out.data.swapaxes(0,z_pos)[:,0,0,0]\n",
    "    elif out.ndim==3:\n",
    "        out = out[:,0,0]\n",
    "    elif out.ndim==2:\n",
    "        out = out[:,0]\n",
    "    print(out)\n",
    "\n",
    "test_interp2z(get_ds(get_P(4)[0], chunks={'x': 2}))\n",
    "test_interp2z(get_ds(get_P(4)[0]))\n",
    "test_interp2z(get_ds(get_P(4)[0], chunks=2))\n",
    "#test_interp2z(get_ds(get_P(4)[6]))\n",
    "#test_interp2z(get_ds(get_P(3)[6]))\n",
    "#test_interp2z(get_ds(get_P(2)[2]))\n",
    "#test_interp2z(get_ds(('z',)))"
   ]
  },
  {
   "cell_type": "code",
   "execution_count": null,
   "metadata": {},
   "outputs": [],
   "source": []
  },
  {
   "cell_type": "code",
   "execution_count": null,
   "metadata": {},
   "outputs": [],
   "source": []
  },
  {
   "cell_type": "code",
   "execution_count": 11,
   "metadata": {},
   "outputs": [],
   "source": [
    "ds = get_ds(get_P(4)[0], chunks={'x': 2})"
   ]
  },
  {
   "cell_type": "code",
   "execution_count": 12,
   "metadata": {},
   "outputs": [
    {
     "data": {
      "text/plain": [
       "<generator object <genexpr> at 0x10312fbd0>"
      ]
     },
     "execution_count": 12,
     "metadata": {},
     "output_type": "execute_result"
    }
   ],
   "source": [
    "(d for d in ds.v.dims)"
   ]
  },
  {
   "cell_type": "code",
   "execution_count": 13,
   "metadata": {},
   "outputs": [
    {
     "data": {
      "text/plain": [
       "['time', '', 'y', 'x']"
      ]
     },
     "execution_count": 13,
     "metadata": {},
     "output_type": "execute_result"
    }
   ],
   "source": [
    "['' if d=='z' else d for d in list(ds.v.dims)]"
   ]
  },
  {
   "cell_type": "code",
   "execution_count": 14,
   "metadata": {},
   "outputs": [
    {
     "data": {
      "text/html": [
       "<pre>&lt;xarray.Dataset&gt;\n",
       "Dimensions:     (time: 3, x: 10, y: 20, z: 5, z_target1d: 6)\n",
       "Coordinates:\n",
       "  * time        (time) int64 0 1 2\n",
       "  * z           (z) int64 0 1 2 3 4\n",
       "  * y           (y) int64 0 1 2 3 4 5 6 7 8 9 10 11 12 13 14 15 16 17 18 19\n",
       "  * x           (x) int64 0 1 2 3 4 5 6 7 8 9\n",
       "  * z_target1d  (z_target1d) float64 0.5 1.5 2.5 3.5 4.5 5.5\n",
       "Data variables:\n",
       "    v           (time, z, y, x) float64 dask.array&lt;chunksize=(3, 5, 20, 2), meta=np.ndarray&gt;\n",
       "    z_v         (z, time, y, x) float64 dask.array&lt;chunksize=(5, 3, 20, 2), meta=np.ndarray&gt;\n",
       "    z_target    (z_target1d) float64 0.5 1.5 2.5 3.5 4.5 5.5</pre>"
      ],
      "text/plain": [
       "<xarray.Dataset>\n",
       "Dimensions:     (time: 3, x: 10, y: 20, z: 5, z_target1d: 6)\n",
       "Coordinates:\n",
       "  * time        (time) int64 0 1 2\n",
       "  * z           (z) int64 0 1 2 3 4\n",
       "  * y           (y) int64 0 1 2 3 4 5 6 7 8 9 10 11 12 13 14 15 16 17 18 19\n",
       "  * x           (x) int64 0 1 2 3 4 5 6 7 8 9\n",
       "  * z_target1d  (z_target1d) float64 0.5 1.5 2.5 3.5 4.5 5.5\n",
       "Data variables:\n",
       "    v           (time, z, y, x) float64 dask.array<chunksize=(3, 5, 20, 2), meta=np.ndarray>\n",
       "    z_v         (z, time, y, x) float64 dask.array<chunksize=(5, 3, 20, 2), meta=np.ndarray>\n",
       "    z_target    (z_target1d) float64 0.5 1.5 2.5 3.5 4.5 5.5"
      ]
     },
     "execution_count": 14,
     "metadata": {},
     "output_type": "execute_result"
    }
   ],
   "source": [
    "ds"
   ]
  },
  {
   "cell_type": "code",
   "execution_count": 15,
   "metadata": {},
   "outputs": [
    {
     "data": {
      "text/plain": [
       "(<xarray.DataArray 'v' (time: 3, z: 5, y: 20, x: 10)>\n",
       " dask.array<xarray-v, shape=(3, 5, 20, 10), dtype=float64, chunksize=(3, 5, 20, 2), chunktype=numpy.ndarray>\n",
       " Coordinates:\n",
       "   * time     (time) int64 0 1 2\n",
       "   * z        (z) int64 0 1 2 3 4\n",
       "   * y        (y) int64 0 1 2 3 4 5 6 7 8 9 10 11 12 13 14 15 16 17 18 19\n",
       "   * x        (x) int64 0 1 2 3 4 5 6 7 8 9,\n",
       " <xarray.DataArray 'z_v' (time: 3, z: 5, y: 20, x: 10)>\n",
       " dask.array<transpose, shape=(3, 5, 20, 10), dtype=float64, chunksize=(3, 5, 20, 2), chunktype=numpy.ndarray>\n",
       " Coordinates:\n",
       "   * time     (time) int64 0 1 2\n",
       "   * z        (z) int64 0 1 2 3 4\n",
       "   * y        (y) int64 0 1 2 3 4 5 6 7 8 9 10 11 12 13 14 15 16 17 18 19\n",
       "   * x        (x) int64 0 1 2 3 4 5 6 7 8 9)"
      ]
     },
     "execution_count": 15,
     "metadata": {},
     "output_type": "execute_result"
    }
   ],
   "source": [
    "#xr.align(ds.v, ds.z_v, join='left')\n",
    "xr.broadcast(ds.v, ds.z_v)"
   ]
  },
  {
   "cell_type": "markdown",
   "metadata": {},
   "source": [
    "def get_ds(p, chunks=None):\n",
    "    \"\"\" Create a synthetic dataset based on some dimension order p\n",
    "    \"\"\"\n",
    "\n",
    "    # assemble coordinates\n",
    "    _coords = {d: np.arange(dims[d]) for d in p}\n",
    "    _coords.update(z_target1d=np.arange(.5,6))\n",
    "    ds = xr.Dataset(coords=_coords)\n",
    "\n",
    "    # create data variable and initial grid\n",
    "    #ds['v'] = 0.\n",
    "    #for d in p:\n",
    "    #    ds['v'] = ds['v'] + ds[d]*vmap[d]\n",
    "    #ds['v'] = sum([ds[d]*vmap[d] for d in p])\n",
    "    #ds['z_v'] = ds['z'] + 0.*ds['v']\n",
    "    z = xr.DataArray(np.arange(dims['z']), dims=['z']).rename('z_v')\n",
    "    v = xr.DataArray(np.broadcast_to(z.data[:,None,None],(z.size, 10, 20)),\n",
    "                     dims=['z', 'y', 'x']).rename('v')\n",
    "    zt = xr.DataArray(np.arange(.5,6), dims=['z_target1d']).rename('z_target')\n",
    "    ds = xr.merge([z,v,zt])\n",
    "    \n",
    "    # the line above necessarily imposes a dimension order which may vary\n",
    "    # should loop around all potential dimension order for zv\n",
    "\n",
    "    # create target grid\n",
    "    #ds['z_target'] = ds['z_target1d']\n",
    "    # need to vary number of dimensions and their order on the line above\n",
    "    if chunks:\n",
    "        ds = ds.chunk(chunks)\n",
    "    return ds\n",
    "\n",
    "ds = get_ds(get_P(4)[0], chunks=2)\n",
    "ds.mean().compute()\n",
    "\n",
    "xr.apply_ufunc(np.mean, ds['v'], (1,2), dask='parallelized', output_dtypes=[np.float64])"
   ]
  }
 ],
 "metadata": {
  "kernelspec": {
   "display_name": "Python 3",
   "language": "python",
   "name": "python3"
  },
  "language_info": {
   "codemirror_mode": {
    "name": "ipython",
    "version": 3
   },
   "file_extension": ".py",
   "mimetype": "text/x-python",
   "name": "python",
   "nbconvert_exporter": "python",
   "pygments_lexer": "ipython3",
   "version": "3.7.6"
  }
 },
 "nbformat": 4,
 "nbformat_minor": 4
}
