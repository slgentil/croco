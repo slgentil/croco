{
 "cells": [
  {
   "cell_type": "markdown",
   "metadata": {},
   "source": [
    "# Tests of vertical interpolation code\n",
    "\n",
    "Relevant methods are located in `crocosi/gridop.py`:\n",
    "- `interp2z_np_3d`: interpolates 1D/2D/3D arrays along their first dimensions\n",
    "- `interp2z_np`: more flexible interpolation, allows for an extra dimension on input grid and data.\n",
    "- `interp2z`: xarray based wrapper that may distribute the interpolation across workers\n",
    "\n",
    "Only interp2z is tested for now.\n",
    "\n",
    "We do not test extrapolations parameters"
   ]
  },
  {
   "cell_type": "code",
   "execution_count": 1,
   "metadata": {},
   "outputs": [],
   "source": [
    "import numpy as np\n",
    "import xarray as xr\n",
    "import crocosi.gridop as gop\n",
    "\n",
    "%matplotlib inline\n",
    "from matplotlib import pyplot as plt\n",
    "\n",
    "from itertools import permutations\n",
    "\n",
    "from time import sleep"
   ]
  },
  {
   "cell_type": "code",
   "execution_count": 2,
   "metadata": {},
   "outputs": [
    {
     "data": {
      "text/html": [
       "<table style=\"border: 2px solid white;\">\n",
       "<tr>\n",
       "<td style=\"vertical-align: top; border: 0px solid white\">\n",
       "<h3 style=\"text-align: left;\">Client</h3>\n",
       "<ul style=\"text-align: left; list-style: none; margin: 0; padding: 0;\">\n",
       "  <li><b>Scheduler: </b>tcp://127.0.0.1:50573</li>\n",
       "  <li><b>Dashboard: </b><a href='http://127.0.0.1:8787/status' target='_blank'>http://127.0.0.1:8787/status</a>\n",
       "</ul>\n",
       "</td>\n",
       "<td style=\"vertical-align: top; border: 0px solid white\">\n",
       "<h3 style=\"text-align: left;\">Cluster</h3>\n",
       "<ul style=\"text-align: left; list-style:none; margin: 0; padding: 0;\">\n",
       "  <li><b>Workers: </b>4</li>\n",
       "  <li><b>Cores: </b>4</li>\n",
       "  <li><b>Memory: </b>17.18 GB</li>\n",
       "</ul>\n",
       "</td>\n",
       "</tr>\n",
       "</table>"
      ],
      "text/plain": [
       "<Client: 'tcp://127.0.0.1:50573' processes=4 threads=4, memory=17.18 GB>"
      ]
     },
     "execution_count": 2,
     "metadata": {},
     "output_type": "execute_result"
    }
   ],
   "source": [
    "from dask.distributed import Client, LocalCluster\n",
    "cluster = LocalCluster()\n",
    "client = Client(cluster)\n",
    "client"
   ]
  },
  {
   "cell_type": "markdown",
   "metadata": {},
   "source": [
    "---\n",
    "\n",
    "## utils"
   ]
  },
  {
   "cell_type": "code",
   "execution_count": 3,
   "metadata": {},
   "outputs": [
    {
     "name": "stdout",
     "output_type": "stream",
     "text": [
      "z_target = [-0.5  0.5  1.5  2.5  3.5  4.5  5.5  6.5  7.5  8.5  9.5 10.5]\n",
      "v_truth = [nan 0.5 1.5 2.5 3.5 4.5 5.5 6.5 7.5 8.5 nan nan]\n"
     ]
    }
   ],
   "source": [
    "# set synthetic data dimension and parameters\n",
    "\n",
    "# input vertical grid dimensions\n",
    "dims = {'time':5, 'z':10, 'y':15, 'x':200}\n",
    "vmap = {'time':0., 'z':1., 'y':0., 'x':0.}\n",
    "\n",
    "# potential dimensions of the target vertical grid\n",
    "dims_t = ['z_target1d','y','x']\n",
    "\n",
    "# target vertical grid\n",
    "z_target = -.5+np.arange(dims['z']+2)\n",
    "\n",
    "# true value of the interpolated field\n",
    "z = np.arange(dims['z'])\n",
    "v_truth = z_target + 0.\n",
    "v_truth[z_target<z[0]]=np.NaN\n",
    "v_truth[z_target>z[-1]]=np.NaN\n",
    "print('z_target = {}'.format(z_target))\n",
    "print('v_truth = {}'.format(v_truth))"
   ]
  },
  {
   "cell_type": "code",
   "execution_count": 4,
   "metadata": {},
   "outputs": [],
   "source": [
    "def get_dimension_permutations(ndim, with_dims=None):\n",
    "    \"\"\" Generate permutation of input variable dimensions\n",
    "    \n",
    "    Parameters\n",
    "    ----------\n",
    "    ndim: int\n",
    "        Number of dimensions\n",
    "    with_dims: list, optional\n",
    "        Dimensions that required to appear\n",
    "    \"\"\"\n",
    "    P = list(permutations(dims.keys(),ndim))\n",
    "    if with_dims:\n",
    "        P = [p for p in P if all([d in p for d in with_dims])]\n",
    "    return [p for p in P if 'z' in p]\n",
    "\n",
    "def get_ztarget_dimension_permutations(ndim, dims=None):\n",
    "    \"\"\" Generate permutation of target variable dimensions\n",
    "    \n",
    "    Parameters\n",
    "    ----------\n",
    "    ndim: int\n",
    "        Number of dimensions\n",
    "    dims: list, optional\n",
    "        Dimensions used on top of z_target1d\n",
    "    \"\"\"    \n",
    "    if dims:\n",
    "        P = list(permutations(['z_target1d']+dims, ndim))\n",
    "    else:\n",
    "        P = list(permutations(dims_t, ndim))\n",
    "    return [p for p in P if 'z_target1d' in p]"
   ]
  },
  {
   "cell_type": "code",
   "execution_count": 5,
   "metadata": {},
   "outputs": [
    {
     "data": {
      "text/plain": [
       "[('time', 'z', 'y'),\n",
       " ('time', 'z', 'x'),\n",
       " ('time', 'y', 'z'),\n",
       " ('time', 'x', 'z'),\n",
       " ('z', 'time', 'y'),\n",
       " ('z', 'time', 'x'),\n",
       " ('z', 'y', 'time'),\n",
       " ('z', 'y', 'x'),\n",
       " ('z', 'x', 'time'),\n",
       " ('z', 'x', 'y'),\n",
       " ('y', 'time', 'z'),\n",
       " ('y', 'z', 'time'),\n",
       " ('y', 'z', 'x'),\n",
       " ('y', 'x', 'z'),\n",
       " ('x', 'time', 'z'),\n",
       " ('x', 'z', 'time'),\n",
       " ('x', 'z', 'y'),\n",
       " ('x', 'y', 'z')]"
      ]
     },
     "execution_count": 5,
     "metadata": {},
     "output_type": "execute_result"
    }
   ],
   "source": [
    "# example of dimension permutations for input variables\n",
    "get_dimension_permutations(3)"
   ]
  },
  {
   "cell_type": "code",
   "execution_count": 6,
   "metadata": {},
   "outputs": [
    {
     "data": {
      "text/plain": [
       "[('z_target1d', 'y', 'x'),\n",
       " ('z_target1d', 'x', 'y'),\n",
       " ('y', 'z_target1d', 'x'),\n",
       " ('y', 'x', 'z_target1d'),\n",
       " ('x', 'z_target1d', 'y'),\n",
       " ('x', 'y', 'z_target1d')]"
      ]
     },
     "execution_count": 6,
     "metadata": {},
     "output_type": "execute_result"
    }
   ],
   "source": [
    "# example of dimension permutations for the target grid\n",
    "get_ztarget_dimension_permutations(3)"
   ]
  },
  {
   "cell_type": "code",
   "execution_count": 7,
   "metadata": {},
   "outputs": [],
   "source": [
    "# synthetic data generator\n",
    "def get_synthetic_data(input_p, zt_p=None, chunks=None, numpy=False):\n",
    "    \"\"\" Create a synthetic dataset based on some dimension permutation\n",
    "    Parameters\n",
    "    ----------\n",
    "    input_p: list\n",
    "        Permutation of dimensions for input variables (e.g. v and z)\n",
    "    zt_p: list, optional\n",
    "        Permutation of dimensions for target grid zt\n",
    "    input_chunks: dict, int\n",
    "        Chunks for input variables\n",
    "    np: boolean\n",
    "        Flag in order to output numpy arrays\n",
    "    \"\"\"\n",
    "\n",
    "    # assemble coordinates\n",
    "    _coords = {d: np.arange(size) for d, size in dims.items()}\n",
    "    _coords.update(z_target1d=z_target)\n",
    "    ds = xr.Dataset(coords=_coords)\n",
    "\n",
    "    # create data variable and initial grid\n",
    "    ds['v'] = sum([ds[d]*vmap[d] for d in p])\n",
    "    ds['z_v'] = ds['z'] + 0.*ds['v']\n",
    "    # the line above necessarily imposes a dimension order which may vary\n",
    "    # should loop around all potential dimension order for zv\n",
    "\n",
    "    # create target grid\n",
    "    if zt_p:\n",
    "        _map = [1. if d=='z_target1d' else 0. for d in zt_p]\n",
    "        ds['z_target'] = sum(ds[d]*m for d, m in zip(zt_p, _map))\n",
    "    else:\n",
    "        ds['z_target'] = ds['z_target1d']\n",
    "        \n",
    "    if numpy:\n",
    "        return ds['z_target'].data, ds['z'].data, ds['v'].data\n",
    "        \n",
    "    # rechunk data\n",
    "    if chunks:\n",
    "        ds = ds.chunk(chunks)\n",
    "        \n",
    "    return ds['z_target'], ds['z'], ds['v']"
   ]
  },
  {
   "cell_type": "code",
   "execution_count": 8,
   "metadata": {},
   "outputs": [
    {
     "name": "stdout",
     "output_type": "stream",
     "text": [
      "input variables shape ('time', 'y', 'z')\n",
      "target grid shape ('y', 'z_target1d', 'x')\n",
      "z_target ('y', 'z_target1d', 'x')\n",
      "z ('z',)\n",
      "v ('time', 'y', 'z')\n"
     ]
    }
   ],
   "source": [
    "p = get_dimension_permutations(3)[2]\n",
    "pt = get_ztarget_dimension_permutations(3)[2]\n",
    "ds = get_synthetic_data(p, zt_p=pt)\n",
    "print('input variables shape {}'.format(p))\n",
    "print('target grid shape {}'.format(pt))\n",
    "for v in ds:\n",
    "    print('{} {}'.format(v.name,v.dims))"
   ]
  },
  {
   "cell_type": "markdown",
   "metadata": {},
   "source": [
    "---\n",
    "\n",
    "## interp2z tests"
   ]
  },
  {
   "cell_type": "code",
   "execution_count": 9,
   "metadata": {},
   "outputs": [],
   "source": [
    "def test_interp2z(zt, z, v, verbose=0, zt_dim='z_target1d', get_out=False, **kwargs):\n",
    "    if verbose>0:\n",
    "        print('-- v.dims = {}, zt.dims = {}'.format(list(v.dims), list(zt.dims)))\n",
    "    #\n",
    "    outxr = gop.interp2z(zt, z, v,\n",
    "                       zt_dim=zt_dim,\n",
    "                       b_extrap=0, t_extrap=0, \n",
    "                       **kwargs).compute()\n",
    "    #\n",
    "    if verbose>1:\n",
    "        print('v.shape = {}, zt.shape = {}'.format(v.shape, zt.shape))\n",
    "        print('output.shape = {}, output.shape = {}'.format(outxr.shape, outxr.dims))\n",
    "    if verbose>2:\n",
    "        print('output field : {}'.format(out))\n",
    "    #\n",
    "    z_pos = outxr._get_axis_num(zt_dim)\n",
    "    out = outxr.values.swapaxes(0,z_pos)\n",
    "    if out.ndim==4:\n",
    "        out = out[:,0,0,0]\n",
    "    elif out.ndim==3:\n",
    "        out = out[:,0,0]\n",
    "    elif out.ndim==2:\n",
    "        out = out[:,0]\n",
    "    size_min = min(out.size, v_truth.size)\n",
    "    np.testing.assert_equal(out[:size_min],v_truth[:size_min])\n",
    "    if get_out:\n",
    "        return outxr"
   ]
  },
  {
   "cell_type": "markdown",
   "metadata": {},
   "source": [
    "### zt is 1D, z and v are not chunked"
   ]
  },
  {
   "cell_type": "code",
   "execution_count": 10,
   "metadata": {},
   "outputs": [
    {
     "name": "stdout",
     "output_type": "stream",
     "text": [
      "success\n"
     ]
    }
   ],
   "source": [
    "for ndim in range(1,5):\n",
    "    for p in get_dimension_permutations(ndim):\n",
    "        test_interp2z(*get_synthetic_data(p))\n",
    "        #print('{} success'.format(p))\n",
    "print('success')"
   ]
  },
  {
   "cell_type": "markdown",
   "metadata": {},
   "source": [
    "### zt is 1D, z and v are chunked only in one spatial dimension"
   ]
  },
  {
   "cell_type": "code",
   "execution_count": 11,
   "metadata": {},
   "outputs": [
    {
     "name": "stdout",
     "output_type": "stream",
     "text": [
      "success\n"
     ]
    }
   ],
   "source": [
    "for ndim in range(1,5):\n",
    "    for p in get_dimension_permutations(ndim):\n",
    "        if 'x' in p:\n",
    "            test_interp2z(*get_synthetic_data(p, chunks={'x': 10}))\n",
    "            #print('{} success'.format(p))\n",
    "print('success')"
   ]
  },
  {
   "cell_type": "markdown",
   "metadata": {},
   "source": [
    "### zt is 1D, z and v are chunked in one spatial dimension + time"
   ]
  },
  {
   "cell_type": "code",
   "execution_count": 12,
   "metadata": {},
   "outputs": [
    {
     "name": "stdout",
     "output_type": "stream",
     "text": [
      "success\n"
     ]
    }
   ],
   "source": [
    "# chunked data: spatial and temporal dimension\n",
    "for ndim in range(1,5):\n",
    "    for p in get_dimension_permutations(ndim):\n",
    "        if 'x' in p:\n",
    "            test_interp2z(*get_synthetic_data(p, chunks={'x': 10, 'time': 1}))\n",
    "            #print('{} success'.format(p))\n",
    "print('success')"
   ]
  },
  {
   "cell_type": "markdown",
   "metadata": {},
   "source": [
    "### zt has now a variable number of dimensions, z and v are up to 3D and chunked along x\n",
    "\n",
    "The cells below required an update with latest dask/tornado librairies"
   ]
  },
  {
   "cell_type": "code",
   "execution_count": 13,
   "metadata": {},
   "outputs": [
    {
     "name": "stdout",
     "output_type": "stream",
     "text": [
      "-- v.dims = ['z', 'x'], zt.dims = ['z_target1d']\n",
      "-- v.dims = ['z', 'x'], zt.dims = ['z_target1d', 'x']\n",
      "-- v.dims = ['z', 'x'], zt.dims = ['x', 'z_target1d']\n",
      "-- v.dims = ['x', 'z'], zt.dims = ['z_target1d']\n",
      "-- v.dims = ['x', 'z'], zt.dims = ['z_target1d', 'x']\n",
      "-- v.dims = ['x', 'z'], zt.dims = ['x', 'z_target1d']\n",
      "-- v.dims = ['time', 'z', 'x'], zt.dims = ['z_target1d']\n",
      "-- v.dims = ['time', 'z', 'x'], zt.dims = ['z_target1d', 'time']\n",
      "-- v.dims = ['time', 'z', 'x'], zt.dims = ['z_target1d', 'x']\n",
      "-- v.dims = ['time', 'z', 'x'], zt.dims = ['time', 'z_target1d']\n",
      "-- v.dims = ['time', 'z', 'x'], zt.dims = ['x', 'z_target1d']\n",
      "-- v.dims = ['time', 'z', 'x'], zt.dims = ['z_target1d', 'time', 'x']\n",
      "-- v.dims = ['time', 'z', 'x'], zt.dims = ['z_target1d', 'x', 'time']\n",
      "-- v.dims = ['time', 'z', 'x'], zt.dims = ['time', 'z_target1d', 'x']\n",
      "-- v.dims = ['time', 'z', 'x'], zt.dims = ['time', 'x', 'z_target1d']\n",
      "-- v.dims = ['time', 'z', 'x'], zt.dims = ['x', 'z_target1d', 'time']\n",
      "-- v.dims = ['time', 'z', 'x'], zt.dims = ['x', 'time', 'z_target1d']\n",
      "-- v.dims = ['time', 'x', 'z'], zt.dims = ['z_target1d']\n",
      "-- v.dims = ['time', 'x', 'z'], zt.dims = ['z_target1d', 'time']\n",
      "-- v.dims = ['time', 'x', 'z'], zt.dims = ['z_target1d', 'x']\n",
      "-- v.dims = ['time', 'x', 'z'], zt.dims = ['time', 'z_target1d']\n",
      "-- v.dims = ['time', 'x', 'z'], zt.dims = ['x', 'z_target1d']\n",
      "-- v.dims = ['time', 'x', 'z'], zt.dims = ['z_target1d', 'time', 'x']\n",
      "-- v.dims = ['time', 'x', 'z'], zt.dims = ['z_target1d', 'x', 'time']\n",
      "-- v.dims = ['time', 'x', 'z'], zt.dims = ['time', 'z_target1d', 'x']\n",
      "-- v.dims = ['time', 'x', 'z'], zt.dims = ['time', 'x', 'z_target1d']\n",
      "-- v.dims = ['time', 'x', 'z'], zt.dims = ['x', 'z_target1d', 'time']\n",
      "-- v.dims = ['time', 'x', 'z'], zt.dims = ['x', 'time', 'z_target1d']\n",
      "-- v.dims = ['z', 'time', 'x'], zt.dims = ['z_target1d']\n",
      "-- v.dims = ['z', 'time', 'x'], zt.dims = ['z_target1d', 'time']\n",
      "-- v.dims = ['z', 'time', 'x'], zt.dims = ['z_target1d', 'x']\n",
      "-- v.dims = ['z', 'time', 'x'], zt.dims = ['time', 'z_target1d']\n",
      "-- v.dims = ['z', 'time', 'x'], zt.dims = ['x', 'z_target1d']\n",
      "-- v.dims = ['z', 'time', 'x'], zt.dims = ['z_target1d', 'time', 'x']\n",
      "-- v.dims = ['z', 'time', 'x'], zt.dims = ['z_target1d', 'x', 'time']\n",
      "-- v.dims = ['z', 'time', 'x'], zt.dims = ['time', 'z_target1d', 'x']\n",
      "-- v.dims = ['z', 'time', 'x'], zt.dims = ['time', 'x', 'z_target1d']\n",
      "-- v.dims = ['z', 'time', 'x'], zt.dims = ['x', 'z_target1d', 'time']\n",
      "-- v.dims = ['z', 'time', 'x'], zt.dims = ['x', 'time', 'z_target1d']\n",
      "-- v.dims = ['z', 'y', 'x'], zt.dims = ['z_target1d']\n",
      "-- v.dims = ['z', 'y', 'x'], zt.dims = ['z_target1d', 'y']\n",
      "-- v.dims = ['z', 'y', 'x'], zt.dims = ['z_target1d', 'x']\n",
      "-- v.dims = ['z', 'y', 'x'], zt.dims = ['y', 'z_target1d']\n",
      "-- v.dims = ['z', 'y', 'x'], zt.dims = ['x', 'z_target1d']\n",
      "-- v.dims = ['z', 'y', 'x'], zt.dims = ['z_target1d', 'y', 'x']\n",
      "-- v.dims = ['z', 'y', 'x'], zt.dims = ['z_target1d', 'x', 'y']\n",
      "-- v.dims = ['z', 'y', 'x'], zt.dims = ['y', 'z_target1d', 'x']\n",
      "-- v.dims = ['z', 'y', 'x'], zt.dims = ['y', 'x', 'z_target1d']\n",
      "-- v.dims = ['z', 'y', 'x'], zt.dims = ['x', 'z_target1d', 'y']\n",
      "-- v.dims = ['z', 'y', 'x'], zt.dims = ['x', 'y', 'z_target1d']\n",
      "-- v.dims = ['z', 'x', 'time'], zt.dims = ['z_target1d']\n",
      "-- v.dims = ['z', 'x', 'time'], zt.dims = ['z_target1d', 'x']\n",
      "-- v.dims = ['z', 'x', 'time'], zt.dims = ['z_target1d', 'time']\n",
      "-- v.dims = ['z', 'x', 'time'], zt.dims = ['x', 'z_target1d']\n",
      "-- v.dims = ['z', 'x', 'time'], zt.dims = ['time', 'z_target1d']\n",
      "-- v.dims = ['z', 'x', 'time'], zt.dims = ['z_target1d', 'x', 'time']\n",
      "-- v.dims = ['z', 'x', 'time'], zt.dims = ['z_target1d', 'time', 'x']\n",
      "-- v.dims = ['z', 'x', 'time'], zt.dims = ['x', 'z_target1d', 'time']\n",
      "-- v.dims = ['z', 'x', 'time'], zt.dims = ['x', 'time', 'z_target1d']\n",
      "-- v.dims = ['z', 'x', 'time'], zt.dims = ['time', 'z_target1d', 'x']\n",
      "-- v.dims = ['z', 'x', 'time'], zt.dims = ['time', 'x', 'z_target1d']\n",
      "-- v.dims = ['z', 'x', 'y'], zt.dims = ['z_target1d']\n",
      "-- v.dims = ['z', 'x', 'y'], zt.dims = ['z_target1d', 'x']\n",
      "-- v.dims = ['z', 'x', 'y'], zt.dims = ['z_target1d', 'y']\n",
      "-- v.dims = ['z', 'x', 'y'], zt.dims = ['x', 'z_target1d']\n",
      "-- v.dims = ['z', 'x', 'y'], zt.dims = ['y', 'z_target1d']\n",
      "-- v.dims = ['z', 'x', 'y'], zt.dims = ['z_target1d', 'x', 'y']\n",
      "-- v.dims = ['z', 'x', 'y'], zt.dims = ['z_target1d', 'y', 'x']\n",
      "-- v.dims = ['z', 'x', 'y'], zt.dims = ['x', 'z_target1d', 'y']\n",
      "-- v.dims = ['z', 'x', 'y'], zt.dims = ['x', 'y', 'z_target1d']\n",
      "-- v.dims = ['z', 'x', 'y'], zt.dims = ['y', 'z_target1d', 'x']\n",
      "-- v.dims = ['z', 'x', 'y'], zt.dims = ['y', 'x', 'z_target1d']\n",
      "-- v.dims = ['y', 'z', 'x'], zt.dims = ['z_target1d']\n",
      "-- v.dims = ['y', 'z', 'x'], zt.dims = ['z_target1d', 'y']\n",
      "-- v.dims = ['y', 'z', 'x'], zt.dims = ['z_target1d', 'x']\n",
      "-- v.dims = ['y', 'z', 'x'], zt.dims = ['y', 'z_target1d']\n",
      "-- v.dims = ['y', 'z', 'x'], zt.dims = ['x', 'z_target1d']\n",
      "-- v.dims = ['y', 'z', 'x'], zt.dims = ['z_target1d', 'y', 'x']\n",
      "-- v.dims = ['y', 'z', 'x'], zt.dims = ['z_target1d', 'x', 'y']\n",
      "-- v.dims = ['y', 'z', 'x'], zt.dims = ['y', 'z_target1d', 'x']\n",
      "-- v.dims = ['y', 'z', 'x'], zt.dims = ['y', 'x', 'z_target1d']\n",
      "-- v.dims = ['y', 'z', 'x'], zt.dims = ['x', 'z_target1d', 'y']\n",
      "-- v.dims = ['y', 'z', 'x'], zt.dims = ['x', 'y', 'z_target1d']\n",
      "-- v.dims = ['y', 'x', 'z'], zt.dims = ['z_target1d']\n",
      "-- v.dims = ['y', 'x', 'z'], zt.dims = ['z_target1d', 'y']\n",
      "-- v.dims = ['y', 'x', 'z'], zt.dims = ['z_target1d', 'x']\n",
      "-- v.dims = ['y', 'x', 'z'], zt.dims = ['y', 'z_target1d']\n",
      "-- v.dims = ['y', 'x', 'z'], zt.dims = ['x', 'z_target1d']\n",
      "-- v.dims = ['y', 'x', 'z'], zt.dims = ['z_target1d', 'y', 'x']\n",
      "-- v.dims = ['y', 'x', 'z'], zt.dims = ['z_target1d', 'x', 'y']\n",
      "-- v.dims = ['y', 'x', 'z'], zt.dims = ['y', 'z_target1d', 'x']\n",
      "-- v.dims = ['y', 'x', 'z'], zt.dims = ['y', 'x', 'z_target1d']\n",
      "-- v.dims = ['y', 'x', 'z'], zt.dims = ['x', 'z_target1d', 'y']\n",
      "-- v.dims = ['y', 'x', 'z'], zt.dims = ['x', 'y', 'z_target1d']\n",
      "-- v.dims = ['x', 'time', 'z'], zt.dims = ['z_target1d']\n",
      "-- v.dims = ['x', 'time', 'z'], zt.dims = ['z_target1d', 'x']\n",
      "-- v.dims = ['x', 'time', 'z'], zt.dims = ['z_target1d', 'time']\n",
      "-- v.dims = ['x', 'time', 'z'], zt.dims = ['x', 'z_target1d']\n",
      "-- v.dims = ['x', 'time', 'z'], zt.dims = ['time', 'z_target1d']\n",
      "-- v.dims = ['x', 'time', 'z'], zt.dims = ['z_target1d', 'x', 'time']\n",
      "-- v.dims = ['x', 'time', 'z'], zt.dims = ['z_target1d', 'time', 'x']\n",
      "-- v.dims = ['x', 'time', 'z'], zt.dims = ['x', 'z_target1d', 'time']\n",
      "-- v.dims = ['x', 'time', 'z'], zt.dims = ['x', 'time', 'z_target1d']\n",
      "-- v.dims = ['x', 'time', 'z'], zt.dims = ['time', 'z_target1d', 'x']\n",
      "-- v.dims = ['x', 'time', 'z'], zt.dims = ['time', 'x', 'z_target1d']\n",
      "-- v.dims = ['x', 'z', 'time'], zt.dims = ['z_target1d']\n",
      "-- v.dims = ['x', 'z', 'time'], zt.dims = ['z_target1d', 'x']\n",
      "-- v.dims = ['x', 'z', 'time'], zt.dims = ['z_target1d', 'time']\n",
      "-- v.dims = ['x', 'z', 'time'], zt.dims = ['x', 'z_target1d']\n",
      "-- v.dims = ['x', 'z', 'time'], zt.dims = ['time', 'z_target1d']\n",
      "-- v.dims = ['x', 'z', 'time'], zt.dims = ['z_target1d', 'x', 'time']\n",
      "-- v.dims = ['x', 'z', 'time'], zt.dims = ['z_target1d', 'time', 'x']\n",
      "-- v.dims = ['x', 'z', 'time'], zt.dims = ['x', 'z_target1d', 'time']\n",
      "-- v.dims = ['x', 'z', 'time'], zt.dims = ['x', 'time', 'z_target1d']\n",
      "-- v.dims = ['x', 'z', 'time'], zt.dims = ['time', 'z_target1d', 'x']\n",
      "-- v.dims = ['x', 'z', 'time'], zt.dims = ['time', 'x', 'z_target1d']\n",
      "-- v.dims = ['x', 'z', 'y'], zt.dims = ['z_target1d']\n",
      "-- v.dims = ['x', 'z', 'y'], zt.dims = ['z_target1d', 'x']\n",
      "-- v.dims = ['x', 'z', 'y'], zt.dims = ['z_target1d', 'y']\n",
      "-- v.dims = ['x', 'z', 'y'], zt.dims = ['x', 'z_target1d']\n",
      "-- v.dims = ['x', 'z', 'y'], zt.dims = ['y', 'z_target1d']\n",
      "-- v.dims = ['x', 'z', 'y'], zt.dims = ['z_target1d', 'x', 'y']\n",
      "-- v.dims = ['x', 'z', 'y'], zt.dims = ['z_target1d', 'y', 'x']\n",
      "-- v.dims = ['x', 'z', 'y'], zt.dims = ['x', 'z_target1d', 'y']\n",
      "-- v.dims = ['x', 'z', 'y'], zt.dims = ['x', 'y', 'z_target1d']\n",
      "-- v.dims = ['x', 'z', 'y'], zt.dims = ['y', 'z_target1d', 'x']\n",
      "-- v.dims = ['x', 'z', 'y'], zt.dims = ['y', 'x', 'z_target1d']\n",
      "-- v.dims = ['x', 'y', 'z'], zt.dims = ['z_target1d']\n",
      "-- v.dims = ['x', 'y', 'z'], zt.dims = ['z_target1d', 'x']\n",
      "-- v.dims = ['x', 'y', 'z'], zt.dims = ['z_target1d', 'y']\n",
      "-- v.dims = ['x', 'y', 'z'], zt.dims = ['x', 'z_target1d']\n",
      "-- v.dims = ['x', 'y', 'z'], zt.dims = ['y', 'z_target1d']\n",
      "-- v.dims = ['x', 'y', 'z'], zt.dims = ['z_target1d', 'x', 'y']\n",
      "-- v.dims = ['x', 'y', 'z'], zt.dims = ['z_target1d', 'y', 'x']\n",
      "-- v.dims = ['x', 'y', 'z'], zt.dims = ['x', 'z_target1d', 'y']\n",
      "-- v.dims = ['x', 'y', 'z'], zt.dims = ['x', 'y', 'z_target1d']\n",
      "-- v.dims = ['x', 'y', 'z'], zt.dims = ['y', 'z_target1d', 'x']\n",
      "-- v.dims = ['x', 'y', 'z'], zt.dims = ['y', 'x', 'z_target1d']\n",
      "success\n"
     ]
    }
   ],
   "source": [
    "for ndim in range(1,4): # should be range(1,5) but see next cell issues\n",
    "    for p in get_dimension_permutations(ndim, with_dims=['x']):\n",
    "        for ndimt in range(ndim+1):\n",
    "            _tdim = list(p)\n",
    "            _tdim.remove('z')\n",
    "            for pt in get_ztarget_dimension_permutations(ndimt, dims=_tdim):\n",
    "                test_interp2z(*get_synthetic_data(p, zt_p=pt, chunks={'x': 10}), \n",
    "                              verbose=1)\n",
    "print('success')"
   ]
  },
  {
   "cell_type": "markdown",
   "metadata": {},
   "source": [
    "### zt has now a variable number of dimensions, z and v are 4D and chunked along x"
   ]
  },
  {
   "cell_type": "code",
   "execution_count": 14,
   "metadata": {},
   "outputs": [
    {
     "name": "stdout",
     "output_type": "stream",
     "text": [
      "success\n"
     ]
    }
   ],
   "source": [
    "ndim=4\n",
    "p = get_dimension_permutations(ndim, with_dims=['x'])[0]\n",
    "for ndimt in range(ndim+1):\n",
    "    _tdim = list(p)\n",
    "    _tdim.remove('z')\n",
    "    for pt in get_ztarget_dimension_permutations(ndimt, dims=_tdim):\n",
    "        test_interp2z(*get_synthetic_data(p, zt_p=pt, chunks={'x': 10}))\n",
    "print('success')"
   ]
  },
  {
   "cell_type": "markdown",
   "metadata": {},
   "source": [
    "### zt has now the same dimension that z and v but different values, z and v are 4D and chunked along x"
   ]
  },
  {
   "cell_type": "code",
   "execution_count": 15,
   "metadata": {},
   "outputs": [
    {
     "name": "stdout",
     "output_type": "stream",
     "text": [
      "success\n",
      "-- v.dims = ['time', 'z', 'y', 'x'], zt.dims = ['z', 'time']\n",
      "success\n"
     ]
    }
   ],
   "source": [
    "# same vertical dim name but different shape and values\n",
    "ndim, ndimt=4, 2\n",
    "p = get_dimension_permutations(ndim, with_dims=['x'])[0]\n",
    "_tdim = list(p)\n",
    "_tdim.remove('z')\n",
    "pt = get_ztarget_dimension_permutations(ndimt, dims=_tdim)[0]\n",
    "zt, z, v = get_synthetic_data(p, zt_p=pt, chunks={'x': 10})\n",
    "zt = zt.isel(z_target1d=slice(0,v.z.size)).rename({'z_target1d': 'z'})\n",
    "\n",
    "# test if same vertical dimension but different values fails by default\n",
    "try:\n",
    "    test_interp2z(zt, z, v, zt_dim='z')\n",
    "except ValueError:\n",
    "    print('success')\n",
    "\n",
    "# test if override_dims does its job in the same case\n",
    "test_interp2z(zt, z, v, zt_dim='z', verbose=True, override_dims=True)\n",
    "print('success')"
   ]
  },
  {
   "cell_type": "markdown",
   "metadata": {},
   "source": [
    "### zt has now the three dimensions but z and v are vectors"
   ]
  },
  {
   "cell_type": "code",
   "execution_count": 16,
   "metadata": {},
   "outputs": [
    {
     "name": "stdout",
     "output_type": "stream",
     "text": [
      "-- v.dims = ['z'], zt.dims = ['z_target1d', 'y', 'x']\n",
      "v.shape = (10,), zt.shape = (12, 15, 200)\n",
      "output.shape = (15, 200, 12), output.shape = ('y', 'x', 'z_target1d')\n"
     ]
    }
   ],
   "source": [
    "p = get_dimension_permutations(1)[0]\n",
    "pt = get_ztarget_dimension_permutations(3)[0]\n",
    "test_interp2z(*get_synthetic_data(p, zt_p=pt), verbose=2)"
   ]
  },
  {
   "cell_type": "code",
   "execution_count": 17,
   "metadata": {},
   "outputs": [
    {
     "name": "stdout",
     "output_type": "stream",
     "text": [
      "-- v.dims = ['z'], zt.dims = ['z_target1d', 'y', 'x']\n",
      "v.shape = (10,), zt.shape = (12, 15, 200)\n",
      "output.shape = (15, 200, 12), output.shape = ('y', 'x', 'z_target1d')\n"
     ]
    }
   ],
   "source": [
    "# test output_dims\n",
    "odims = ['y', 'x', 'z_target1d']\n",
    "out = test_interp2z(*get_synthetic_data(p, zt_p=pt), verbose=2, get_out=True,\n",
    "                    output_dims=odims)\n",
    "assert odims==list(out.dims)"
   ]
  },
  {
   "cell_type": "markdown",
   "metadata": {},
   "source": [
    "---\n",
    "\n",
    "## other tests that will need to be updated ... or not"
   ]
  },
  {
   "cell_type": "code",
   "execution_count": 18,
   "metadata": {},
   "outputs": [],
   "source": [
    "turnoff = False"
   ]
  },
  {
   "cell_type": "code",
   "execution_count": 19,
   "metadata": {},
   "outputs": [],
   "source": [
    "if turnoff:\n",
    "    def test_interp2z_np_3d(ds):\n",
    "        #print(ds)\n",
    "        out = gop.interp2z_np_3d(ds['z_target'].values, \n",
    "                              (0.*ds['v']+ds['z_v']).values,\n",
    "                              ds['v'].values, \n",
    "                              b_extrap=0, t_extrap=0)\n",
    "        print('---------')\n",
    "        print('v shape: {}'.format(list(ds.v.dims)))    \n",
    "        print('Input shape = {}'.format(ds['v'].values.shape))\n",
    "        print('Ouput shape = {}'.format(out.shape))\n",
    "        if out.ndim==3:\n",
    "            out = out[:,0,0]\n",
    "        elif out.ndim==2:\n",
    "            out = out[:,0]\n",
    "        print(out)\n",
    "        #hdl = plt.plot(ds['z_target1d'].values, out)\n",
    "        #plt.grid()\n",
    "\n",
    "    test_interp2z_np_3d(get_ds(get_P(3)[6]))\n",
    "    test_interp2z_np_3d(get_ds(get_P(2)[2]))\n",
    "    test_interp2z_np_3d(get_ds(('z',)))"
   ]
  },
  {
   "cell_type": "code",
   "execution_count": 20,
   "metadata": {},
   "outputs": [],
   "source": [
    "if turnoff:\n",
    "    def test_interp2z_np(ds):\n",
    "        #print(ds)\n",
    "        z_pos = ds.v._get_axis_num('z')\n",
    "        z_size = ds.dims['z']\n",
    "        out = gop.interp2z_np(ds['z_target'].values, \n",
    "                              (0.*ds['v']+ds['z_v']).values,\n",
    "                              ds['v'].values, \n",
    "                              zdim=(z_pos, z_size),\n",
    "                              b_extrap=0, t_extrap=0)\n",
    "        print('---------')\n",
    "        print('v shape: {}'.format(list(ds.v.dims)))\n",
    "        print('Input shape = {}'.format(ds['v'].values.shape))\n",
    "        print('Ouput shape = {}'.format(out.shape))\n",
    "        if out.ndim==4:\n",
    "            out = out.swapaxes(0,z_pos)[:,0,0,0]\n",
    "        elif out.ndim==3:\n",
    "            out = out[:,0,0]\n",
    "        elif out.ndim==2:\n",
    "            out = out[:,0]\n",
    "        print(out)\n",
    "\n",
    "    test_interp2z_np(get_ds(get_P(4)[0]))\n",
    "    test_interp2z_np(get_ds(get_P(4)[6]))\n",
    "    test_interp2z_np(get_ds(get_P(3)[6]))\n",
    "    test_interp2z_np(get_ds(get_P(2)[2]))\n",
    "    test_interp2z_np(get_ds(('z',)))"
   ]
  },
  {
   "cell_type": "code",
   "execution_count": 21,
   "metadata": {},
   "outputs": [],
   "source": [
    "if turnoff:\n",
    "    def test_interp2z(ds):\n",
    "        #print(ds)\n",
    "        out = gop.interp2z(ds['z_target'], ds['v'], \n",
    "                              (0.*ds['v']+ds['z_v']),\n",
    "                              b_extrap=0, t_extrap=0)\n",
    "        print('---------')\n",
    "        print('v shape: {}'.format(list(ds.v.dims)))\n",
    "        print('Input shape = {}'.format(ds['v'].values.shape))\n",
    "        print('Ouput shape = {}'.format(out.shape))\n",
    "        if out.ndim==4:\n",
    "            out = out.swapaxes(0,z_pos)[:,0,0,0]\n",
    "        elif out.ndim==3:\n",
    "            out = out[:,0,0]\n",
    "        elif out.ndim==2:\n",
    "            out = out[:,0]\n",
    "        print(out)\n",
    "\n",
    "    test_interp2z_np(get_ds(get_P(4)[0]))\n",
    "    test_interp2z_np(get_ds(get_P(4)[6]))\n",
    "    test_interp2z_np(get_ds(get_P(3)[6]))\n",
    "    test_interp2z_np(get_ds(get_P(2)[2]))\n",
    "    test_interp2z_np(get_ds(('z',)))"
   ]
  },
  {
   "cell_type": "code",
   "execution_count": 22,
   "metadata": {},
   "outputs": [],
   "source": [
    "if turnoff:\n",
    "    def test_interp2z(ds):\n",
    "        #print(ds)\n",
    "        out = gop.interp2z(ds['x']*0.+ds['z_target'], ds['v'],\n",
    "                           (0.*ds['v']+ds['z_v']),\n",
    "                           zt_dim='z_target1d',\n",
    "                           b_extrap=0, t_extrap=0).compute()\n",
    "        print('---------')\n",
    "        print('v shape: {}'.format(list(ds.v.dims)))\n",
    "        print('Input shape = {}'.format(ds['v'].values.shape))\n",
    "        print('Ouput shape = {}'.format(out.shape))\n",
    "        z_pos = ds.v._get_axis_num('z')\n",
    "        if out.ndim==4:\n",
    "            out = out.data.swapaxes(0,z_pos)[:,0,0,0]\n",
    "        elif out.ndim==3:\n",
    "            out = out[:,0,0]\n",
    "        elif out.ndim==2:\n",
    "            out = out[:,0]\n",
    "        print(out)\n",
    "\n",
    "    test_interp2z(get_ds(get_P(4)[0], chunks={'x': 2}))\n",
    "    test_interp2z(get_ds(get_P(4)[0]))\n",
    "    test_interp2z(get_ds(get_P(4)[0], chunks=2))\n",
    "    #test_interp2z(get_ds(get_P(4)[6]))\n",
    "    #test_interp2z(get_ds(get_P(3)[6]))\n",
    "    #test_interp2z(get_ds(get_P(2)[2]))\n",
    "    #test_interp2z(get_ds(('z',)))"
   ]
  }
 ],
 "metadata": {
  "kernelspec": {
   "display_name": "Python 3",
   "language": "python",
   "name": "python3"
  },
  "language_info": {
   "codemirror_mode": {
    "name": "ipython",
    "version": 3
   },
   "file_extension": ".py",
   "mimetype": "text/x-python",
   "name": "python",
   "nbconvert_exporter": "python",
   "pygments_lexer": "ipython3",
   "version": "3.7.6"
  }
 },
 "nbformat": 4,
 "nbformat_minor": 4
}
