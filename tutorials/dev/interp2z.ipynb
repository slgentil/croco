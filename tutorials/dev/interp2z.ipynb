{
 "cells": [
  {
   "cell_type": "markdown",
   "metadata": {},
   "source": [
    "# Tests of vertical interpolation code\n",
    "\n",
    "Relevant methods are located in `crocosi/gridop.py`:\n",
    "- `interp2z_np_3d`: interpolates 1D/2D/3D arrays along their first dimensions\n",
    "- `interp2z_np`: more flexible interpolation, allows for an extra dimension on input grid and data.\n",
    "- `interp2z`: xarray based wrapper that may distribute the interpolation across workers\n",
    "\n",
    "Only interp2z is tested for now.\n",
    "\n",
    "We do not test extrapolations parameters"
   ]
  },
  {
   "cell_type": "code",
   "execution_count": 1,
   "metadata": {},
   "outputs": [],
   "source": [
    "import numpy as np\n",
    "import xarray as xr\n",
    "import crocosi.gridop as gop\n",
    "\n",
    "%matplotlib inline\n",
    "from matplotlib import pyplot as plt\n",
    "\n",
    "from itertools import permutations"
   ]
  },
  {
   "cell_type": "code",
   "execution_count": 2,
   "metadata": {},
   "outputs": [
    {
     "data": {
      "text/html": [
       "<table style=\"border: 2px solid white;\">\n",
       "<tr>\n",
       "<td style=\"vertical-align: top; border: 0px solid white\">\n",
       "<h3 style=\"text-align: left;\">Client</h3>\n",
       "<ul style=\"text-align: left; list-style: none; margin: 0; padding: 0;\">\n",
       "  <li><b>Scheduler: </b>tcp://127.0.0.1:63444</li>\n",
       "  <li><b>Dashboard: </b><a href='http://127.0.0.1:8787/status' target='_blank'>http://127.0.0.1:8787/status</a>\n",
       "</ul>\n",
       "</td>\n",
       "<td style=\"vertical-align: top; border: 0px solid white\">\n",
       "<h3 style=\"text-align: left;\">Cluster</h3>\n",
       "<ul style=\"text-align: left; list-style:none; margin: 0; padding: 0;\">\n",
       "  <li><b>Workers: </b>4</li>\n",
       "  <li><b>Cores: </b>4</li>\n",
       "  <li><b>Memory: </b>17.18 GB</li>\n",
       "</ul>\n",
       "</td>\n",
       "</tr>\n",
       "</table>"
      ],
      "text/plain": [
       "<Client: 'tcp://127.0.0.1:63444' processes=4 threads=4, memory=17.18 GB>"
      ]
     },
     "execution_count": 2,
     "metadata": {},
     "output_type": "execute_result"
    }
   ],
   "source": [
    "from dask.distributed import Client, LocalCluster\n",
    "cluster = LocalCluster()\n",
    "client = Client(cluster)\n",
    "client"
   ]
  },
  {
   "cell_type": "markdown",
   "metadata": {},
   "source": [
    "---\n",
    "\n",
    "## utils"
   ]
  },
  {
   "cell_type": "code",
   "execution_count": 3,
   "metadata": {},
   "outputs": [
    {
     "name": "stdout",
     "output_type": "stream",
     "text": [
      "z_target = [-0.5  0.5  1.5  2.5  3.5  4.5  5.5]\n",
      "v_truth = [nan 0.5 1.5 2.5 3.5 nan nan]\n"
     ]
    }
   ],
   "source": [
    "# set synthetic data dimension and parameters\n",
    "\n",
    "# input vertical grid dimensions\n",
    "dims = {'time':10, 'z':5, 'y':15, 'x':20}\n",
    "vmap = {'time':0., 'z':1., 'y':0., 'x':0.}\n",
    "\n",
    "# potential dimensions of the target vertical grid\n",
    "dims_t = ['z_target1d','y','x']\n",
    "\n",
    "# target vertical grid\n",
    "z_target = -.5+np.arange(dims['z']+2)\n",
    "\n",
    "# true value of the interpolated field\n",
    "z = np.arange(dims['z'])\n",
    "v_truth = z_target + 0.\n",
    "v_truth[z_target<z[0]]=np.NaN\n",
    "v_truth[z_target>z[-1]]=np.NaN\n",
    "print('z_target = {}'.format(z_target))\n",
    "print('v_truth = {}'.format(v_truth))"
   ]
  },
  {
   "cell_type": "code",
   "execution_count": 4,
   "metadata": {},
   "outputs": [],
   "source": [
    "def get_dimension_permutations(ndim):\n",
    "    return [p for p in list(permutations(dims.keys(),ndim)) if 'z' in p]\n",
    "\n",
    "def get_ztarget_dimension_permutations(ndim):\n",
    "    return [p for p in list(permutations(dims_t,ndim)) if 'z_target1d' in p]"
   ]
  },
  {
   "cell_type": "code",
   "execution_count": 5,
   "metadata": {},
   "outputs": [
    {
     "data": {
      "text/plain": [
       "[('time', 'z', 'y'),\n",
       " ('time', 'z', 'x'),\n",
       " ('time', 'y', 'z'),\n",
       " ('time', 'x', 'z'),\n",
       " ('z', 'time', 'y'),\n",
       " ('z', 'time', 'x'),\n",
       " ('z', 'y', 'time'),\n",
       " ('z', 'y', 'x'),\n",
       " ('z', 'x', 'time'),\n",
       " ('z', 'x', 'y'),\n",
       " ('y', 'time', 'z'),\n",
       " ('y', 'z', 'time'),\n",
       " ('y', 'z', 'x'),\n",
       " ('y', 'x', 'z'),\n",
       " ('x', 'time', 'z'),\n",
       " ('x', 'z', 'time'),\n",
       " ('x', 'z', 'y'),\n",
       " ('x', 'y', 'z')]"
      ]
     },
     "execution_count": 5,
     "metadata": {},
     "output_type": "execute_result"
    }
   ],
   "source": [
    "# example of dimension permutations for input variables\n",
    "get_dimension_permutations(3)"
   ]
  },
  {
   "cell_type": "code",
   "execution_count": 6,
   "metadata": {},
   "outputs": [
    {
     "data": {
      "text/plain": [
       "[('z_target1d', 'y', 'x'),\n",
       " ('z_target1d', 'x', 'y'),\n",
       " ('y', 'z_target1d', 'x'),\n",
       " ('y', 'x', 'z_target1d'),\n",
       " ('x', 'z_target1d', 'y'),\n",
       " ('x', 'y', 'z_target1d')]"
      ]
     },
     "execution_count": 6,
     "metadata": {},
     "output_type": "execute_result"
    }
   ],
   "source": [
    "# example of dimension permutations for the target grid\n",
    "get_ztarget_dimension_permutations(3)"
   ]
  },
  {
   "cell_type": "code",
   "execution_count": 7,
   "metadata": {},
   "outputs": [
    {
     "data": {
      "text/plain": [
       "{'time': 10, 'z': 5, 'y': 15, 'x': 20}"
      ]
     },
     "execution_count": 7,
     "metadata": {},
     "output_type": "execute_result"
    }
   ],
   "source": [
    "dims"
   ]
  },
  {
   "cell_type": "code",
   "execution_count": 8,
   "metadata": {},
   "outputs": [],
   "source": [
    "# synthetic data generator\n",
    "def get_synthetic_data(input_p, zt_p=None, chunks=None, numpy=False):\n",
    "    \"\"\" Create a synthetic dataset based on some dimension permutation\n",
    "    Parameters\n",
    "    ----------\n",
    "    input_p: list\n",
    "        Permutation of dimensions for input variables (e.g. v and z)\n",
    "    zt_p: list, optional\n",
    "        Permutation of dimensions for target grid zt\n",
    "    input_chunks: dict, int\n",
    "        Chunks for input variables\n",
    "    np: boolean\n",
    "        Flag in order to output numpy arrays\n",
    "    \"\"\"\n",
    "\n",
    "    # assemble coordinates\n",
    "    _coords = {d: np.arange(size) for d, size in dims.items()}\n",
    "    _coords.update(z_target1d=z_target)\n",
    "    ds = xr.Dataset(coords=_coords)\n",
    "\n",
    "    # create data variable and initial grid\n",
    "    ds['v'] = sum([ds[d]*vmap[d] for d in p])\n",
    "    ds['z_v'] = ds['z'] + 0.*ds['v']\n",
    "    # the line above necessarily imposes a dimension order which may vary\n",
    "    # should loop around all potential dimension order for zv\n",
    "\n",
    "    # create target grid\n",
    "    if zt_p:\n",
    "        _map = [1. if d=='z_target1d' else 0. for d in zt_p]\n",
    "        ds['z_target'] = sum(ds[d]*m for d, m in zip(zt_p, _map))\n",
    "    else:\n",
    "        ds['z_target'] = ds['z_target1d']\n",
    "        \n",
    "    if numpy:\n",
    "        return ds['z_target'].data, ds['z'].data, ds['v'].data\n",
    "        \n",
    "    # rechunk data\n",
    "    if chunks:\n",
    "        ds = ds.chunk(chunks)\n",
    "        \n",
    "    return ds['z_target'], ds['z'], ds['v']"
   ]
  },
  {
   "cell_type": "code",
   "execution_count": 9,
   "metadata": {},
   "outputs": [
    {
     "name": "stdout",
     "output_type": "stream",
     "text": [
      "input variables shape ('time', 'y', 'z')\n",
      "target grid shape ('y', 'z_target1d', 'x')\n",
      "z_target ('y', 'z_target1d', 'x')\n",
      "z ('z',)\n",
      "v ('time', 'y', 'z')\n"
     ]
    }
   ],
   "source": [
    "p = get_dimension_permutations(3)[2]\n",
    "pt = get_ztarget_dimension_permutations(3)[2]\n",
    "ds = get_synthetic_data(p, zt_p=pt)\n",
    "print('input variables shape {}'.format(p))\n",
    "print('target grid shape {}'.format(pt))\n",
    "for v in ds:\n",
    "    print('{} {}'.format(v.name,v.dims))"
   ]
  },
  {
   "cell_type": "markdown",
   "metadata": {},
   "source": [
    "---\n",
    "\n",
    "## interp2z tests"
   ]
  },
  {
   "cell_type": "code",
   "execution_count": 10,
   "metadata": {},
   "outputs": [],
   "source": [
    "def test_interp2z(zt, z, v, verbose=False):\n",
    "    v_out = gop.interp2z(zt, z, v,\n",
    "                         zt_dim='z_target1d',\n",
    "                         b_extrap=0, t_extrap=0).compute()\n",
    "    if verbose:\n",
    "        print('---------')\n",
    "        print('v shape: {}'.format(list(v.dims)))\n",
    "        print('Input shape = {}'.format(v.values.shape))\n",
    "        print('Ouput shape = {}'.format(v_out.shape))\n",
    "    z_pos = v_out._get_axis_num('z_target1d')\n",
    "    v_out = v_out.data.swapaxes(0,z_pos)\n",
    "    if v_out.ndim==4:\n",
    "        v_out = v_out[:,0,0,0]\n",
    "    elif v_out.ndim==3:\n",
    "        v_out = v_out[:,0,0]\n",
    "    elif v_out.ndim==2:\n",
    "        v_out = v_out[:,0]\n",
    "    np.testing.assert_equal(v_out,v_truth)"
   ]
  },
  {
   "cell_type": "code",
   "execution_count": 16,
   "metadata": {},
   "outputs": [
    {
     "name": "stdout",
     "output_type": "stream",
     "text": [
      "('z',) success\n",
      "('time', 'z') success\n",
      "('z', 'time') success\n",
      "('z', 'y') success\n",
      "('z', 'x') success\n",
      "('y', 'z') success\n",
      "('x', 'z') success\n",
      "('time', 'z', 'y') success\n",
      "('time', 'z', 'x') success\n",
      "('time', 'y', 'z') success\n",
      "('time', 'x', 'z') success\n",
      "('z', 'time', 'y') success\n",
      "('z', 'time', 'x') success\n",
      "('z', 'y', 'time') success\n",
      "('z', 'y', 'x') success\n",
      "('z', 'x', 'time') success\n",
      "('z', 'x', 'y') success\n",
      "('y', 'time', 'z') success\n",
      "('y', 'z', 'time') success\n",
      "('y', 'z', 'x') success\n",
      "('y', 'x', 'z') success\n",
      "('x', 'time', 'z') success\n",
      "('x', 'z', 'time') success\n",
      "('x', 'z', 'y') success\n",
      "('x', 'y', 'z') success\n",
      "('time', 'z', 'y', 'x') success\n",
      "('time', 'z', 'x', 'y') success\n",
      "('time', 'y', 'z', 'x') success\n",
      "('time', 'y', 'x', 'z') success\n",
      "('time', 'x', 'z', 'y') success\n",
      "('time', 'x', 'y', 'z') success\n",
      "('z', 'time', 'y', 'x') success\n",
      "('z', 'time', 'x', 'y') success\n",
      "('z', 'y', 'time', 'x') success\n",
      "('z', 'y', 'x', 'time') success\n",
      "('z', 'x', 'time', 'y') success\n",
      "('z', 'x', 'y', 'time') success\n",
      "('y', 'time', 'z', 'x') success\n",
      "('y', 'time', 'x', 'z') success\n",
      "('y', 'z', 'time', 'x') success\n",
      "('y', 'z', 'x', 'time') success\n",
      "('y', 'x', 'time', 'z') success\n",
      "('y', 'x', 'z', 'time') success\n",
      "('x', 'time', 'z', 'y') success\n",
      "('x', 'time', 'y', 'z') success\n",
      "('x', 'z', 'time', 'y') success\n",
      "('x', 'z', 'y', 'time') success\n",
      "('x', 'y', 'time', 'z') success\n",
      "('x', 'y', 'z', 'time') success\n"
     ]
    }
   ],
   "source": [
    "# not chunked data\n",
    "for ndim in range(1,5):\n",
    "    for p in get_dimension_permutations(ndim):\n",
    "        test_interp2z(*get_synthetic_data(p))\n",
    "        print('{} success'.format(p))"
   ]
  },
  {
   "cell_type": "code",
   "execution_count": 17,
   "metadata": {},
   "outputs": [
    {
     "name": "stdout",
     "output_type": "stream",
     "text": [
      "('z', 'x') success\n",
      "('x', 'z') success\n",
      "('time', 'z', 'x') success\n",
      "('time', 'x', 'z') success\n",
      "('z', 'time', 'x') success\n",
      "('z', 'y', 'x') success\n",
      "('z', 'x', 'time') success\n",
      "('z', 'x', 'y') success\n",
      "('y', 'z', 'x') success\n",
      "('y', 'x', 'z') success\n",
      "('x', 'time', 'z') success\n",
      "('x', 'z', 'time') success\n",
      "('x', 'z', 'y') success\n",
      "('x', 'y', 'z') success\n",
      "('time', 'z', 'y', 'x') success\n",
      "('time', 'z', 'x', 'y') success\n",
      "('time', 'y', 'z', 'x') success\n",
      "('time', 'y', 'x', 'z') success\n",
      "('time', 'x', 'z', 'y') success\n",
      "('time', 'x', 'y', 'z') success\n",
      "('z', 'time', 'y', 'x') success\n",
      "('z', 'time', 'x', 'y') success\n",
      "('z', 'y', 'time', 'x') success\n",
      "('z', 'y', 'x', 'time') success\n",
      "('z', 'x', 'time', 'y') success\n",
      "('z', 'x', 'y', 'time') success\n",
      "('y', 'time', 'z', 'x') success\n",
      "('y', 'time', 'x', 'z') success\n",
      "('y', 'z', 'time', 'x') success\n",
      "('y', 'z', 'x', 'time') success\n",
      "('y', 'x', 'time', 'z') success\n",
      "('y', 'x', 'z', 'time') success\n",
      "('x', 'time', 'z', 'y') success\n",
      "('x', 'time', 'y', 'z') success\n",
      "('x', 'z', 'time', 'y') success\n",
      "('x', 'z', 'y', 'time') success\n",
      "('x', 'y', 'time', 'z') success\n",
      "('x', 'y', 'z', 'time') success\n"
     ]
    }
   ],
   "source": [
    "# chunked data: only one spatial dimension\n",
    "for ndim in range(1,5):\n",
    "    for p in get_dimension_permutations(ndim):\n",
    "        if 'x' in p:\n",
    "            test_interp2z(*get_synthetic_data(p, chunks={'x': 2}))\n",
    "            print('{} success'.format(p))"
   ]
  },
  {
   "cell_type": "code",
   "execution_count": 18,
   "metadata": {},
   "outputs": [
    {
     "name": "stdout",
     "output_type": "stream",
     "text": [
      "('z', 'x') success\n",
      "('x', 'z') success\n",
      "('time', 'z', 'x') success\n",
      "('time', 'x', 'z') success\n",
      "('z', 'time', 'x') success\n",
      "('z', 'y', 'x') success\n",
      "('z', 'x', 'time') success\n",
      "('z', 'x', 'y') success\n",
      "('y', 'z', 'x') success\n",
      "('y', 'x', 'z') success\n",
      "('x', 'time', 'z') success\n",
      "('x', 'z', 'time') success\n",
      "('x', 'z', 'y') success\n",
      "('x', 'y', 'z') success\n",
      "('time', 'z', 'y', 'x') success\n",
      "('time', 'z', 'x', 'y') success\n",
      "('time', 'y', 'z', 'x') success\n",
      "('time', 'y', 'x', 'z') success\n",
      "('time', 'x', 'z', 'y') success\n",
      "('time', 'x', 'y', 'z') success\n",
      "('z', 'time', 'y', 'x') success\n",
      "('z', 'time', 'x', 'y') success\n",
      "('z', 'y', 'time', 'x') success\n",
      "('z', 'y', 'x', 'time') success\n",
      "('z', 'x', 'time', 'y') success\n",
      "('z', 'x', 'y', 'time') success\n",
      "('y', 'time', 'z', 'x') success\n",
      "('y', 'time', 'x', 'z') success\n",
      "('y', 'z', 'time', 'x') success\n",
      "('y', 'z', 'x', 'time') success\n",
      "('y', 'x', 'time', 'z') success\n",
      "('y', 'x', 'z', 'time') success\n",
      "('x', 'time', 'z', 'y') success\n",
      "('x', 'time', 'y', 'z') success\n",
      "('x', 'z', 'time', 'y') success\n",
      "('x', 'z', 'y', 'time') success\n",
      "('x', 'y', 'time', 'z') success\n",
      "('x', 'y', 'z', 'time') success\n"
     ]
    }
   ],
   "source": [
    "# chunked data: spatial and temporal dimension\n",
    "for ndim in range(1,5):\n",
    "    for p in get_dimension_permutations(ndim):\n",
    "        if 'x' in p:\n",
    "            test_interp2z(*get_synthetic_data(p, chunks={'x': 2, 'time': 1}))\n",
    "            print('{} success'.format(p))"
   ]
  },
  {
   "cell_type": "code",
   "execution_count": 19,
   "metadata": {},
   "outputs": [
    {
     "ename": "ValueError",
     "evalue": "('z_target1d', 'x') must be a permuted list of ('x', 'y', 'z_target1d'), unless `...` is included",
     "output_type": "error",
     "traceback": [
      "\u001b[0;31m---------------------------------------------------------------------------\u001b[0m",
      "\u001b[0;31mValueError\u001b[0m                                Traceback (most recent call last)",
      "\u001b[0;32m<ipython-input-19-eae587f0cc3b>\u001b[0m in \u001b[0;36m<module>\u001b[0;34m\u001b[0m\n\u001b[1;32m      5\u001b[0m             \u001b[0;32mfor\u001b[0m \u001b[0mndimt\u001b[0m \u001b[0;32min\u001b[0m \u001b[0mrange\u001b[0m\u001b[0;34m(\u001b[0m\u001b[0;36m4\u001b[0m\u001b[0;34m)\u001b[0m\u001b[0;34m:\u001b[0m\u001b[0;34m\u001b[0m\u001b[0;34m\u001b[0m\u001b[0m\n\u001b[1;32m      6\u001b[0m                 \u001b[0;32mfor\u001b[0m \u001b[0mpt\u001b[0m \u001b[0;32min\u001b[0m \u001b[0mget_ztarget_dimension_permutations\u001b[0m\u001b[0;34m(\u001b[0m\u001b[0;36m3\u001b[0m\u001b[0;34m)\u001b[0m\u001b[0;34m:\u001b[0m\u001b[0;34m\u001b[0m\u001b[0;34m\u001b[0m\u001b[0m\n\u001b[0;32m----> 7\u001b[0;31m                     \u001b[0mtest_interp2z\u001b[0m\u001b[0;34m(\u001b[0m\u001b[0;34m*\u001b[0m\u001b[0mget_synthetic_data\u001b[0m\u001b[0;34m(\u001b[0m\u001b[0mp\u001b[0m\u001b[0;34m,\u001b[0m \u001b[0mzt_p\u001b[0m\u001b[0;34m=\u001b[0m\u001b[0mpt\u001b[0m\u001b[0;34m,\u001b[0m \u001b[0mchunks\u001b[0m\u001b[0;34m=\u001b[0m\u001b[0;34m{\u001b[0m\u001b[0;34m'x'\u001b[0m\u001b[0;34m:\u001b[0m \u001b[0;36m2\u001b[0m\u001b[0;34m}\u001b[0m\u001b[0;34m)\u001b[0m\u001b[0;34m)\u001b[0m\u001b[0;34m\u001b[0m\u001b[0;34m\u001b[0m\u001b[0m\n\u001b[0m\u001b[1;32m      8\u001b[0m                 \u001b[0;31m#print('{} success'.format(p))\u001b[0m\u001b[0;34m\u001b[0m\u001b[0;34m\u001b[0m\u001b[0;34m\u001b[0m\u001b[0m\n",
      "\u001b[0;32m<ipython-input-10-51f5457dce3e>\u001b[0m in \u001b[0;36mtest_interp2z\u001b[0;34m(zt, z, v, verbose)\u001b[0m\n\u001b[1;32m      2\u001b[0m     v_out = gop.interp2z(zt, z, v,\n\u001b[1;32m      3\u001b[0m                          \u001b[0mzt_dim\u001b[0m\u001b[0;34m=\u001b[0m\u001b[0;34m'z_target1d'\u001b[0m\u001b[0;34m,\u001b[0m\u001b[0;34m\u001b[0m\u001b[0;34m\u001b[0m\u001b[0m\n\u001b[0;32m----> 4\u001b[0;31m                          b_extrap=0, t_extrap=0).compute()\n\u001b[0m\u001b[1;32m      5\u001b[0m     \u001b[0;32mif\u001b[0m \u001b[0mverbose\u001b[0m\u001b[0;34m:\u001b[0m\u001b[0;34m\u001b[0m\u001b[0;34m\u001b[0m\u001b[0m\n\u001b[1;32m      6\u001b[0m         \u001b[0mprint\u001b[0m\u001b[0;34m(\u001b[0m\u001b[0;34m'---------'\u001b[0m\u001b[0;34m)\u001b[0m\u001b[0;34m\u001b[0m\u001b[0;34m\u001b[0m\u001b[0m\n",
      "\u001b[0;32m~/code/croco/crocosi/gridop.py\u001b[0m in \u001b[0;36minterp2z\u001b[0;34m(zt, z, v, zt_dim, z_dim, **kwargs)\u001b[0m\n\u001b[1;32m    376\u001b[0m                           **ufunc_kwargs)\n\u001b[1;32m    377\u001b[0m     \u001b[0;31m# reorder dimensions to match that of v (modulo change along vertical)\u001b[0m\u001b[0;34m\u001b[0m\u001b[0;34m\u001b[0m\u001b[0;34m\u001b[0m\u001b[0m\n\u001b[0;32m--> 378\u001b[0;31m     \u001b[0mvout\u001b[0m \u001b[0;34m=\u001b[0m \u001b[0mvout\u001b[0m\u001b[0;34m.\u001b[0m\u001b[0mtranspose\u001b[0m\u001b[0;34m(\u001b[0m\u001b[0;34m*\u001b[0m\u001b[0;34m[\u001b[0m\u001b[0mzt_dim\u001b[0m \u001b[0;32mif\u001b[0m \u001b[0md\u001b[0m\u001b[0;34m==\u001b[0m\u001b[0mz_dim\u001b[0m \u001b[0;32melse\u001b[0m \u001b[0md\u001b[0m \u001b[0;32mfor\u001b[0m \u001b[0md\u001b[0m \u001b[0;32min\u001b[0m \u001b[0mlist\u001b[0m\u001b[0;34m(\u001b[0m\u001b[0mv\u001b[0m\u001b[0;34m.\u001b[0m\u001b[0mdims\u001b[0m\u001b[0;34m)\u001b[0m\u001b[0;34m]\u001b[0m\u001b[0;34m)\u001b[0m\u001b[0;34m\u001b[0m\u001b[0;34m\u001b[0m\u001b[0m\n\u001b[0m\u001b[1;32m    379\u001b[0m     \u001b[0;32mreturn\u001b[0m \u001b[0mvout\u001b[0m\u001b[0;34m\u001b[0m\u001b[0;34m\u001b[0m\u001b[0m\n\u001b[1;32m    380\u001b[0m \u001b[0;34m\u001b[0m\u001b[0m\n",
      "\u001b[0;32m~/.miniconda3/envs/equinox/lib/python3.7/site-packages/xarray/core/dataarray.py\u001b[0m in \u001b[0;36mtranspose\u001b[0;34m(self, transpose_coords, *dims)\u001b[0m\n\u001b[1;32m   1889\u001b[0m         \"\"\"\n\u001b[1;32m   1890\u001b[0m         \u001b[0;32mif\u001b[0m \u001b[0mdims\u001b[0m\u001b[0;34m:\u001b[0m\u001b[0;34m\u001b[0m\u001b[0;34m\u001b[0m\u001b[0m\n\u001b[0;32m-> 1891\u001b[0;31m             \u001b[0mdims\u001b[0m \u001b[0;34m=\u001b[0m \u001b[0mtuple\u001b[0m\u001b[0;34m(\u001b[0m\u001b[0mutils\u001b[0m\u001b[0;34m.\u001b[0m\u001b[0minfix_dims\u001b[0m\u001b[0;34m(\u001b[0m\u001b[0mdims\u001b[0m\u001b[0;34m,\u001b[0m \u001b[0mself\u001b[0m\u001b[0;34m.\u001b[0m\u001b[0mdims\u001b[0m\u001b[0;34m)\u001b[0m\u001b[0;34m)\u001b[0m\u001b[0;34m\u001b[0m\u001b[0;34m\u001b[0m\u001b[0m\n\u001b[0m\u001b[1;32m   1892\u001b[0m         \u001b[0mvariable\u001b[0m \u001b[0;34m=\u001b[0m \u001b[0mself\u001b[0m\u001b[0;34m.\u001b[0m\u001b[0mvariable\u001b[0m\u001b[0;34m.\u001b[0m\u001b[0mtranspose\u001b[0m\u001b[0;34m(\u001b[0m\u001b[0;34m*\u001b[0m\u001b[0mdims\u001b[0m\u001b[0;34m)\u001b[0m\u001b[0;34m\u001b[0m\u001b[0;34m\u001b[0m\u001b[0m\n\u001b[1;32m   1893\u001b[0m         \u001b[0;32mif\u001b[0m \u001b[0mtranspose_coords\u001b[0m\u001b[0;34m:\u001b[0m\u001b[0;34m\u001b[0m\u001b[0;34m\u001b[0m\u001b[0m\n",
      "\u001b[0;32m~/.miniconda3/envs/equinox/lib/python3.7/site-packages/xarray/core/utils.py\u001b[0m in \u001b[0;36minfix_dims\u001b[0;34m(dims_supplied, dims_all)\u001b[0m\n\u001b[1;32m    687\u001b[0m         \u001b[0;32mif\u001b[0m \u001b[0mset\u001b[0m\u001b[0;34m(\u001b[0m\u001b[0mdims_supplied\u001b[0m\u001b[0;34m)\u001b[0m \u001b[0;34m^\u001b[0m \u001b[0mset\u001b[0m\u001b[0;34m(\u001b[0m\u001b[0mdims_all\u001b[0m\u001b[0;34m)\u001b[0m\u001b[0;34m:\u001b[0m\u001b[0;34m\u001b[0m\u001b[0;34m\u001b[0m\u001b[0m\n\u001b[1;32m    688\u001b[0m             raise ValueError(\n\u001b[0;32m--> 689\u001b[0;31m                 \u001b[0;34mf\"{dims_supplied} must be a permuted list of {dims_all}, unless `...` is included\"\u001b[0m\u001b[0;34m\u001b[0m\u001b[0;34m\u001b[0m\u001b[0m\n\u001b[0m\u001b[1;32m    690\u001b[0m             )\n\u001b[1;32m    691\u001b[0m         \u001b[0;32myield\u001b[0m \u001b[0;32mfrom\u001b[0m \u001b[0mdims_supplied\u001b[0m\u001b[0;34m\u001b[0m\u001b[0;34m\u001b[0m\u001b[0m\n",
      "\u001b[0;31mValueError\u001b[0m: ('z_target1d', 'x') must be a permuted list of ('x', 'y', 'z_target1d'), unless `...` is included"
     ]
    }
   ],
   "source": [
    "# chunked data: only one spatial dimension\n",
    "for ndim in range(1,5):\n",
    "    for p in get_dimension_permutations(ndim):\n",
    "        if 'x' in p:\n",
    "            for ndimt in range(4):\n",
    "                for pt in get_ztarget_dimension_permutations(3):\n",
    "                    test_interp2z(*get_synthetic_data(p, zt_p=pt, chunks={'x': 2}))"
   ]
  },
  {
   "cell_type": "code",
   "execution_count": null,
   "metadata": {},
   "outputs": [],
   "source": []
  },
  {
   "cell_type": "markdown",
   "metadata": {},
   "source": [
    "---\n",
    "\n",
    "## test interp2z_np"
   ]
  },
  {
   "cell_type": "code",
   "execution_count": 15,
   "metadata": {},
   "outputs": [
    {
     "ename": "NameError",
     "evalue": "name 'get_ds' is not defined",
     "output_type": "error",
     "traceback": [
      "\u001b[0;31m---------------------------------------------------------------------------\u001b[0m",
      "\u001b[0;31mNameError\u001b[0m                                 Traceback (most recent call last)",
      "\u001b[0;32m<ipython-input-15-5887d32ae86e>\u001b[0m in \u001b[0;36m<module>\u001b[0;34m\u001b[0m\n\u001b[1;32m     17\u001b[0m     \u001b[0;31m#plt.grid()\u001b[0m\u001b[0;34m\u001b[0m\u001b[0;34m\u001b[0m\u001b[0;34m\u001b[0m\u001b[0m\n\u001b[1;32m     18\u001b[0m \u001b[0;34m\u001b[0m\u001b[0m\n\u001b[0;32m---> 19\u001b[0;31m \u001b[0mtest_interp2z_np_3d\u001b[0m\u001b[0;34m(\u001b[0m\u001b[0mget_ds\u001b[0m\u001b[0;34m(\u001b[0m\u001b[0mget_P\u001b[0m\u001b[0;34m(\u001b[0m\u001b[0;36m3\u001b[0m\u001b[0;34m)\u001b[0m\u001b[0;34m[\u001b[0m\u001b[0;36m6\u001b[0m\u001b[0;34m]\u001b[0m\u001b[0;34m)\u001b[0m\u001b[0;34m)\u001b[0m\u001b[0;34m\u001b[0m\u001b[0;34m\u001b[0m\u001b[0m\n\u001b[0m\u001b[1;32m     20\u001b[0m \u001b[0mtest_interp2z_np_3d\u001b[0m\u001b[0;34m(\u001b[0m\u001b[0mget_ds\u001b[0m\u001b[0;34m(\u001b[0m\u001b[0mget_P\u001b[0m\u001b[0;34m(\u001b[0m\u001b[0;36m2\u001b[0m\u001b[0;34m)\u001b[0m\u001b[0;34m[\u001b[0m\u001b[0;36m2\u001b[0m\u001b[0;34m]\u001b[0m\u001b[0;34m)\u001b[0m\u001b[0;34m)\u001b[0m\u001b[0;34m\u001b[0m\u001b[0;34m\u001b[0m\u001b[0m\n\u001b[1;32m     21\u001b[0m \u001b[0mtest_interp2z_np_3d\u001b[0m\u001b[0;34m(\u001b[0m\u001b[0mget_ds\u001b[0m\u001b[0;34m(\u001b[0m\u001b[0;34m(\u001b[0m\u001b[0;34m'z'\u001b[0m\u001b[0;34m,\u001b[0m\u001b[0;34m)\u001b[0m\u001b[0;34m)\u001b[0m\u001b[0;34m)\u001b[0m\u001b[0;34m\u001b[0m\u001b[0;34m\u001b[0m\u001b[0m\n",
      "\u001b[0;31mNameError\u001b[0m: name 'get_ds' is not defined"
     ]
    }
   ],
   "source": [
    "def test_interp2z_np_3d(ds):\n",
    "    #print(ds)\n",
    "    out = gop.interp2z_np_3d(ds['z_target'].values, \n",
    "                          (0.*ds['v']+ds['z_v']).values,\n",
    "                          ds['v'].values, \n",
    "                          b_extrap=0, t_extrap=0)\n",
    "    print('---------')\n",
    "    print('v shape: {}'.format(list(ds.v.dims)))    \n",
    "    print('Input shape = {}'.format(ds['v'].values.shape))\n",
    "    print('Ouput shape = {}'.format(out.shape))\n",
    "    if out.ndim==3:\n",
    "        out = out[:,0,0]\n",
    "    elif out.ndim==2:\n",
    "        out = out[:,0]\n",
    "    print(out)\n",
    "    #hdl = plt.plot(ds['z_target1d'].values, out)\n",
    "    #plt.grid()\n",
    "    \n",
    "test_interp2z_np_3d(get_ds(get_P(3)[6]))\n",
    "test_interp2z_np_3d(get_ds(get_P(2)[2]))\n",
    "test_interp2z_np_3d(get_ds(('z',)))"
   ]
  },
  {
   "cell_type": "code",
   "execution_count": null,
   "metadata": {},
   "outputs": [],
   "source": [
    "def test_interp2z_np(ds):\n",
    "    #print(ds)\n",
    "    z_pos = ds.v._get_axis_num('z')\n",
    "    z_size = ds.dims['z']\n",
    "    out = gop.interp2z_np(ds['z_target'].values, \n",
    "                          (0.*ds['v']+ds['z_v']).values,\n",
    "                          ds['v'].values, \n",
    "                          zdim=(z_pos, z_size),\n",
    "                          b_extrap=0, t_extrap=0)\n",
    "    print('---------')\n",
    "    print('v shape: {}'.format(list(ds.v.dims)))\n",
    "    print('Input shape = {}'.format(ds['v'].values.shape))\n",
    "    print('Ouput shape = {}'.format(out.shape))\n",
    "    if out.ndim==4:\n",
    "        out = out.swapaxes(0,z_pos)[:,0,0,0]\n",
    "    elif out.ndim==3:\n",
    "        out = out[:,0,0]\n",
    "    elif out.ndim==2:\n",
    "        out = out[:,0]\n",
    "    print(out)\n",
    "    \n",
    "test_interp2z_np(get_ds(get_P(4)[0]))\n",
    "test_interp2z_np(get_ds(get_P(4)[6]))\n",
    "test_interp2z_np(get_ds(get_P(3)[6]))\n",
    "test_interp2z_np(get_ds(get_P(2)[2]))\n",
    "test_interp2z_np(get_ds(('z',)))"
   ]
  },
  {
   "cell_type": "code",
   "execution_count": null,
   "metadata": {},
   "outputs": [],
   "source": [
    "def test_interp2z(ds):\n",
    "    #print(ds)\n",
    "    out = gop.interp2z(ds['z_target'], ds['v'], \n",
    "                          (0.*ds['v']+ds['z_v']),\n",
    "                          b_extrap=0, t_extrap=0)\n",
    "    print('---------')\n",
    "    print('v shape: {}'.format(list(ds.v.dims)))\n",
    "    print('Input shape = {}'.format(ds['v'].values.shape))\n",
    "    print('Ouput shape = {}'.format(out.shape))\n",
    "    if out.ndim==4:\n",
    "        out = out.swapaxes(0,z_pos)[:,0,0,0]\n",
    "    elif out.ndim==3:\n",
    "        out = out[:,0,0]\n",
    "    elif out.ndim==2:\n",
    "        out = out[:,0]\n",
    "    print(out)\n",
    "    \n",
    "test_interp2z_np(get_ds(get_P(4)[0]))\n",
    "test_interp2z_np(get_ds(get_P(4)[6]))\n",
    "test_interp2z_np(get_ds(get_P(3)[6]))\n",
    "test_interp2z_np(get_ds(get_P(2)[2]))\n",
    "test_interp2z_np(get_ds(('z',)))"
   ]
  },
  {
   "cell_type": "code",
   "execution_count": null,
   "metadata": {},
   "outputs": [],
   "source": [
    "def test_interp2z(ds):\n",
    "    #print(ds)\n",
    "    out = gop.interp2z(ds['x']*0.+ds['z_target'], ds['v'],\n",
    "                       (0.*ds['v']+ds['z_v']),\n",
    "                       zt_dim='z_target1d',\n",
    "                       b_extrap=0, t_extrap=0).compute()\n",
    "    print('---------')\n",
    "    print('v shape: {}'.format(list(ds.v.dims)))\n",
    "    print('Input shape = {}'.format(ds['v'].values.shape))\n",
    "    print('Ouput shape = {}'.format(out.shape))\n",
    "    z_pos = ds.v._get_axis_num('z')\n",
    "    if out.ndim==4:\n",
    "        out = out.data.swapaxes(0,z_pos)[:,0,0,0]\n",
    "    elif out.ndim==3:\n",
    "        out = out[:,0,0]\n",
    "    elif out.ndim==2:\n",
    "        out = out[:,0]\n",
    "    print(out)\n",
    "\n",
    "test_interp2z(get_ds(get_P(4)[0], chunks={'x': 2}))\n",
    "test_interp2z(get_ds(get_P(4)[0]))\n",
    "test_interp2z(get_ds(get_P(4)[0], chunks=2))\n",
    "#test_interp2z(get_ds(get_P(4)[6]))\n",
    "#test_interp2z(get_ds(get_P(3)[6]))\n",
    "#test_interp2z(get_ds(get_P(2)[2]))\n",
    "#test_interp2z(get_ds(('z',)))"
   ]
  },
  {
   "cell_type": "code",
   "execution_count": null,
   "metadata": {},
   "outputs": [],
   "source": []
  },
  {
   "cell_type": "code",
   "execution_count": null,
   "metadata": {},
   "outputs": [],
   "source": []
  },
  {
   "cell_type": "code",
   "execution_count": null,
   "metadata": {},
   "outputs": [],
   "source": [
    "ds = get_ds(get_P(4)[0], chunks={'x': 2})"
   ]
  },
  {
   "cell_type": "code",
   "execution_count": null,
   "metadata": {},
   "outputs": [],
   "source": [
    "ds.v.dims"
   ]
  },
  {
   "cell_type": "code",
   "execution_count": null,
   "metadata": {},
   "outputs": [],
   "source": [
    "['' if d=='z' else d for d in list(ds.v.dims)]"
   ]
  },
  {
   "cell_type": "code",
   "execution_count": null,
   "metadata": {},
   "outputs": [],
   "source": [
    "ds"
   ]
  },
  {
   "cell_type": "code",
   "execution_count": null,
   "metadata": {},
   "outputs": [],
   "source": [
    "#xr.align(ds.v, ds.z_v, join='left')\n",
    "xr.broadcast(ds.v, ds.z_v)"
   ]
  },
  {
   "cell_type": "markdown",
   "metadata": {},
   "source": [
    "def get_ds(p, chunks=None):\n",
    "    \"\"\" Create a synthetic dataset based on some dimension order p\n",
    "    \"\"\"\n",
    "\n",
    "    # assemble coordinates\n",
    "    _coords = {d: np.arange(dims[d]) for d in p}\n",
    "    _coords.update(z_target1d=np.arange(.5,6))\n",
    "    ds = xr.Dataset(coords=_coords)\n",
    "\n",
    "    # create data variable and initial grid\n",
    "    #ds['v'] = 0.\n",
    "    #for d in p:\n",
    "    #    ds['v'] = ds['v'] + ds[d]*vmap[d]\n",
    "    #ds['v'] = sum([ds[d]*vmap[d] for d in p])\n",
    "    #ds['z_v'] = ds['z'] + 0.*ds['v']\n",
    "    z = xr.DataArray(np.arange(dims['z']), dims=['z']).rename('z_v')\n",
    "    v = xr.DataArray(np.broadcast_to(z.data[:,None,None],(z.size, 10, 20)),\n",
    "                     dims=['z', 'y', 'x']).rename('v')\n",
    "    zt = xr.DataArray(np.arange(.5,6), dims=['z_target1d']).rename('z_target')\n",
    "    ds = xr.merge([z,v,zt])\n",
    "    \n",
    "    # the line above necessarily imposes a dimension order which may vary\n",
    "    # should loop around all potential dimension order for zv\n",
    "\n",
    "    # create target grid\n",
    "    #ds['z_target'] = ds['z_target1d']\n",
    "    # need to vary number of dimensions and their order on the line above\n",
    "    if chunks:\n",
    "        ds = ds.chunk(chunks)\n",
    "    return ds\n",
    "\n",
    "ds = get_ds(get_P(4)[0], chunks=2)\n",
    "ds.mean().compute()\n",
    "\n",
    "xr.apply_ufunc(np.mean, ds['v'], (1,2), dask='parallelized', output_dtypes=[np.float64])"
   ]
  },
  {
   "cell_type": "code",
   "execution_count": null,
   "metadata": {},
   "outputs": [],
   "source": []
  },
  {
   "cell_type": "code",
   "execution_count": null,
   "metadata": {},
   "outputs": [],
   "source": []
  },
  {
   "cell_type": "code",
   "execution_count": null,
   "metadata": {},
   "outputs": [],
   "source": []
  },
  {
   "cell_type": "code",
   "execution_count": null,
   "metadata": {},
   "outputs": [],
   "source": [
    "x,y = np.ones((2,)), np.ones((3,1,2))\n",
    "print(x.shape, y.shape, _align_dims_but_dim0(x,y).shape)\n",
    "\n",
    "x,y = np.ones((2,2,1)), np.ones((3,1,2))\n",
    "print(x.shape, y.shape, _align_dims_but_dim0(x,y).shape)\n",
    "\n",
    "x,y = np.ones((2,1, 2)), np.ones((3,1,2))\n",
    "print(x.shape, y.shape, _align_dims_but_dim0(x,y).shape)\n",
    "\n",
    "x,y = np.ones((2,2,2)), np.ones((3,1,2))\n",
    "print(x.shape, y.shape, _align_dims_but_dim0(x,y).shape)"
   ]
  },
  {
   "cell_type": "code",
   "execution_count": null,
   "metadata": {},
   "outputs": [],
   "source": [
    "x"
   ]
  },
  {
   "cell_type": "code",
   "execution_count": null,
   "metadata": {},
   "outputs": [],
   "source": [
    "x.swapaxes"
   ]
  }
 ],
 "metadata": {
  "kernelspec": {
   "display_name": "Python 3",
   "language": "python",
   "name": "python3"
  },
  "language_info": {
   "codemirror_mode": {
    "name": "ipython",
    "version": 3
   },
   "file_extension": ".py",
   "mimetype": "text/x-python",
   "name": "python",
   "nbconvert_exporter": "python",
   "pygments_lexer": "ipython3",
   "version": "3.7.6"
  }
 },
 "nbformat": 4,
 "nbformat_minor": 4
}
