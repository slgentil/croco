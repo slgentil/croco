{
 "cells": [
  {
   "cell_type": "code",
   "execution_count": 1,
   "metadata": {},
   "outputs": [],
   "source": [
    "import numpy as np\n",
    "import xarray as xr\n",
    "import crocosi.gridop as gop\n",
    "\n",
    "\n",
    "%matplotlib inline\n",
    "from matplotlib import pyplot as plt\n",
    "\n",
    "from itertools import permutations"
   ]
  },
  {
   "cell_type": "code",
   "execution_count": 2,
   "metadata": {},
   "outputs": [],
   "source": [
    "#from dask.distributed import Client, LocalCluster\n",
    "#cluster = LocalCluster()\n",
    "#client = Client(cluster)\n",
    "#client"
   ]
  },
  {
   "cell_type": "code",
   "execution_count": 3,
   "metadata": {},
   "outputs": [],
   "source": [
    "# generate synthetic data\n",
    "dims = {'time':3, 'z':5, 'y':20, 'x':10}\n",
    "vmap = {'time':0., 'z':1., 'y':0., 'x':0.}"
   ]
  },
  {
   "cell_type": "code",
   "execution_count": 4,
   "metadata": {},
   "outputs": [
    {
     "data": {
      "text/plain": [
       "[('time', 'z', 'y'),\n",
       " ('time', 'z', 'x'),\n",
       " ('time', 'y', 'z'),\n",
       " ('time', 'x', 'z'),\n",
       " ('z', 'time', 'y'),\n",
       " ('z', 'time', 'x'),\n",
       " ('z', 'y', 'time'),\n",
       " ('z', 'y', 'x'),\n",
       " ('z', 'x', 'time'),\n",
       " ('z', 'x', 'y'),\n",
       " ('y', 'time', 'z'),\n",
       " ('y', 'z', 'time'),\n",
       " ('y', 'z', 'x'),\n",
       " ('y', 'x', 'z'),\n",
       " ('x', 'time', 'z'),\n",
       " ('x', 'z', 'time'),\n",
       " ('x', 'z', 'y'),\n",
       " ('x', 'y', 'z')]"
      ]
     },
     "execution_count": 4,
     "metadata": {},
     "output_type": "execute_result"
    }
   ],
   "source": [
    "ndim = 3\n",
    "def get_P(ndim):\n",
    "    return [p for p in list(permutations(dims.keys(),ndim)) if 'z' in p]\n",
    "\n",
    "#for p in P\n",
    "# ...\n",
    "get_P(3)"
   ]
  },
  {
   "cell_type": "code",
   "execution_count": 5,
   "metadata": {},
   "outputs": [],
   "source": [
    "def get_ds(p, chunks=None):\n",
    "    \"\"\" Create a synthetic dataset based on some dimension order p\n",
    "    \"\"\"\n",
    "\n",
    "    # assemble coordinates\n",
    "    _coords = {d: np.arange(dims[d]) for d in p}\n",
    "    _coords.update(z_target1d=np.arange(.5,6))\n",
    "    ds = xr.Dataset(coords=_coords)\n",
    "\n",
    "    # create data veriable and initial grid\n",
    "    ds['v'] = sum([ds[d]*vmap[d] for d in p])\n",
    "    ds['z_v'] = ds['z'] + 0.*ds['v']\n",
    "    # the line above necessarily imposes a dimension order which may vary\n",
    "    # should loop around all potential dimension order for zv\n",
    "\n",
    "    # create target grid\n",
    "    ds['z_target'] = ds['z_target1d']\n",
    "    # need to vary number of dimensions and their order on the line above\n",
    "    if chunks:\n",
    "        ds = ds.chunk(chunks)\n",
    "    return ds"
   ]
  },
  {
   "cell_type": "code",
   "execution_count": 6,
   "metadata": {},
   "outputs": [
    {
     "name": "stdout",
     "output_type": "stream",
     "text": [
      "---------\n",
      "v shape: ['z', 'y', 'time']\n",
      "Input shape = (5, 20, 3)\n",
      "Ouput shape = (6, 20, 3)\n",
      "[0.5 1.5 2.5 3.5 nan nan]\n",
      "---------\n",
      "v shape: ['z', 'y']\n",
      "Input shape = (5, 20)\n",
      "Ouput shape = (6, 20)\n",
      "[0.5 1.5 2.5 3.5 nan nan]\n",
      "---------\n",
      "v shape: ['z']\n",
      "Input shape = (5,)\n",
      "Ouput shape = (6,)\n",
      "[0.5 1.5 2.5 3.5 nan nan]\n"
     ]
    }
   ],
   "source": [
    "def test_interp2z_np_3d(ds):\n",
    "    #print(ds)\n",
    "    out = gop.interp2z_np_3d(ds['z_target'].values, \n",
    "                          (0.*ds['v']+ds['z_v']).values,\n",
    "                          ds['v'].values, \n",
    "                          b_extrap=0, t_extrap=0)\n",
    "    print('---------')\n",
    "    print('v shape: {}'.format(list(ds.v.dims)))    \n",
    "    print('Input shape = {}'.format(ds['v'].values.shape))\n",
    "    print('Ouput shape = {}'.format(out.shape))\n",
    "    if out.ndim==3:\n",
    "        out = out[:,0,0]\n",
    "    elif out.ndim==2:\n",
    "        out = out[:,0]\n",
    "    print(out)\n",
    "    #hdl = plt.plot(ds['z_target1d'].values, out)\n",
    "    #plt.grid()\n",
    "    \n",
    "test_interp2z_np_3d(get_ds(get_P(3)[6]))\n",
    "test_interp2z_np_3d(get_ds(get_P(2)[2]))\n",
    "test_interp2z_np_3d(get_ds(('z',)))"
   ]
  },
  {
   "cell_type": "code",
   "execution_count": 7,
   "metadata": {},
   "outputs": [
    {
     "data": {
      "text/plain": [
       "[('time', 'z', 'y', 'x'),\n",
       " ('time', 'z', 'x', 'y'),\n",
       " ('time', 'y', 'z', 'x'),\n",
       " ('time', 'y', 'x', 'z'),\n",
       " ('time', 'x', 'z', 'y'),\n",
       " ('time', 'x', 'y', 'z'),\n",
       " ('z', 'time', 'y', 'x'),\n",
       " ('z', 'time', 'x', 'y'),\n",
       " ('z', 'y', 'time', 'x'),\n",
       " ('z', 'y', 'x', 'time'),\n",
       " ('z', 'x', 'time', 'y'),\n",
       " ('z', 'x', 'y', 'time'),\n",
       " ('y', 'time', 'z', 'x'),\n",
       " ('y', 'time', 'x', 'z'),\n",
       " ('y', 'z', 'time', 'x'),\n",
       " ('y', 'z', 'x', 'time'),\n",
       " ('y', 'x', 'time', 'z'),\n",
       " ('y', 'x', 'z', 'time'),\n",
       " ('x', 'time', 'z', 'y'),\n",
       " ('x', 'time', 'y', 'z'),\n",
       " ('x', 'z', 'time', 'y'),\n",
       " ('x', 'z', 'y', 'time'),\n",
       " ('x', 'y', 'time', 'z'),\n",
       " ('x', 'y', 'z', 'time')]"
      ]
     },
     "execution_count": 7,
     "metadata": {},
     "output_type": "execute_result"
    }
   ],
   "source": [
    "get_P(4)"
   ]
  },
  {
   "cell_type": "code",
   "execution_count": 8,
   "metadata": {},
   "outputs": [
    {
     "name": "stdout",
     "output_type": "stream",
     "text": [
      "---------\n",
      "v shape: ['time', 'z', 'y', 'x']\n",
      "Input shape = (3, 5, 20, 10)\n",
      "Ouput shape = (3, 6, 20, 10)\n",
      "[0.5 1.5 2.5 3.5 nan nan]\n",
      "---------\n",
      "v shape: ['z', 'time', 'y', 'x']\n",
      "Input shape = (5, 3, 20, 10)\n",
      "Ouput shape = (6, 3, 20, 10)\n",
      "[0.5 1.5 2.5 3.5 nan nan]\n",
      "---------\n",
      "v shape: ['z', 'y', 'time']\n",
      "Input shape = (5, 20, 3)\n",
      "Ouput shape = (6, 20, 3)\n",
      "[0.5 1.5 2.5 3.5 nan nan]\n",
      "---------\n",
      "v shape: ['z', 'y']\n",
      "Input shape = (5, 20)\n",
      "Ouput shape = (6, 20)\n",
      "[0.5 1.5 2.5 3.5 nan nan]\n",
      "---------\n",
      "v shape: ['z']\n",
      "Input shape = (5,)\n",
      "Ouput shape = (6,)\n",
      "[0.5 1.5 2.5 3.5 nan nan]\n"
     ]
    }
   ],
   "source": [
    "def test_interp2z_np(ds):\n",
    "    #print(ds)\n",
    "    z_pos = ds.v._get_axis_num('z')\n",
    "    z_size = ds.dims['z']\n",
    "    out = gop.interp2z_np(ds['z_target'].values, \n",
    "                          (0.*ds['v']+ds['z_v']).values,\n",
    "                          ds['v'].values, \n",
    "                          zdim=(z_pos, z_size),\n",
    "                          b_extrap=0, t_extrap=0)\n",
    "    print('---------')\n",
    "    print('v shape: {}'.format(list(ds.v.dims)))\n",
    "    print('Input shape = {}'.format(ds['v'].values.shape))\n",
    "    print('Ouput shape = {}'.format(out.shape))\n",
    "    if out.ndim==4:\n",
    "        out = out.swapaxes(0,z_pos)[:,0,0,0]\n",
    "    elif out.ndim==3:\n",
    "        out = out[:,0,0]\n",
    "    elif out.ndim==2:\n",
    "        out = out[:,0]\n",
    "    print(out)\n",
    "    \n",
    "test_interp2z_np(get_ds(get_P(4)[0]))\n",
    "test_interp2z_np(get_ds(get_P(4)[6]))\n",
    "test_interp2z_np(get_ds(get_P(3)[6]))\n",
    "test_interp2z_np(get_ds(get_P(2)[2]))\n",
    "test_interp2z_np(get_ds(('z',)))"
   ]
  },
  {
   "cell_type": "code",
   "execution_count": 9,
   "metadata": {},
   "outputs": [
    {
     "name": "stdout",
     "output_type": "stream",
     "text": [
      "---------\n",
      "v shape: ['time', 'z', 'y', 'x']\n",
      "Input shape = (3, 5, 20, 10)\n",
      "Ouput shape = (3, 6, 20, 10)\n",
      "[0.5 1.5 2.5 3.5 nan nan]\n",
      "---------\n",
      "v shape: ['z', 'time', 'y', 'x']\n",
      "Input shape = (5, 3, 20, 10)\n",
      "Ouput shape = (6, 3, 20, 10)\n",
      "[0.5 1.5 2.5 3.5 nan nan]\n",
      "---------\n",
      "v shape: ['z', 'y', 'time']\n",
      "Input shape = (5, 20, 3)\n",
      "Ouput shape = (6, 20, 3)\n",
      "[0.5 1.5 2.5 3.5 nan nan]\n",
      "---------\n",
      "v shape: ['z', 'y']\n",
      "Input shape = (5, 20)\n",
      "Ouput shape = (6, 20)\n",
      "[0.5 1.5 2.5 3.5 nan nan]\n",
      "---------\n",
      "v shape: ['z']\n",
      "Input shape = (5,)\n",
      "Ouput shape = (6,)\n",
      "[0.5 1.5 2.5 3.5 nan nan]\n"
     ]
    }
   ],
   "source": [
    "def test_interp2z(ds):\n",
    "    #print(ds)\n",
    "    out = gop.interp2z(ds['z_target'], ds['v'], \n",
    "                          (0.*ds['v']+ds['z_v']),\n",
    "                          b_extrap=0, t_extrap=0)\n",
    "    print('---------')\n",
    "    print('v shape: {}'.format(list(ds.v.dims)))\n",
    "    print('Input shape = {}'.format(ds['v'].values.shape))\n",
    "    print('Ouput shape = {}'.format(out.shape))\n",
    "    if out.ndim==4:\n",
    "        out = out.swapaxes(0,z_pos)[:,0,0,0]\n",
    "    elif out.ndim==3:\n",
    "        out = out[:,0,0]\n",
    "    elif out.ndim==2:\n",
    "        out = out[:,0]\n",
    "    print(out)\n",
    "    \n",
    "test_interp2z_np(get_ds(get_P(4)[0]))\n",
    "test_interp2z_np(get_ds(get_P(4)[6]))\n",
    "test_interp2z_np(get_ds(get_P(3)[6]))\n",
    "test_interp2z_np(get_ds(get_P(2)[2]))\n",
    "test_interp2z_np(get_ds(('z',)))"
   ]
  },
  {
   "cell_type": "code",
   "execution_count": 10,
   "metadata": {},
   "outputs": [
    {
     "name": "stdout",
     "output_type": "stream",
     "text": [
      "<xarray.Dataset>\n",
      "Dimensions:     (time: 3, x: 10, y: 20, z: 5, z_target1d: 6)\n",
      "Coordinates:\n",
      "  * time        (time) int64 0 1 2\n",
      "  * z           (z) int64 0 1 2 3 4\n",
      "  * y           (y) int64 0 1 2 3 4 5 6 7 8 9 10 11 12 13 14 15 16 17 18 19\n",
      "  * x           (x) int64 0 1 2 3 4 5 6 7 8 9\n",
      "  * z_target1d  (z_target1d) float64 0.5 1.5 2.5 3.5 4.5 5.5\n",
      "Data variables:\n",
      "    v           (time, z, y, x) float64 dask.array<chunksize=(3, 5, 20, 1), meta=np.ndarray>\n",
      "    z_v         (z, time, y, x) float64 dask.array<chunksize=(5, 3, 20, 1), meta=np.ndarray>\n",
      "    z_target    (z_target1d) float64 0.5 1.5 2.5 3.5 4.5 5.5\n"
     ]
    },
    {
     "ename": "ValueError",
     "evalue": "Chunks and shape must be of the same length/dimension. Got chunks=(), shape=(2,)",
     "output_type": "error",
     "traceback": [
      "\u001b[0;31m---------------------------------------------------------------------------\u001b[0m",
      "\u001b[0;31mValueError\u001b[0m                                Traceback (most recent call last)",
      "\u001b[0;32m<ipython-input-10-55446c8ee228>\u001b[0m in \u001b[0;36m<module>\u001b[0;34m\u001b[0m\n\u001b[1;32m     17\u001b[0m     \u001b[0mprint\u001b[0m\u001b[0;34m(\u001b[0m\u001b[0mout\u001b[0m\u001b[0;34m)\u001b[0m\u001b[0;34m\u001b[0m\u001b[0;34m\u001b[0m\u001b[0m\n\u001b[1;32m     18\u001b[0m \u001b[0;34m\u001b[0m\u001b[0m\n\u001b[0;32m---> 19\u001b[0;31m \u001b[0mtest_interp2z\u001b[0m\u001b[0;34m(\u001b[0m\u001b[0mget_ds\u001b[0m\u001b[0;34m(\u001b[0m\u001b[0mget_P\u001b[0m\u001b[0;34m(\u001b[0m\u001b[0;36m4\u001b[0m\u001b[0;34m)\u001b[0m\u001b[0;34m[\u001b[0m\u001b[0;36m0\u001b[0m\u001b[0;34m]\u001b[0m\u001b[0;34m,\u001b[0m \u001b[0mchunks\u001b[0m\u001b[0;34m=\u001b[0m\u001b[0;34m{\u001b[0m\u001b[0;34m'x'\u001b[0m\u001b[0;34m:\u001b[0m\u001b[0;36m1\u001b[0m\u001b[0;34m}\u001b[0m\u001b[0;34m)\u001b[0m\u001b[0;34m)\u001b[0m\u001b[0;34m\u001b[0m\u001b[0;34m\u001b[0m\u001b[0m\n\u001b[0m\u001b[1;32m     20\u001b[0m \u001b[0mtest_interp2z\u001b[0m\u001b[0;34m(\u001b[0m\u001b[0mget_ds\u001b[0m\u001b[0;34m(\u001b[0m\u001b[0mget_P\u001b[0m\u001b[0;34m(\u001b[0m\u001b[0;36m4\u001b[0m\u001b[0;34m)\u001b[0m\u001b[0;34m[\u001b[0m\u001b[0;36m6\u001b[0m\u001b[0;34m]\u001b[0m\u001b[0;34m)\u001b[0m\u001b[0;34m)\u001b[0m\u001b[0;34m\u001b[0m\u001b[0;34m\u001b[0m\u001b[0m\n\u001b[1;32m     21\u001b[0m \u001b[0mtest_interp2z\u001b[0m\u001b[0;34m(\u001b[0m\u001b[0mget_ds\u001b[0m\u001b[0;34m(\u001b[0m\u001b[0mget_P\u001b[0m\u001b[0;34m(\u001b[0m\u001b[0;36m3\u001b[0m\u001b[0;34m)\u001b[0m\u001b[0;34m[\u001b[0m\u001b[0;36m6\u001b[0m\u001b[0;34m]\u001b[0m\u001b[0;34m)\u001b[0m\u001b[0;34m)\u001b[0m\u001b[0;34m\u001b[0m\u001b[0;34m\u001b[0m\u001b[0m\n",
      "\u001b[0;32m<ipython-input-10-55446c8ee228>\u001b[0m in \u001b[0;36mtest_interp2z\u001b[0;34m(ds)\u001b[0m\n\u001b[1;32m      4\u001b[0m                        \u001b[0;34m(\u001b[0m\u001b[0;36m0.\u001b[0m\u001b[0;34m*\u001b[0m\u001b[0mds\u001b[0m\u001b[0;34m[\u001b[0m\u001b[0;34m'v'\u001b[0m\u001b[0;34m]\u001b[0m\u001b[0;34m+\u001b[0m\u001b[0mds\u001b[0m\u001b[0;34m[\u001b[0m\u001b[0;34m'z_v'\u001b[0m\u001b[0;34m]\u001b[0m\u001b[0;34m)\u001b[0m\u001b[0;34m,\u001b[0m\u001b[0;34m\u001b[0m\u001b[0;34m\u001b[0m\u001b[0m\n\u001b[1;32m      5\u001b[0m                        \u001b[0mzt_dim\u001b[0m\u001b[0;34m=\u001b[0m\u001b[0;34m'z_target1d'\u001b[0m\u001b[0;34m,\u001b[0m\u001b[0;34m\u001b[0m\u001b[0;34m\u001b[0m\u001b[0m\n\u001b[0;32m----> 6\u001b[0;31m                        b_extrap=0, t_extrap=0)\n\u001b[0m\u001b[1;32m      7\u001b[0m     \u001b[0mprint\u001b[0m\u001b[0;34m(\u001b[0m\u001b[0;34m'---------'\u001b[0m\u001b[0;34m)\u001b[0m\u001b[0;34m\u001b[0m\u001b[0;34m\u001b[0m\u001b[0m\n\u001b[1;32m      8\u001b[0m     \u001b[0mprint\u001b[0m\u001b[0;34m(\u001b[0m\u001b[0;34m'v shape: {}'\u001b[0m\u001b[0;34m.\u001b[0m\u001b[0mformat\u001b[0m\u001b[0;34m(\u001b[0m\u001b[0mlist\u001b[0m\u001b[0;34m(\u001b[0m\u001b[0mds\u001b[0m\u001b[0;34m.\u001b[0m\u001b[0mv\u001b[0m\u001b[0;34m.\u001b[0m\u001b[0mdims\u001b[0m\u001b[0;34m)\u001b[0m\u001b[0;34m)\u001b[0m\u001b[0;34m)\u001b[0m\u001b[0;34m\u001b[0m\u001b[0;34m\u001b[0m\u001b[0m\n",
      "\u001b[0;32m~/code/croco/crocosi/gridop.py\u001b[0m in \u001b[0;36minterp2z\u001b[0;34m(zt, z, v, zt_dim, z_dim, **kwargs)\u001b[0m\n\u001b[1;32m    306\u001b[0m                               \u001b[0mdask\u001b[0m\u001b[0;34m=\u001b[0m\u001b[0;34m'parallelized'\u001b[0m\u001b[0;34m,\u001b[0m\u001b[0;34m\u001b[0m\u001b[0;34m\u001b[0m\u001b[0m\n\u001b[1;32m    307\u001b[0m                               \u001b[0moutput_dtypes\u001b[0m\u001b[0;34m=\u001b[0m\u001b[0;34m[\u001b[0m\u001b[0mnp\u001b[0m\u001b[0;34m.\u001b[0m\u001b[0mfloat64\u001b[0m\u001b[0;34m]\u001b[0m\u001b[0;34m,\u001b[0m\u001b[0;34m\u001b[0m\u001b[0;34m\u001b[0m\u001b[0m\n\u001b[0;32m--> 308\u001b[0;31m                               **ufunc_kwargs)\n\u001b[0m\u001b[1;32m    309\u001b[0m     \u001b[0;32melse\u001b[0m\u001b[0;34m:\u001b[0m\u001b[0;34m\u001b[0m\u001b[0;34m\u001b[0m\u001b[0m\n\u001b[1;32m    310\u001b[0m         \u001b[0;31m# numpy array\u001b[0m\u001b[0;34m\u001b[0m\u001b[0;34m\u001b[0m\u001b[0;34m\u001b[0m\u001b[0m\n",
      "\u001b[0;32m~/.miniconda3/envs/equinox/lib/python3.7/site-packages/xarray/core/computation.py\u001b[0m in \u001b[0;36mapply_ufunc\u001b[0;34m(func, input_core_dims, output_core_dims, exclude_dims, vectorize, join, dataset_join, dataset_fill_value, keep_attrs, kwargs, dask, output_dtypes, output_sizes, meta, *args)\u001b[0m\n\u001b[1;32m   1062\u001b[0m             \u001b[0mjoin\u001b[0m\u001b[0;34m=\u001b[0m\u001b[0mjoin\u001b[0m\u001b[0;34m,\u001b[0m\u001b[0;34m\u001b[0m\u001b[0;34m\u001b[0m\u001b[0m\n\u001b[1;32m   1063\u001b[0m             \u001b[0mexclude_dims\u001b[0m\u001b[0;34m=\u001b[0m\u001b[0mexclude_dims\u001b[0m\u001b[0;34m,\u001b[0m\u001b[0;34m\u001b[0m\u001b[0;34m\u001b[0m\u001b[0m\n\u001b[0;32m-> 1064\u001b[0;31m             \u001b[0mkeep_attrs\u001b[0m\u001b[0;34m=\u001b[0m\u001b[0mkeep_attrs\u001b[0m\u001b[0;34m,\u001b[0m\u001b[0;34m\u001b[0m\u001b[0;34m\u001b[0m\u001b[0m\n\u001b[0m\u001b[1;32m   1065\u001b[0m         )\n\u001b[1;32m   1066\u001b[0m     \u001b[0;32melif\u001b[0m \u001b[0many\u001b[0m\u001b[0;34m(\u001b[0m\u001b[0misinstance\u001b[0m\u001b[0;34m(\u001b[0m\u001b[0ma\u001b[0m\u001b[0;34m,\u001b[0m \u001b[0mVariable\u001b[0m\u001b[0;34m)\u001b[0m \u001b[0;32mfor\u001b[0m \u001b[0ma\u001b[0m \u001b[0;32min\u001b[0m \u001b[0margs\u001b[0m\u001b[0;34m)\u001b[0m\u001b[0;34m:\u001b[0m\u001b[0;34m\u001b[0m\u001b[0;34m\u001b[0m\u001b[0m\n",
      "\u001b[0;32m~/.miniconda3/envs/equinox/lib/python3.7/site-packages/xarray/core/computation.py\u001b[0m in \u001b[0;36mapply_dataarray_vfunc\u001b[0;34m(func, signature, join, exclude_dims, keep_attrs, *args)\u001b[0m\n\u001b[1;32m    231\u001b[0m \u001b[0;34m\u001b[0m\u001b[0m\n\u001b[1;32m    232\u001b[0m     \u001b[0mdata_vars\u001b[0m \u001b[0;34m=\u001b[0m \u001b[0;34m[\u001b[0m\u001b[0mgetattr\u001b[0m\u001b[0;34m(\u001b[0m\u001b[0ma\u001b[0m\u001b[0;34m,\u001b[0m \u001b[0;34m\"variable\"\u001b[0m\u001b[0;34m,\u001b[0m \u001b[0ma\u001b[0m\u001b[0;34m)\u001b[0m \u001b[0;32mfor\u001b[0m \u001b[0ma\u001b[0m \u001b[0;32min\u001b[0m \u001b[0margs\u001b[0m\u001b[0;34m]\u001b[0m\u001b[0;34m\u001b[0m\u001b[0;34m\u001b[0m\u001b[0m\n\u001b[0;32m--> 233\u001b[0;31m     \u001b[0mresult_var\u001b[0m \u001b[0;34m=\u001b[0m \u001b[0mfunc\u001b[0m\u001b[0;34m(\u001b[0m\u001b[0;34m*\u001b[0m\u001b[0mdata_vars\u001b[0m\u001b[0;34m)\u001b[0m\u001b[0;34m\u001b[0m\u001b[0;34m\u001b[0m\u001b[0m\n\u001b[0m\u001b[1;32m    234\u001b[0m \u001b[0;34m\u001b[0m\u001b[0m\n\u001b[1;32m    235\u001b[0m     \u001b[0;32mif\u001b[0m \u001b[0msignature\u001b[0m\u001b[0;34m.\u001b[0m\u001b[0mnum_outputs\u001b[0m \u001b[0;34m>\u001b[0m \u001b[0;36m1\u001b[0m\u001b[0;34m:\u001b[0m\u001b[0;34m\u001b[0m\u001b[0;34m\u001b[0m\u001b[0m\n",
      "\u001b[0;32m~/.miniconda3/envs/equinox/lib/python3.7/site-packages/xarray/core/computation.py\u001b[0m in \u001b[0;36mapply_variable_ufunc\u001b[0;34m(func, signature, exclude_dims, dask, output_dtypes, output_sizes, keep_attrs, meta, *args)\u001b[0m\n\u001b[1;32m    602\u001b[0m                 \u001b[0;34m\"apply_ufunc: {}\"\u001b[0m\u001b[0;34m.\u001b[0m\u001b[0mformat\u001b[0m\u001b[0;34m(\u001b[0m\u001b[0mdask\u001b[0m\u001b[0;34m)\u001b[0m\u001b[0;34m\u001b[0m\u001b[0;34m\u001b[0m\u001b[0m\n\u001b[1;32m    603\u001b[0m             )\n\u001b[0;32m--> 604\u001b[0;31m     \u001b[0mresult_data\u001b[0m \u001b[0;34m=\u001b[0m \u001b[0mfunc\u001b[0m\u001b[0;34m(\u001b[0m\u001b[0;34m*\u001b[0m\u001b[0minput_data\u001b[0m\u001b[0;34m)\u001b[0m\u001b[0;34m\u001b[0m\u001b[0;34m\u001b[0m\u001b[0m\n\u001b[0m\u001b[1;32m    605\u001b[0m \u001b[0;34m\u001b[0m\u001b[0m\n\u001b[1;32m    606\u001b[0m     \u001b[0;32mif\u001b[0m \u001b[0msignature\u001b[0m\u001b[0;34m.\u001b[0m\u001b[0mnum_outputs\u001b[0m \u001b[0;34m==\u001b[0m \u001b[0;36m1\u001b[0m\u001b[0;34m:\u001b[0m\u001b[0;34m\u001b[0m\u001b[0;34m\u001b[0m\u001b[0m\n",
      "\u001b[0;32m~/.miniconda3/envs/equinox/lib/python3.7/site-packages/xarray/core/computation.py\u001b[0m in \u001b[0;36mfunc\u001b[0;34m(*arrays)\u001b[0m\n\u001b[1;32m    592\u001b[0m                     \u001b[0moutput_dtypes\u001b[0m\u001b[0;34m,\u001b[0m\u001b[0;34m\u001b[0m\u001b[0;34m\u001b[0m\u001b[0m\n\u001b[1;32m    593\u001b[0m                     \u001b[0moutput_sizes\u001b[0m\u001b[0;34m,\u001b[0m\u001b[0;34m\u001b[0m\u001b[0;34m\u001b[0m\u001b[0m\n\u001b[0;32m--> 594\u001b[0;31m                     \u001b[0mmeta\u001b[0m\u001b[0;34m,\u001b[0m\u001b[0;34m\u001b[0m\u001b[0;34m\u001b[0m\u001b[0m\n\u001b[0m\u001b[1;32m    595\u001b[0m                 )\n\u001b[1;32m    596\u001b[0m \u001b[0;34m\u001b[0m\u001b[0m\n",
      "\u001b[0;32m~/.miniconda3/envs/equinox/lib/python3.7/site-packages/xarray/core/computation.py\u001b[0m in \u001b[0;36m_apply_blockwise\u001b[0;34m(func, args, input_dims, output_dims, signature, output_dtypes, output_sizes, meta)\u001b[0m\n\u001b[1;32m    730\u001b[0m         \u001b[0mconcatenate\u001b[0m\u001b[0;34m=\u001b[0m\u001b[0;32mTrue\u001b[0m\u001b[0;34m,\u001b[0m\u001b[0;34m\u001b[0m\u001b[0;34m\u001b[0m\u001b[0m\n\u001b[1;32m    731\u001b[0m         \u001b[0mnew_axes\u001b[0m\u001b[0;34m=\u001b[0m\u001b[0moutput_sizes\u001b[0m\u001b[0;34m,\u001b[0m\u001b[0;34m\u001b[0m\u001b[0;34m\u001b[0m\u001b[0m\n\u001b[0;32m--> 732\u001b[0;31m         \u001b[0mmeta\u001b[0m\u001b[0;34m=\u001b[0m\u001b[0mmeta\u001b[0m\u001b[0;34m,\u001b[0m\u001b[0;34m\u001b[0m\u001b[0;34m\u001b[0m\u001b[0m\n\u001b[0m\u001b[1;32m    733\u001b[0m     )\n\u001b[1;32m    734\u001b[0m \u001b[0;34m\u001b[0m\u001b[0m\n",
      "\u001b[0;32m~/.miniconda3/envs/equinox/lib/python3.7/site-packages/dask/array/blockwise.py\u001b[0m in \u001b[0;36mblockwise\u001b[0;34m(func, out_ind, name, token, dtype, adjust_chunks, new_axes, align_arrays, concatenate, meta, *args, **kwargs)\u001b[0m\n\u001b[1;32m    143\u001b[0m \u001b[0;34m\u001b[0m\u001b[0m\n\u001b[1;32m    144\u001b[0m     \u001b[0;32mif\u001b[0m \u001b[0malign_arrays\u001b[0m\u001b[0;34m:\u001b[0m\u001b[0;34m\u001b[0m\u001b[0;34m\u001b[0m\u001b[0m\n\u001b[0;32m--> 145\u001b[0;31m         \u001b[0mchunkss\u001b[0m\u001b[0;34m,\u001b[0m \u001b[0marrays\u001b[0m \u001b[0;34m=\u001b[0m \u001b[0munify_chunks\u001b[0m\u001b[0;34m(\u001b[0m\u001b[0;34m*\u001b[0m\u001b[0margs\u001b[0m\u001b[0;34m)\u001b[0m\u001b[0;34m\u001b[0m\u001b[0;34m\u001b[0m\u001b[0m\n\u001b[0m\u001b[1;32m    146\u001b[0m     \u001b[0;32melse\u001b[0m\u001b[0;34m:\u001b[0m\u001b[0;34m\u001b[0m\u001b[0;34m\u001b[0m\u001b[0m\n\u001b[1;32m    147\u001b[0m         \u001b[0marginds\u001b[0m \u001b[0;34m=\u001b[0m \u001b[0;34m[\u001b[0m\u001b[0;34m(\u001b[0m\u001b[0ma\u001b[0m\u001b[0;34m,\u001b[0m \u001b[0mi\u001b[0m\u001b[0;34m)\u001b[0m \u001b[0;32mfor\u001b[0m \u001b[0;34m(\u001b[0m\u001b[0ma\u001b[0m\u001b[0;34m,\u001b[0m \u001b[0mi\u001b[0m\u001b[0;34m)\u001b[0m \u001b[0;32min\u001b[0m \u001b[0mtoolz\u001b[0m\u001b[0;34m.\u001b[0m\u001b[0mpartition\u001b[0m\u001b[0;34m(\u001b[0m\u001b[0;36m2\u001b[0m\u001b[0;34m,\u001b[0m \u001b[0margs\u001b[0m\u001b[0;34m)\u001b[0m \u001b[0;32mif\u001b[0m \u001b[0mi\u001b[0m \u001b[0;32mis\u001b[0m \u001b[0;32mnot\u001b[0m \u001b[0;32mNone\u001b[0m\u001b[0;34m]\u001b[0m\u001b[0;34m\u001b[0m\u001b[0;34m\u001b[0m\u001b[0m\n",
      "\u001b[0;32m~/.miniconda3/envs/equinox/lib/python3.7/site-packages/dask/array/core.py\u001b[0m in \u001b[0;36munify_chunks\u001b[0;34m(*args, **kwargs)\u001b[0m\n\u001b[1;32m   3180\u001b[0m             )\n\u001b[1;32m   3181\u001b[0m             \u001b[0;32mif\u001b[0m \u001b[0mchunks\u001b[0m \u001b[0;34m!=\u001b[0m \u001b[0ma\u001b[0m\u001b[0;34m.\u001b[0m\u001b[0mchunks\u001b[0m \u001b[0;32mand\u001b[0m \u001b[0mall\u001b[0m\u001b[0;34m(\u001b[0m\u001b[0ma\u001b[0m\u001b[0;34m.\u001b[0m\u001b[0mchunks\u001b[0m\u001b[0;34m)\u001b[0m\u001b[0;34m:\u001b[0m\u001b[0;34m\u001b[0m\u001b[0;34m\u001b[0m\u001b[0m\n\u001b[0;32m-> 3182\u001b[0;31m                 \u001b[0marrays\u001b[0m\u001b[0;34m.\u001b[0m\u001b[0mappend\u001b[0m\u001b[0;34m(\u001b[0m\u001b[0ma\u001b[0m\u001b[0;34m.\u001b[0m\u001b[0mrechunk\u001b[0m\u001b[0;34m(\u001b[0m\u001b[0mchunks\u001b[0m\u001b[0;34m)\u001b[0m\u001b[0;34m)\u001b[0m\u001b[0;34m\u001b[0m\u001b[0;34m\u001b[0m\u001b[0m\n\u001b[0m\u001b[1;32m   3183\u001b[0m             \u001b[0;32melse\u001b[0m\u001b[0;34m:\u001b[0m\u001b[0;34m\u001b[0m\u001b[0;34m\u001b[0m\u001b[0m\n\u001b[1;32m   3184\u001b[0m                 \u001b[0marrays\u001b[0m\u001b[0;34m.\u001b[0m\u001b[0mappend\u001b[0m\u001b[0;34m(\u001b[0m\u001b[0ma\u001b[0m\u001b[0;34m)\u001b[0m\u001b[0;34m\u001b[0m\u001b[0;34m\u001b[0m\u001b[0m\n",
      "\u001b[0;32m~/.miniconda3/envs/equinox/lib/python3.7/site-packages/dask/array/core.py\u001b[0m in \u001b[0;36mrechunk\u001b[0;34m(self, chunks, threshold, block_size_limit)\u001b[0m\n\u001b[1;32m   2167\u001b[0m         \u001b[0;32mfrom\u001b[0m \u001b[0;34m.\u001b[0m \u001b[0;32mimport\u001b[0m \u001b[0mrechunk\u001b[0m  \u001b[0;31m# avoid circular import\u001b[0m\u001b[0;34m\u001b[0m\u001b[0;34m\u001b[0m\u001b[0m\n\u001b[1;32m   2168\u001b[0m \u001b[0;34m\u001b[0m\u001b[0m\n\u001b[0;32m-> 2169\u001b[0;31m         \u001b[0;32mreturn\u001b[0m \u001b[0mrechunk\u001b[0m\u001b[0;34m(\u001b[0m\u001b[0mself\u001b[0m\u001b[0;34m,\u001b[0m \u001b[0mchunks\u001b[0m\u001b[0;34m,\u001b[0m \u001b[0mthreshold\u001b[0m\u001b[0;34m,\u001b[0m \u001b[0mblock_size_limit\u001b[0m\u001b[0;34m)\u001b[0m\u001b[0;34m\u001b[0m\u001b[0;34m\u001b[0m\u001b[0m\n\u001b[0m\u001b[1;32m   2170\u001b[0m \u001b[0;34m\u001b[0m\u001b[0m\n\u001b[1;32m   2171\u001b[0m     \u001b[0;34m@\u001b[0m\u001b[0mproperty\u001b[0m\u001b[0;34m\u001b[0m\u001b[0;34m\u001b[0m\u001b[0m\n",
      "\u001b[0;32m~/.miniconda3/envs/equinox/lib/python3.7/site-packages/dask/array/rechunk.py\u001b[0m in \u001b[0;36mrechunk\u001b[0;34m(x, chunks, threshold, block_size_limit)\u001b[0m\n\u001b[1;32m    228\u001b[0m         \u001b[0mchunks\u001b[0m \u001b[0;34m=\u001b[0m \u001b[0mtuple\u001b[0m\u001b[0;34m(\u001b[0m\u001b[0mlc\u001b[0m \u001b[0;32mif\u001b[0m \u001b[0mlc\u001b[0m \u001b[0;32mis\u001b[0m \u001b[0;32mnot\u001b[0m \u001b[0;32mNone\u001b[0m \u001b[0;32melse\u001b[0m \u001b[0mrc\u001b[0m \u001b[0;32mfor\u001b[0m \u001b[0mlc\u001b[0m\u001b[0;34m,\u001b[0m \u001b[0mrc\u001b[0m \u001b[0;32min\u001b[0m \u001b[0mzip\u001b[0m\u001b[0;34m(\u001b[0m\u001b[0mchunks\u001b[0m\u001b[0;34m,\u001b[0m \u001b[0mx\u001b[0m\u001b[0;34m.\u001b[0m\u001b[0mchunks\u001b[0m\u001b[0;34m)\u001b[0m\u001b[0;34m)\u001b[0m\u001b[0;34m\u001b[0m\u001b[0;34m\u001b[0m\u001b[0m\n\u001b[1;32m    229\u001b[0m     chunks = normalize_chunks(\n\u001b[0;32m--> 230\u001b[0;31m         \u001b[0mchunks\u001b[0m\u001b[0;34m,\u001b[0m \u001b[0mx\u001b[0m\u001b[0;34m.\u001b[0m\u001b[0mshape\u001b[0m\u001b[0;34m,\u001b[0m \u001b[0mlimit\u001b[0m\u001b[0;34m=\u001b[0m\u001b[0mblock_size_limit\u001b[0m\u001b[0;34m,\u001b[0m \u001b[0mdtype\u001b[0m\u001b[0;34m=\u001b[0m\u001b[0mx\u001b[0m\u001b[0;34m.\u001b[0m\u001b[0mdtype\u001b[0m\u001b[0;34m,\u001b[0m \u001b[0mprevious_chunks\u001b[0m\u001b[0;34m=\u001b[0m\u001b[0mx\u001b[0m\u001b[0;34m.\u001b[0m\u001b[0mchunks\u001b[0m\u001b[0;34m\u001b[0m\u001b[0;34m\u001b[0m\u001b[0m\n\u001b[0m\u001b[1;32m    231\u001b[0m     )\n\u001b[1;32m    232\u001b[0m \u001b[0;34m\u001b[0m\u001b[0m\n",
      "\u001b[0;32m~/.miniconda3/envs/equinox/lib/python3.7/site-packages/dask/array/core.py\u001b[0m in \u001b[0;36mnormalize_chunks\u001b[0;34m(chunks, shape, limit, dtype, previous_chunks)\u001b[0m\n\u001b[1;32m   2423\u001b[0m         raise ValueError(\n\u001b[1;32m   2424\u001b[0m             \u001b[0;34m\"Chunks and shape must be of the same length/dimension. \"\u001b[0m\u001b[0;34m\u001b[0m\u001b[0;34m\u001b[0m\u001b[0m\n\u001b[0;32m-> 2425\u001b[0;31m             \u001b[0;34m\"Got chunks=%s, shape=%s\"\u001b[0m \u001b[0;34m%\u001b[0m \u001b[0;34m(\u001b[0m\u001b[0mchunks\u001b[0m\u001b[0;34m,\u001b[0m \u001b[0mshape\u001b[0m\u001b[0;34m)\u001b[0m\u001b[0;34m\u001b[0m\u001b[0;34m\u001b[0m\u001b[0m\n\u001b[0m\u001b[1;32m   2426\u001b[0m         )\n\u001b[1;32m   2427\u001b[0m     \u001b[0;32mif\u001b[0m \u001b[0;34m-\u001b[0m\u001b[0;36m1\u001b[0m \u001b[0;32min\u001b[0m \u001b[0mchunks\u001b[0m \u001b[0;32mor\u001b[0m \u001b[0;32mNone\u001b[0m \u001b[0;32min\u001b[0m \u001b[0mchunks\u001b[0m\u001b[0;34m:\u001b[0m\u001b[0;34m\u001b[0m\u001b[0;34m\u001b[0m\u001b[0m\n",
      "\u001b[0;31mValueError\u001b[0m: Chunks and shape must be of the same length/dimension. Got chunks=(), shape=(2,)"
     ]
    }
   ],
   "source": [
    "def test_interp2z(ds):\n",
    "    print(ds)\n",
    "    out = gop.interp2z(ds['z_target'], ds['v'], \n",
    "                       (0.*ds['v']+ds['z_v']),\n",
    "                       zt_dim='z_target1d',\n",
    "                       b_extrap=0, t_extrap=0)\n",
    "    print('---------')\n",
    "    print('v shape: {}'.format(list(ds.v.dims)))\n",
    "    print('Input shape = {}'.format(ds['v'].values.shape))\n",
    "    print('Ouput shape = {}'.format(out.shape))\n",
    "    if out.ndim==4:\n",
    "        out = out.swapaxes(0,z_pos)[:,0,0,0]\n",
    "    elif out.ndim==3:\n",
    "        out = out[:,0,0]\n",
    "    elif out.ndim==2:\n",
    "        out = out[:,0]\n",
    "    print(out)\n",
    "    \n",
    "test_interp2z(get_ds(get_P(4)[0], chunks={'x':1}))\n",
    "test_interp2z(get_ds(get_P(4)[6]))\n",
    "test_interp2z(get_ds(get_P(3)[6]))\n",
    "test_interp2z(get_ds(get_P(2)[2]))\n",
    "test_interp2z(get_ds(('z',)))"
   ]
  },
  {
   "cell_type": "code",
   "execution_count": null,
   "metadata": {},
   "outputs": [],
   "source": []
  },
  {
   "cell_type": "code",
   "execution_count": null,
   "metadata": {},
   "outputs": [],
   "source": []
  },
  {
   "cell_type": "code",
   "execution_count": null,
   "metadata": {},
   "outputs": [],
   "source": []
  },
  {
   "cell_type": "code",
   "execution_count": 5,
   "metadata": {},
   "outputs": [
    {
     "ename": "ValueError",
     "evalue": "applied function returned data with unexpected number of dimensions: 3 vs 4, for dimensions ('z_target1d', 'time', 'x', 'z')",
     "output_type": "error",
     "traceback": [
      "\u001b[0;31m---------------------------------------------------------------------------\u001b[0m",
      "\u001b[0;31mValueError\u001b[0m                                Traceback (most recent call last)",
      "\u001b[0;32m<ipython-input-5-6800f635423f>\u001b[0m in \u001b[0;36m<module>\u001b[0;34m\u001b[0m\n\u001b[0;32m----> 1\u001b[0;31m \u001b[0mgop\u001b[0m\u001b[0;34m.\u001b[0m\u001b[0minterp2z\u001b[0m\u001b[0;34m(\u001b[0m\u001b[0mds\u001b[0m\u001b[0;34m[\u001b[0m\u001b[0;34m'z_target'\u001b[0m\u001b[0;34m]\u001b[0m\u001b[0;34m,\u001b[0m \u001b[0mds\u001b[0m\u001b[0;34m[\u001b[0m\u001b[0;34m'v'\u001b[0m\u001b[0;34m]\u001b[0m\u001b[0;34m,\u001b[0m \u001b[0mds\u001b[0m\u001b[0;34m[\u001b[0m\u001b[0;34m'z_v'\u001b[0m\u001b[0;34m]\u001b[0m\u001b[0;34m)\u001b[0m\u001b[0;34m\u001b[0m\u001b[0;34m\u001b[0m\u001b[0m\n\u001b[0m",
      "\u001b[0;32m~/croco/crocosi/gridop.py\u001b[0m in \u001b[0;36minterp2z\u001b[0;34m(z0, z, v, **kwargs)\u001b[0m\n\u001b[1;32m    198\u001b[0m                           \u001b[0mkwargs\u001b[0m\u001b[0;34m=\u001b[0m\u001b[0mkwargs\u001b[0m\u001b[0;34m,\u001b[0m\u001b[0;34m\u001b[0m\u001b[0;34m\u001b[0m\u001b[0m\n\u001b[1;32m    199\u001b[0m                           \u001b[0mdask\u001b[0m\u001b[0;34m=\u001b[0m\u001b[0;34m'parallelized'\u001b[0m\u001b[0;34m,\u001b[0m\u001b[0;34m\u001b[0m\u001b[0;34m\u001b[0m\u001b[0m\n\u001b[0;32m--> 200\u001b[0;31m                           output_dtypes=[np.float64])\n\u001b[0m\u001b[1;32m    201\u001b[0m     \u001b[0;32mreturn\u001b[0m \u001b[0mvout\u001b[0m\u001b[0;34m\u001b[0m\u001b[0;34m\u001b[0m\u001b[0m\n\u001b[1;32m    202\u001b[0m \u001b[0;34m\u001b[0m\u001b[0m\n",
      "\u001b[0;32m~/.miniconda3/envs/equinox/lib/python3.7/site-packages/xarray/core/computation.py\u001b[0m in \u001b[0;36mapply_ufunc\u001b[0;34m(func, input_core_dims, output_core_dims, exclude_dims, vectorize, join, dataset_join, dataset_fill_value, keep_attrs, kwargs, dask, output_dtypes, output_sizes, meta, *args)\u001b[0m\n\u001b[1;32m   1062\u001b[0m             \u001b[0mjoin\u001b[0m\u001b[0;34m=\u001b[0m\u001b[0mjoin\u001b[0m\u001b[0;34m,\u001b[0m\u001b[0;34m\u001b[0m\u001b[0;34m\u001b[0m\u001b[0m\n\u001b[1;32m   1063\u001b[0m             \u001b[0mexclude_dims\u001b[0m\u001b[0;34m=\u001b[0m\u001b[0mexclude_dims\u001b[0m\u001b[0;34m,\u001b[0m\u001b[0;34m\u001b[0m\u001b[0;34m\u001b[0m\u001b[0m\n\u001b[0;32m-> 1064\u001b[0;31m             \u001b[0mkeep_attrs\u001b[0m\u001b[0;34m=\u001b[0m\u001b[0mkeep_attrs\u001b[0m\u001b[0;34m,\u001b[0m\u001b[0;34m\u001b[0m\u001b[0;34m\u001b[0m\u001b[0m\n\u001b[0m\u001b[1;32m   1065\u001b[0m         )\n\u001b[1;32m   1066\u001b[0m     \u001b[0;32melif\u001b[0m \u001b[0many\u001b[0m\u001b[0;34m(\u001b[0m\u001b[0misinstance\u001b[0m\u001b[0;34m(\u001b[0m\u001b[0ma\u001b[0m\u001b[0;34m,\u001b[0m \u001b[0mVariable\u001b[0m\u001b[0;34m)\u001b[0m \u001b[0;32mfor\u001b[0m \u001b[0ma\u001b[0m \u001b[0;32min\u001b[0m \u001b[0margs\u001b[0m\u001b[0;34m)\u001b[0m\u001b[0;34m:\u001b[0m\u001b[0;34m\u001b[0m\u001b[0;34m\u001b[0m\u001b[0m\n",
      "\u001b[0;32m~/.miniconda3/envs/equinox/lib/python3.7/site-packages/xarray/core/computation.py\u001b[0m in \u001b[0;36mapply_dataarray_vfunc\u001b[0;34m(func, signature, join, exclude_dims, keep_attrs, *args)\u001b[0m\n\u001b[1;32m    231\u001b[0m \u001b[0;34m\u001b[0m\u001b[0m\n\u001b[1;32m    232\u001b[0m     \u001b[0mdata_vars\u001b[0m \u001b[0;34m=\u001b[0m \u001b[0;34m[\u001b[0m\u001b[0mgetattr\u001b[0m\u001b[0;34m(\u001b[0m\u001b[0ma\u001b[0m\u001b[0;34m,\u001b[0m \u001b[0;34m\"variable\"\u001b[0m\u001b[0;34m,\u001b[0m \u001b[0ma\u001b[0m\u001b[0;34m)\u001b[0m \u001b[0;32mfor\u001b[0m \u001b[0ma\u001b[0m \u001b[0;32min\u001b[0m \u001b[0margs\u001b[0m\u001b[0;34m]\u001b[0m\u001b[0;34m\u001b[0m\u001b[0;34m\u001b[0m\u001b[0m\n\u001b[0;32m--> 233\u001b[0;31m     \u001b[0mresult_var\u001b[0m \u001b[0;34m=\u001b[0m \u001b[0mfunc\u001b[0m\u001b[0;34m(\u001b[0m\u001b[0;34m*\u001b[0m\u001b[0mdata_vars\u001b[0m\u001b[0;34m)\u001b[0m\u001b[0;34m\u001b[0m\u001b[0;34m\u001b[0m\u001b[0m\n\u001b[0m\u001b[1;32m    234\u001b[0m \u001b[0;34m\u001b[0m\u001b[0m\n\u001b[1;32m    235\u001b[0m     \u001b[0;32mif\u001b[0m \u001b[0msignature\u001b[0m\u001b[0;34m.\u001b[0m\u001b[0mnum_outputs\u001b[0m \u001b[0;34m>\u001b[0m \u001b[0;36m1\u001b[0m\u001b[0;34m:\u001b[0m\u001b[0;34m\u001b[0m\u001b[0;34m\u001b[0m\u001b[0m\n",
      "\u001b[0;32m~/.miniconda3/envs/equinox/lib/python3.7/site-packages/xarray/core/computation.py\u001b[0m in \u001b[0;36mapply_variable_ufunc\u001b[0;34m(func, signature, exclude_dims, dask, output_dtypes, output_sizes, keep_attrs, meta, *args)\u001b[0m\n\u001b[1;32m    624\u001b[0m                 \u001b[0;34m\"applied function returned data with unexpected \"\u001b[0m\u001b[0;34m\u001b[0m\u001b[0;34m\u001b[0m\u001b[0m\n\u001b[1;32m    625\u001b[0m                 \"number of dimensions: {} vs {}, for dimensions {}\".format(\n\u001b[0;32m--> 626\u001b[0;31m                     \u001b[0mdata\u001b[0m\u001b[0;34m.\u001b[0m\u001b[0mndim\u001b[0m\u001b[0;34m,\u001b[0m \u001b[0mlen\u001b[0m\u001b[0;34m(\u001b[0m\u001b[0mdims\u001b[0m\u001b[0;34m)\u001b[0m\u001b[0;34m,\u001b[0m \u001b[0mdims\u001b[0m\u001b[0;34m\u001b[0m\u001b[0;34m\u001b[0m\u001b[0m\n\u001b[0m\u001b[1;32m    627\u001b[0m                 )\n\u001b[1;32m    628\u001b[0m             )\n",
      "\u001b[0;31mValueError\u001b[0m: applied function returned data with unexpected number of dimensions: 3 vs 4, for dimensions ('z_target1d', 'time', 'x', 'z')"
     ]
    }
   ],
   "source": [
    "gop.interp2z(ds['z_target'], ds['v'], ds['z_v'])"
   ]
  },
  {
   "cell_type": "code",
   "execution_count": 8,
   "metadata": {},
   "outputs": [],
   "source": [
    "x = np.array([[1], [2], [3]])\n",
    "y = np.array([4, 5, 6])\n",
    "a,b = np.broadcast_arrays(x,y)"
   ]
  },
  {
   "cell_type": "code",
   "execution_count": 10,
   "metadata": {},
   "outputs": [
    {
     "data": {
      "text/plain": [
       "(3, 1)"
      ]
     },
     "execution_count": 10,
     "metadata": {},
     "output_type": "execute_result"
    }
   ],
   "source": [
    "x.shape"
   ]
  },
  {
   "cell_type": "code",
   "execution_count": 9,
   "metadata": {},
   "outputs": [
    {
     "data": {
      "text/plain": [
       "(3,)"
      ]
     },
     "execution_count": 9,
     "metadata": {},
     "output_type": "execute_result"
    }
   ],
   "source": [
    "y.shape"
   ]
  },
  {
   "cell_type": "code",
   "execution_count": 9,
   "metadata": {},
   "outputs": [
    {
     "data": {
      "text/plain": [
       "(3, 1)"
      ]
     },
     "execution_count": 9,
     "metadata": {},
     "output_type": "execute_result"
    }
   ],
   "source": [
    "x.shape"
   ]
  },
  {
   "cell_type": "code",
   "execution_count": 8,
   "metadata": {},
   "outputs": [
    {
     "data": {
      "text/plain": [
       "(3,)"
      ]
     },
     "execution_count": 8,
     "metadata": {},
     "output_type": "execute_result"
    }
   ],
   "source": [
    "y.shape"
   ]
  },
  {
   "cell_type": "code",
   "execution_count": 17,
   "metadata": {},
   "outputs": [
    {
     "data": {
      "text/plain": [
       "True"
      ]
     },
     "execution_count": 17,
     "metadata": {},
     "output_type": "execute_result"
    }
   ],
   "source": [
    "a.shape==b.shape"
   ]
  },
  {
   "cell_type": "code",
   "execution_count": 19,
   "metadata": {},
   "outputs": [
    {
     "data": {
      "text/plain": [
       "(3,)"
      ]
     },
     "execution_count": 19,
     "metadata": {},
     "output_type": "execute_result"
    }
   ],
   "source": [
    "a.shape[1:]"
   ]
  },
  {
   "cell_type": "code",
   "execution_count": null,
   "metadata": {},
   "outputs": [],
   "source": []
  }
 ],
 "metadata": {
  "kernelspec": {
   "display_name": "Python 3",
   "language": "python",
   "name": "python3"
  },
  "language_info": {
   "codemirror_mode": {
    "name": "ipython",
    "version": 3
   },
   "file_extension": ".py",
   "mimetype": "text/x-python",
   "name": "python",
   "nbconvert_exporter": "python",
   "pygments_lexer": "ipython3",
   "version": "3.7.6"
  }
 },
 "nbformat": 4,
 "nbformat_minor": 4
}
