{
 "cells": [
  {
   "cell_type": "markdown",
   "metadata": {},
   "source": [
    "# Temporal spectra and decorrelations\n"
   ]
  },
  {
   "cell_type": "code",
   "execution_count": 2,
   "metadata": {},
   "outputs": [
    {
     "name": "stderr",
     "output_type": "stream",
     "text": [
      "/home1/datahome/aponte/.miniconda3/envs/equinox/lib/python3.7/site-packages/distributed/utils.py:137: RuntimeWarning: Couldn't detect a suitable IP address for reaching '8.8.8.8', defaulting to '127.0.0.1': [Errno 101] Network is unreachable\n",
      "  RuntimeWarning,\n"
     ]
    }
   ],
   "source": [
    "%matplotlib inline\n",
    "import matplotlib as mpl\n",
    "from matplotlib import pyplot as plt\n",
    "\n",
    "import numpy as np\n",
    "import xarray as xr\n",
    "\n",
    "import crocosi.postp as pp"
   ]
  },
  {
   "cell_type": "code",
   "execution_count": 2,
   "metadata": {},
   "outputs": [
    {
     "data": {
      "text/html": [
       "<table style=\"border: 2px solid white;\">\n",
       "<tr>\n",
       "<td style=\"vertical-align: top; border: 0px solid white\">\n",
       "<h3 style=\"text-align: left;\">Client</h3>\n",
       "<ul style=\"text-align: left; list-style: none; margin: 0; padding: 0;\">\n",
       "  <li><b>Scheduler: </b>tcp://127.0.0.1:50373</li>\n",
       "  <li><b>Dashboard: </b><a href='http://127.0.0.1:8787/status' target='_blank'>http://127.0.0.1:8787/status</a>\n",
       "</ul>\n",
       "</td>\n",
       "<td style=\"vertical-align: top; border: 0px solid white\">\n",
       "<h3 style=\"text-align: left;\">Cluster</h3>\n",
       "<ul style=\"text-align: left; list-style:none; margin: 0; padding: 0;\">\n",
       "  <li><b>Workers: </b>8</li>\n",
       "  <li><b>Cores: </b>56</li>\n",
       "  <li><b>Memory: </b>107.37 GB</li>\n",
       "</ul>\n",
       "</td>\n",
       "</tr>\n",
       "</table>"
      ],
      "text/plain": [
       "<Client: 'tcp://127.0.0.1:50373' processes=8 threads=56, memory=107.37 GB>"
      ]
     },
     "execution_count": 2,
     "metadata": {},
     "output_type": "execute_result"
    }
   ],
   "source": [
    "from dask.distributed import Client, LocalCluster\n",
    "#\n",
    "#cluster = LocalCluster()\n",
    "#\n",
    "cluster = PBSCluster()\n",
    "w = cluster.scale(28*2)\n",
    "#\n",
    "client = Client(cluster)\n",
    "client"
   ]
  },
  {
   "cell_type": "markdown",
   "metadata": {},
   "source": [
    "## Load data"
   ]
  },
  {
   "cell_type": "code",
   "execution_count": 13,
   "metadata": {},
   "outputs": [
    {
     "name": "stdout",
     "output_type": "stream",
     "text": [
      "Analysing directory /home1/scratch/aponte/jet_cfg1_wp75_4km_1500a1700j_notide/\n",
      "Found 2 segments\n",
      "Found 1 grid files\n",
      "Found 2 surf files\n",
      "Detected time step of 300.0 s\n",
      "Detected theta_s = 5.0\n",
      "Detected theta_b = 0.0\n",
      "Detected Hc = 100.0 m\n",
      "Detected rho0 = 1000.0 kg/m^3\n",
      "Detected H = 4000.0 m\n",
      "Found 9 columns in output.mpi:\n",
      "['STEP', 'time[DAYS]', 'KINETIC_ENRG', 'POTEN_ENRG', 'TOTAL_ENRG', 'NET_VOLUME', 'trd', 'ENSTROPHY', 'BTKIN_ENRG']\n",
      "Opening NC datasets:  ['grid', 'surf']\n",
      "Grid size: (L ,M, N) = (258, 722, 50)\n"
     ]
    },
    {
     "data": {
      "text/plain": [
       "Run: /home1/scratch/aponte/jet_cfg1_wp75_4km_1500a1700j_notide/\n",
       "  datasets suffixes: grid / surf"
      ]
     },
     "execution_count": 13,
     "metadata": {},
     "output_type": "execute_result"
    }
   ],
   "source": [
    "root_path = '/home1/scratch/aponte/'\n",
    "#root_path = '/home/c11-data/Test_aponte/jetn/'\n",
    "run = 'jet_cfg1_wp75_4km_1500a1700j_notide/'\n",
    "\n",
    "r = pp.Run(root_path+run, prefix='file_', open_nc=['surf'], verbose=True)"
   ]
  },
  {
   "cell_type": "code",
   "execution_count": null,
   "metadata": {},
   "outputs": [],
   "source": [
    "r['surf']"
   ]
  },
  {
   "cell_type": "code",
   "execution_count": 12,
   "metadata": {},
   "outputs": [
    {
     "data": {
      "text/plain": [
       "<xarray.DataArray 'time_instant' ()>\n",
       "array(1586.99305556)\n",
       "Coordinates:\n",
       "    time_instant  float64 1.587e+03\n",
       "    time_counter  float64 1.587e+03"
      ]
     },
     "execution_count": 12,
     "metadata": {},
     "output_type": "execute_result"
    }
   ],
   "source": [
    "r['surf'].time_instant[-1].compute()"
   ]
  },
  {
   "cell_type": "code",
   "execution_count": 24,
   "metadata": {},
   "outputs": [
    {
     "name": "stdout",
     "output_type": "stream",
     "text": [
      "dataset size: 19 GB\n"
     ]
    }
   ],
   "source": [
    "V = ['u', 'v']\n",
    "ds = r['surf'][V]\n",
    "print('dataset size: %.0f GB' %(ds.nbytes/1e9))"
   ]
  },
  {
   "cell_type": "code",
   "execution_count": 26,
   "metadata": {},
   "outputs": [
    {
     "data": {
      "text/plain": [
       "<xarray.Dataset>\n",
       "Dimensions:       (s_rho_slice0: 1, time: 12527, x_rho: 258, x_u: 257, y_rho: 722, y_v: 721)\n",
       "Coordinates:\n",
       "  * s_rho_slice0  (s_rho_slice0) float32 -0.01\n",
       "    xi_u          (y_rho, x_u) float32 dask.array<chunksize=(100, 100), meta=np.ndarray>\n",
       "    time_counter  (time) float64 1.5e+03 1.5e+03 1.5e+03 ... 1.587e+03 1.587e+03\n",
       "    eta_u         (y_rho, x_u) float32 dask.array<chunksize=(100, 100), meta=np.ndarray>\n",
       "    eta_v         (y_v, x_rho) float32 dask.array<chunksize=(100, 100), meta=np.ndarray>\n",
       "    xi_v          (y_v, x_rho) float32 dask.array<chunksize=(100, 100), meta=np.ndarray>\n",
       "    xi_rho        (y_rho, x_rho) float32 dask.array<chunksize=(100, 100), meta=np.ndarray>\n",
       "    eta_rho       (y_rho, x_rho) float32 dask.array<chunksize=(100, 100), meta=np.ndarray>\n",
       "    f             (y_rho, x_rho) float32 dask.array<chunksize=(100, 100), meta=np.ndarray>\n",
       "    time_instant  (time) float64 dask.array<chunksize=(2880,), meta=np.ndarray>\n",
       "Dimensions without coordinates: time, x_rho, x_u, y_rho, y_v\n",
       "Data variables:\n",
       "    u             (time, s_rho_slice0, y_rho, x_u) float32 dask.array<chunksize=(2880, 1, 100, 100), meta=np.ndarray>\n",
       "    v             (time, s_rho_slice0, y_v, x_rho) float32 dask.array<chunksize=(2880, 1, 100, 100), meta=np.ndarray>\n",
       "Attributes:\n",
       "    name:         file_surf\n",
       "    description:  Created by xios\n",
       "    title:        Created by xios\n",
       "    Conventions:  CF-1.6\n",
       "    timeStamp:    2020-Feb-02 20:04:57 GMT\n",
       "    uuid:         0dbd8044-58c4-46c3-9453-c32c35b3e244\n",
       "    f0:           0.000103\n",
       "    beta:         1.62e-11"
      ]
     },
     "execution_count": 26,
     "metadata": {},
     "output_type": "execute_result"
    }
   ],
   "source": [
    "x, y, t = 100, 100, 6*24*20\n",
    "ds = ds.chunk({'time': t, 'x_rho': x, 'x_u': x, 'y_rho': y, 'y_v': y})"
   ]
  },
  {
   "cell_type": "code",
   "execution_count": null,
   "metadata": {},
   "outputs": [],
   "source": [
    "ds = ds.persist()"
   ]
  },
  {
   "cell_type": "markdown",
   "metadata": {},
   "source": [
    "---\n",
    "\n",
    "## Spectra: manual comput"
   ]
  },
  {
   "cell_type": "code",
   "execution_count": null,
   "metadata": {},
   "outputs": [],
   "source": []
  },
  {
   "cell_type": "code",
   "execution_count": null,
   "metadata": {},
   "outputs": [],
   "source": []
  },
  {
   "cell_type": "markdown",
   "metadata": {},
   "source": [
    "---\n",
    "\n",
    "## Spectra: xrft"
   ]
  },
  {
   "cell_type": "code",
   "execution_count": null,
   "metadata": {},
   "outputs": [],
   "source": []
  },
  {
   "cell_type": "code",
   "execution_count": null,
   "metadata": {},
   "outputs": [],
   "source": []
  },
  {
   "cell_type": "markdown",
   "metadata": {},
   "source": [
    "---\n",
    "\n",
    "## Decorrelation: manual apply_ufunc"
   ]
  },
  {
   "cell_type": "code",
   "execution_count": null,
   "metadata": {},
   "outputs": [],
   "source": []
  },
  {
   "cell_type": "code",
   "execution_count": null,
   "metadata": {},
   "outputs": [],
   "source": []
  },
  {
   "cell_type": "code",
   "execution_count": null,
   "metadata": {},
   "outputs": [],
   "source": []
  },
  {
   "cell_type": "markdown",
   "metadata": {},
   "source": [
    "---"
   ]
  },
  {
   "cell_type": "code",
   "execution_count": 9,
   "metadata": {},
   "outputs": [
    {
     "name": "stderr",
     "output_type": "stream",
     "text": [
      "distributed.client - ERROR - Failed to reconnect to scheduler after 10.00 seconds, closing client\n",
      "distributed.utils - ERROR - \n",
      "Traceback (most recent call last):\n",
      "  File \"/home1/datahome/aponte/.miniconda3/envs/equinox/lib/python3.7/site-packages/distributed/utils.py\", line 666, in log_errors\n",
      "    yield\n",
      "  File \"/home1/datahome/aponte/.miniconda3/envs/equinox/lib/python3.7/site-packages/distributed/client.py\", line 1283, in _close\n",
      "    await gen.with_timeout(timedelta(seconds=2), list(coroutines))\n",
      "concurrent.futures._base.CancelledError\n",
      "distributed.utils - ERROR - \n",
      "Traceback (most recent call last):\n",
      "  File \"/home1/datahome/aponte/.miniconda3/envs/equinox/lib/python3.7/site-packages/distributed/utils.py\", line 666, in log_errors\n",
      "    yield\n",
      "  File \"/home1/datahome/aponte/.miniconda3/envs/equinox/lib/python3.7/site-packages/distributed/client.py\", line 1012, in _reconnect\n",
      "    await self._close()\n",
      "  File \"/home1/datahome/aponte/.miniconda3/envs/equinox/lib/python3.7/site-packages/distributed/client.py\", line 1283, in _close\n",
      "    await gen.with_timeout(timedelta(seconds=2), list(coroutines))\n",
      "concurrent.futures._base.CancelledError\n"
     ]
    }
   ],
   "source": [
    "cluster.close()"
   ]
  },
  {
   "cell_type": "code",
   "execution_count": null,
   "metadata": {},
   "outputs": [],
   "source": []
  }
 ],
 "metadata": {
  "kernelspec": {
   "display_name": "Python 3",
   "language": "python",
   "name": "python3"
  },
  "language_info": {
   "codemirror_mode": {
    "name": "ipython",
    "version": 3
   },
   "file_extension": ".py",
   "mimetype": "text/x-python",
   "name": "python",
   "nbconvert_exporter": "python",
   "pygments_lexer": "ipython3",
   "version": "3.7.3"
  }
 },
 "nbformat": 4,
 "nbformat_minor": 4
}
