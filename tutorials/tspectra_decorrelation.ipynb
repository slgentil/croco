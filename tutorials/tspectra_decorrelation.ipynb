{
 "cells": [
  {
   "cell_type": "markdown",
   "metadata": {},
   "source": [
    "# Temporal spectra and decorrelations\n"
   ]
  },
  {
   "cell_type": "code",
   "execution_count": 1,
   "metadata": {},
   "outputs": [
    {
     "name": "stderr",
     "output_type": "stream",
     "text": [
      "/home1/datahome/aponte/.miniconda3/envs/equinox/lib/python3.7/site-packages/distributed/utils.py:137: RuntimeWarning: Couldn't detect a suitable IP address for reaching '8.8.8.8', defaulting to '127.0.0.1': [Errno 101] Network is unreachable\n",
      "  RuntimeWarning,\n"
     ]
    }
   ],
   "source": [
    "%matplotlib inline\n",
    "import matplotlib as mpl\n",
    "from matplotlib import pyplot as plt\n",
    "\n",
    "import numpy as np\n",
    "import xarray as xr\n",
    "\n",
    "import crocosi.postp as pp"
   ]
  },
  {
   "cell_type": "code",
   "execution_count": 2,
   "metadata": {},
   "outputs": [
    {
     "data": {
      "text/html": [
       "<table style=\"border: 2px solid white;\">\n",
       "<tr>\n",
       "<td style=\"vertical-align: top; border: 0px solid white\">\n",
       "<h3 style=\"text-align: left;\">Client</h3>\n",
       "<ul style=\"text-align: left; list-style: none; margin: 0; padding: 0;\">\n",
       "  <li><b>Scheduler: </b>tcp://10.148.1.99:49482</li>\n",
       "  <li><b>Dashboard: </b><a href='http://10.148.1.99:8787/status' target='_blank'>http://10.148.1.99:8787/status</a>\n",
       "</ul>\n",
       "</td>\n",
       "<td style=\"vertical-align: top; border: 0px solid white\">\n",
       "<h3 style=\"text-align: left;\">Cluster</h3>\n",
       "<ul style=\"text-align: left; list-style:none; margin: 0; padding: 0;\">\n",
       "  <li><b>Workers: </b>0</li>\n",
       "  <li><b>Cores: </b>0</li>\n",
       "  <li><b>Memory: </b>0 B</li>\n",
       "</ul>\n",
       "</td>\n",
       "</tr>\n",
       "</table>"
      ],
      "text/plain": [
       "<Client: 'tcp://10.148.1.99:49482' processes=0 threads=0, memory=0 B>"
      ]
     },
     "execution_count": 2,
     "metadata": {},
     "output_type": "execute_result"
    }
   ],
   "source": [
    "from dask.distributed import Client, LocalCluster\n",
    "#\n",
    "#cluster = LocalCluster()\n",
    "#\n",
    "from dask_jobqueue import PBSCluster\n",
    "cluster = PBSCluster()\n",
    "w = cluster.scale(28*2)\n",
    "#\n",
    "client = Client(cluster)\n",
    "client"
   ]
  },
  {
   "cell_type": "markdown",
   "metadata": {},
   "source": [
    "## Load data"
   ]
  },
  {
   "cell_type": "code",
   "execution_count": 78,
   "metadata": {},
   "outputs": [
    {
     "name": "stdout",
     "output_type": "stream",
     "text": [
      "Analysing directory /home1/scratch/aponte/jet_cfg1_wp75_4km_1500a2000j_itide/\n",
      "Found 2 segments\n",
      "Found 2 grid files\n",
      "Found 4 surf files\n",
      "Detected time step of 300.0 s\n",
      "Detected theta_s = 5.0\n",
      "Detected theta_b = 0.0\n",
      "Detected Hc = 100.0 m\n",
      "Detected rho0 = 1000.0 kg/m^3\n",
      "Detected H = 4000.0 m\n",
      "Found 9 columns in output.mpi:\n",
      "['STEP', 'time[DAYS]', 'KINETIC_ENRG', 'POTEN_ENRG', 'TOTAL_ENRG', 'NET_VOLUME', 'trd', 'ENSTROPHY', 'BTKIN_ENRG']\n",
      "Opening NC datasets:  ['grid', 'surf']\n",
      "Grid size: (L ,M, N) = (258, 722, 50)\n"
     ]
    }
   ],
   "source": [
    "#root_path = '/home1/scratch/aponte/'\n",
    "root_path = '/home/c11-data/Test_aponte/jetn/'\n",
    "run = 'jet_cfg1_wp75_4km_1500a2000j_itide/'\n",
    "\n",
    "#r = pp.Run(root_path+run, prefix='file_', open_nc=['surf'], verbose=True)\n",
    "r = pp.Run(root_path+run, open_nc=['surf'], tdir_max=2, verbose=True)\n",
    "r['surf'] = r['surf'].rename({'time_instant': 'time'})"
   ]
  },
  {
   "cell_type": "code",
   "execution_count": 70,
   "metadata": {},
   "outputs": [],
   "source": [
    "#r['surf']"
   ]
  },
  {
   "cell_type": "code",
   "execution_count": 79,
   "metadata": {},
   "outputs": [
    {
     "name": "stdout",
     "output_type": "stream",
     "text": [
      "dataset size: 11 GB\n"
     ]
    }
   ],
   "source": [
    "V = ['u', 'v']\n",
    "dij = 2\n",
    "ds = (r['surf'][V].isel({'x_rho': slice(0,None,dij), 'x_u': slice(0,None,dij),\n",
    "                         'y_rho': slice(0,None,dij), 'y_v': slice(0,None,dij)})\n",
    "     ).squeeze()\n",
    "print('dataset size: %.0f GB' %(ds.nbytes/1e9))"
   ]
  },
  {
   "cell_type": "code",
   "execution_count": 80,
   "metadata": {},
   "outputs": [
    {
     "data": {
      "text/html": [
       "<pre>&lt;xarray.Dataset&gt;\n",
       "Dimensions:       (time: 28800, x_rho: 129, x_u: 129, y_rho: 361, y_v: 361)\n",
       "Coordinates:\n",
       "  * y_rho         (y_rho) float32 -2000.0 6000.0 14000.0 ... 2870000.0 2878000.0\n",
       "    time_counter  (time) float64 1.5e+03 1.5e+03 1.5e+03 ... 1.7e+03 1.7e+03\n",
       "    fu            (y_rho) float32 dask.array&lt;chunksize=(361,), meta=np.ndarray&gt;\n",
       "    y_u           (y_rho) float32 dask.array&lt;chunksize=(361,), meta=np.ndarray&gt;\n",
       "  * x_u           (x_u) float32 0.0 8000.0 16000.0 ... 1016000.0 1024000.0\n",
       "  * time          (time) float64 dask.array&lt;chunksize=(1,), meta=np.ndarray&gt;\n",
       "    frho          (y_rho) float32 0.0001029676 0.0001030972 ... 0.0001496236\n",
       "  * x_rho         (x_rho) float32 -2000.0 6000.0 14000.0 ... 1014000.0 1022000.0\n",
       "    x_v           (x_rho) float32 dask.array&lt;chunksize=(129,), meta=np.ndarray&gt;\n",
       "    fv            (y_v) float32 dask.array&lt;chunksize=(361,), meta=np.ndarray&gt;\n",
       "    s_rho_slice0  float32 -0.01\n",
       "  * y_v           (y_v) float32 0.0 8000.0 16000.0 ... 2872000.0 2880000.0\n",
       "Data variables:\n",
       "    u             (time, y_rho, x_u) float32 dask.array&lt;chunksize=(1, 361, 129), meta=np.ndarray&gt;\n",
       "    v             (time, y_v, x_rho) float32 dask.array&lt;chunksize=(1, 361, 129), meta=np.ndarray&gt;\n",
       "Attributes:\n",
       "    name:         surf\n",
       "    description:  Created by xios\n",
       "    title:        Created by xios\n",
       "    Conventions:  CF-1.6\n",
       "    timeStamp:    2020-Feb-03 10:28:55 GMT\n",
       "    uuid:         979d973b-3250-4199-96c2-7dff8e4f5076</pre>"
      ],
      "text/plain": [
       "<xarray.Dataset>\n",
       "Dimensions:       (time: 28800, x_rho: 129, x_u: 129, y_rho: 361, y_v: 361)\n",
       "Coordinates:\n",
       "  * y_rho         (y_rho) float32 -2000.0 6000.0 14000.0 ... 2870000.0 2878000.0\n",
       "    time_counter  (time) float64 1.5e+03 1.5e+03 1.5e+03 ... 1.7e+03 1.7e+03\n",
       "    fu            (y_rho) float32 dask.array<chunksize=(361,), meta=np.ndarray>\n",
       "    y_u           (y_rho) float32 dask.array<chunksize=(361,), meta=np.ndarray>\n",
       "  * x_u           (x_u) float32 0.0 8000.0 16000.0 ... 1016000.0 1024000.0\n",
       "  * time          (time) float64 dask.array<chunksize=(1,), meta=np.ndarray>\n",
       "    frho          (y_rho) float32 0.0001029676 0.0001030972 ... 0.0001496236\n",
       "  * x_rho         (x_rho) float32 -2000.0 6000.0 14000.0 ... 1014000.0 1022000.0\n",
       "    x_v           (x_rho) float32 dask.array<chunksize=(129,), meta=np.ndarray>\n",
       "    fv            (y_v) float32 dask.array<chunksize=(361,), meta=np.ndarray>\n",
       "    s_rho_slice0  float32 -0.01\n",
       "  * y_v           (y_v) float32 0.0 8000.0 16000.0 ... 2872000.0 2880000.0\n",
       "Data variables:\n",
       "    u             (time, y_rho, x_u) float32 dask.array<chunksize=(1, 361, 129), meta=np.ndarray>\n",
       "    v             (time, y_v, x_rho) float32 dask.array<chunksize=(1, 361, 129), meta=np.ndarray>\n",
       "Attributes:\n",
       "    name:         surf\n",
       "    description:  Created by xios\n",
       "    title:        Created by xios\n",
       "    Conventions:  CF-1.6\n",
       "    timeStamp:    2020-Feb-03 10:28:55 GMT\n",
       "    uuid:         979d973b-3250-4199-96c2-7dff8e4f5076"
      ]
     },
     "execution_count": 80,
     "metadata": {},
     "output_type": "execute_result"
    }
   ],
   "source": [
    "ds"
   ]
  },
  {
   "cell_type": "code",
   "execution_count": 81,
   "metadata": {},
   "outputs": [],
   "source": [
    "x, y, t = 10, 10, 6*24*20\n",
    "ds = ds.chunk({'time': t, 'x_rho': x, 'x_u': x, 'y_rho': y, 'y_v': y})"
   ]
  },
  {
   "cell_type": "code",
   "execution_count": 82,
   "metadata": {},
   "outputs": [],
   "source": [
    "ds = ds.persist()"
   ]
  },
  {
   "cell_type": "markdown",
   "metadata": {},
   "source": [
    "---\n",
    "\n",
    "## Spectra: manual computation"
   ]
  },
  {
   "cell_type": "code",
   "execution_count": 84,
   "metadata": {},
   "outputs": [],
   "source": [
    "from scipy import signal\n",
    "\n",
    "def _get_E(x, fs=None, ufunc=True, **kwargs):\n",
    "    ax = -1 if ufunc else 0\n",
    "    #\n",
    "    dkwargs = {'window': 'hann', 'return_onesided': False, \n",
    "               'detrend': 'linear', 'scaling': 'density'}\n",
    "    dkwargs.update(kwargs)\n",
    "    f, E = signal.welch(x, fs=fs, axis=ax, **dkwargs)\n",
    "    #\n",
    "    if ufunc:\n",
    "        return E\n",
    "    else:\n",
    "        return f, E\n",
    "\n",
    "def get_E(v, dt, f=None, **kwargs):\n",
    "    v = v.chunk({'time': -1})\n",
    "    _kwargs = {'fs': 1./dt}\n",
    "    _kwargs.update(kwargs)\n",
    "    if f is None:\n",
    "        f, E = _get_E(v.values, ufunc=False, **_kwargs)\n",
    "        return f, E\n",
    "    else:\n",
    "        E = xr.apply_ufunc(_get_E, v,\n",
    "                    dask='parallelized', output_dtypes=[np.float64],\n",
    "                    input_core_dims=[['time']],\n",
    "                    output_core_dims=[['freq_time']],\n",
    "                    output_sizes={'freq_time': _kwargs['nperseg']}, kwargs=_kwargs)\n",
    "        return E.assign_coords(freq_time=f).sortby('freq_time')"
   ]
  },
  {
   "cell_type": "code",
   "execution_count": 85,
   "metadata": {},
   "outputs": [],
   "source": [
    "dt = float((ds.time[1]-ds.time[0]).values)\n",
    "N = int(20/dt)\n",
    "f, _ = get_E(ds.u.isel(x_u=0,y_rho=0), dt, nperseg=N)\n",
    "E = get_E(ds.u, dt, f=f, nperseg=N).persist()"
   ]
  },
  {
   "cell_type": "code",
   "execution_count": 86,
   "metadata": {},
   "outputs": [
    {
     "data": {
      "text/html": [
       "<pre>&lt;xarray.DataArray &#x27;u&#x27; (y_rho: 361, x_u: 129, freq_time: 2879)&gt;\n",
       "dask.array&lt;getitem, shape=(361, 129, 2879), dtype=float64, chunksize=(10, 10, 2879), chunktype=numpy.ndarray&gt;\n",
       "Coordinates:\n",
       "  * y_rho         (y_rho) float32 -2000.0 6000.0 14000.0 ... 2870000.0 2878000.0\n",
       "    fu            (y_rho) float32 dask.array&lt;chunksize=(10,), meta=np.ndarray&gt;\n",
       "    y_u           (y_rho) float32 dask.array&lt;chunksize=(10,), meta=np.ndarray&gt;\n",
       "  * x_u           (x_u) float32 0.0 8000.0 16000.0 ... 1016000.0 1024000.0\n",
       "    frho          (y_rho) float32 dask.array&lt;chunksize=(10,), meta=np.ndarray&gt;\n",
       "    s_rho_slice0  float32 -0.01\n",
       "  * freq_time     (freq_time) float64 -71.97 -71.92 -71.87 ... 71.87 71.92 71.97</pre>"
      ],
      "text/plain": [
       "<xarray.DataArray 'u' (y_rho: 361, x_u: 129, freq_time: 2879)>\n",
       "dask.array<getitem, shape=(361, 129, 2879), dtype=float64, chunksize=(10, 10, 2879), chunktype=numpy.ndarray>\n",
       "Coordinates:\n",
       "  * y_rho         (y_rho) float32 -2000.0 6000.0 14000.0 ... 2870000.0 2878000.0\n",
       "    fu            (y_rho) float32 dask.array<chunksize=(10,), meta=np.ndarray>\n",
       "    y_u           (y_rho) float32 dask.array<chunksize=(10,), meta=np.ndarray>\n",
       "  * x_u           (x_u) float32 0.0 8000.0 16000.0 ... 1016000.0 1024000.0\n",
       "    frho          (y_rho) float32 dask.array<chunksize=(10,), meta=np.ndarray>\n",
       "    s_rho_slice0  float32 -0.01\n",
       "  * freq_time     (freq_time) float64 -71.97 -71.92 -71.87 ... 71.87 71.92 71.97"
      ]
     },
     "execution_count": 86,
     "metadata": {},
     "output_type": "execute_result"
    }
   ],
   "source": [
    "E"
   ]
  },
  {
   "cell_type": "code",
   "execution_count": 87,
   "metadata": {},
   "outputs": [],
   "source": [
    "E_mean = E.mean('x_u').persist()"
   ]
  },
  {
   "cell_type": "code",
   "execution_count": 90,
   "metadata": {},
   "outputs": [
    {
     "data": {
      "text/plain": [
       "<matplotlib.collections.QuadMesh at 0x2aab502175c0>"
      ]
     },
     "execution_count": 90,
     "metadata": {},
     "output_type": "execute_result"
    },
    {
     "data": {
      "image/png": "[encoded data removed]",
      "text/plain": [
       "<Figure size 432x288 with 2 Axes>"
      ]
     },
     "metadata": {
      "needs_background": "light"
     },
     "output_type": "display_data"
    }
   ],
   "source": [
    "np.log10(E_mean).plot(x='freq_time', xlim=(-10,10))"
   ]
  },
  {
   "cell_type": "markdown",
   "metadata": {},
   "source": [
    "---\n",
    "\n",
    "## Spectra: xrft"
   ]
  },
  {
   "cell_type": "code",
   "execution_count": null,
   "metadata": {},
   "outputs": [],
   "source": []
  },
  {
   "cell_type": "markdown",
   "metadata": {},
   "source": [
    "---\n",
    "\n",
    "## Decorrelation: manual apply_ufunc"
   ]
  },
  {
   "cell_type": "code",
   "execution_count": null,
   "metadata": {},
   "outputs": [],
   "source": [
    "cluster.close()"
   ]
  },
  {
   "cell_type": "code",
   "execution_count": 98,
   "metadata": {},
   "outputs": [
    {
     "ename": "ValueError",
     "evalue": "object of too small depth for desired array",
     "output_type": "error",
     "traceback": [
      "\u001b[0;31m---------------------------------------------------------------------------\u001b[0m",
      "\u001b[0;31mValueError\u001b[0m                                Traceback (most recent call last)",
      "\u001b[0;32m<ipython-input-98-b6dc68ea91e0>\u001b[0m in \u001b[0;36m<module>\u001b[0;34m\u001b[0m\n\u001b[1;32m     30\u001b[0m \u001b[0;34m\u001b[0m\u001b[0m\n\u001b[1;32m     31\u001b[0m \u001b[0;34m\u001b[0m\u001b[0m\n\u001b[0;32m---> 32\u001b[0;31m \u001b[0mnp\u001b[0m\u001b[0;34m.\u001b[0m\u001b[0mvectorize\u001b[0m\u001b[0;34m(\u001b[0m\u001b[0mnp\u001b[0m\u001b[0;34m.\u001b[0m\u001b[0mcorrelate\u001b[0m\u001b[0;34m)\u001b[0m\u001b[0;34m(\u001b[0m\u001b[0mnp\u001b[0m\u001b[0;34m.\u001b[0m\u001b[0mmoveaxis\u001b[0m\u001b[0;34m(\u001b[0m\u001b[0mv1\u001b[0m\u001b[0;34m,\u001b[0m \u001b[0;36m0\u001b[0m\u001b[0;34m,\u001b[0m \u001b[0;34m-\u001b[0m\u001b[0;36m1\u001b[0m\u001b[0;34m)\u001b[0m\u001b[0;34m,\u001b[0m \u001b[0mnp\u001b[0m\u001b[0;34m.\u001b[0m\u001b[0mmoveaxis\u001b[0m\u001b[0;34m(\u001b[0m\u001b[0mv1\u001b[0m\u001b[0;34m,\u001b[0m \u001b[0;36m0\u001b[0m\u001b[0;34m,\u001b[0m \u001b[0;34m-\u001b[0m\u001b[0;36m1\u001b[0m\u001b[0;34m)\u001b[0m\u001b[0;34m,\u001b[0m \u001b[0mmode\u001b[0m\u001b[0;34m=\u001b[0m\u001b[0;34m'same'\u001b[0m\u001b[0;34m)\u001b[0m\u001b[0;34m\u001b[0m\u001b[0;34m\u001b[0m\u001b[0m\n\u001b[0m",
      "\u001b[0;32m~/.miniconda3/envs/equinox/lib/python3.7/site-packages/numpy/lib/function_base.py\u001b[0m in \u001b[0;36m__call__\u001b[0;34m(self, *args, **kwargs)\u001b[0m\n\u001b[1;32m   2089\u001b[0m             \u001b[0mvargs\u001b[0m\u001b[0;34m.\u001b[0m\u001b[0mextend\u001b[0m\u001b[0;34m(\u001b[0m\u001b[0;34m[\u001b[0m\u001b[0mkwargs\u001b[0m\u001b[0;34m[\u001b[0m\u001b[0m_n\u001b[0m\u001b[0;34m]\u001b[0m \u001b[0;32mfor\u001b[0m \u001b[0m_n\u001b[0m \u001b[0;32min\u001b[0m \u001b[0mnames\u001b[0m\u001b[0;34m]\u001b[0m\u001b[0;34m)\u001b[0m\u001b[0;34m\u001b[0m\u001b[0;34m\u001b[0m\u001b[0m\n\u001b[1;32m   2090\u001b[0m \u001b[0;34m\u001b[0m\u001b[0m\n\u001b[0;32m-> 2091\u001b[0;31m         \u001b[0;32mreturn\u001b[0m \u001b[0mself\u001b[0m\u001b[0;34m.\u001b[0m\u001b[0m_vectorize_call\u001b[0m\u001b[0;34m(\u001b[0m\u001b[0mfunc\u001b[0m\u001b[0;34m=\u001b[0m\u001b[0mfunc\u001b[0m\u001b[0;34m,\u001b[0m \u001b[0margs\u001b[0m\u001b[0;34m=\u001b[0m\u001b[0mvargs\u001b[0m\u001b[0;34m)\u001b[0m\u001b[0;34m\u001b[0m\u001b[0;34m\u001b[0m\u001b[0m\n\u001b[0m\u001b[1;32m   2092\u001b[0m \u001b[0;34m\u001b[0m\u001b[0m\n\u001b[1;32m   2093\u001b[0m     \u001b[0;32mdef\u001b[0m \u001b[0m_get_ufunc_and_otypes\u001b[0m\u001b[0;34m(\u001b[0m\u001b[0mself\u001b[0m\u001b[0;34m,\u001b[0m \u001b[0mfunc\u001b[0m\u001b[0;34m,\u001b[0m \u001b[0margs\u001b[0m\u001b[0;34m)\u001b[0m\u001b[0;34m:\u001b[0m\u001b[0;34m\u001b[0m\u001b[0;34m\u001b[0m\u001b[0m\n",
      "\u001b[0;32m~/.miniconda3/envs/equinox/lib/python3.7/site-packages/numpy/lib/function_base.py\u001b[0m in \u001b[0;36m_vectorize_call\u001b[0;34m(self, func, args)\u001b[0m\n\u001b[1;32m   2159\u001b[0m             \u001b[0mres\u001b[0m \u001b[0;34m=\u001b[0m \u001b[0mfunc\u001b[0m\u001b[0;34m(\u001b[0m\u001b[0;34m)\u001b[0m\u001b[0;34m\u001b[0m\u001b[0;34m\u001b[0m\u001b[0m\n\u001b[1;32m   2160\u001b[0m         \u001b[0;32melse\u001b[0m\u001b[0;34m:\u001b[0m\u001b[0;34m\u001b[0m\u001b[0;34m\u001b[0m\u001b[0m\n\u001b[0;32m-> 2161\u001b[0;31m             \u001b[0mufunc\u001b[0m\u001b[0;34m,\u001b[0m \u001b[0motypes\u001b[0m \u001b[0;34m=\u001b[0m \u001b[0mself\u001b[0m\u001b[0;34m.\u001b[0m\u001b[0m_get_ufunc_and_otypes\u001b[0m\u001b[0;34m(\u001b[0m\u001b[0mfunc\u001b[0m\u001b[0;34m=\u001b[0m\u001b[0mfunc\u001b[0m\u001b[0;34m,\u001b[0m \u001b[0margs\u001b[0m\u001b[0;34m=\u001b[0m\u001b[0margs\u001b[0m\u001b[0;34m)\u001b[0m\u001b[0;34m\u001b[0m\u001b[0;34m\u001b[0m\u001b[0m\n\u001b[0m\u001b[1;32m   2162\u001b[0m \u001b[0;34m\u001b[0m\u001b[0m\n\u001b[1;32m   2163\u001b[0m             \u001b[0;31m# Convert args to object arrays first\u001b[0m\u001b[0;34m\u001b[0m\u001b[0;34m\u001b[0m\u001b[0;34m\u001b[0m\u001b[0m\n",
      "\u001b[0;32m~/.miniconda3/envs/equinox/lib/python3.7/site-packages/numpy/lib/function_base.py\u001b[0m in \u001b[0;36m_get_ufunc_and_otypes\u001b[0;34m(self, func, args)\u001b[0m\n\u001b[1;32m   2119\u001b[0m \u001b[0;34m\u001b[0m\u001b[0m\n\u001b[1;32m   2120\u001b[0m             \u001b[0minputs\u001b[0m \u001b[0;34m=\u001b[0m \u001b[0;34m[\u001b[0m\u001b[0marg\u001b[0m\u001b[0;34m.\u001b[0m\u001b[0mflat\u001b[0m\u001b[0;34m[\u001b[0m\u001b[0;36m0\u001b[0m\u001b[0;34m]\u001b[0m \u001b[0;32mfor\u001b[0m \u001b[0marg\u001b[0m \u001b[0;32min\u001b[0m \u001b[0margs\u001b[0m\u001b[0;34m]\u001b[0m\u001b[0;34m\u001b[0m\u001b[0;34m\u001b[0m\u001b[0m\n\u001b[0;32m-> 2121\u001b[0;31m             \u001b[0moutputs\u001b[0m \u001b[0;34m=\u001b[0m \u001b[0mfunc\u001b[0m\u001b[0;34m(\u001b[0m\u001b[0;34m*\u001b[0m\u001b[0minputs\u001b[0m\u001b[0;34m)\u001b[0m\u001b[0;34m\u001b[0m\u001b[0;34m\u001b[0m\u001b[0m\n\u001b[0m\u001b[1;32m   2122\u001b[0m \u001b[0;34m\u001b[0m\u001b[0m\n\u001b[1;32m   2123\u001b[0m             \u001b[0;31m# Performance note: profiling indicates that -- for simple\u001b[0m\u001b[0;34m\u001b[0m\u001b[0;34m\u001b[0m\u001b[0;34m\u001b[0m\u001b[0m\n",
      "\u001b[0;32m~/.miniconda3/envs/equinox/lib/python3.7/site-packages/numpy/lib/function_base.py\u001b[0m in \u001b[0;36mfunc\u001b[0;34m(*vargs)\u001b[0m\n\u001b[1;32m   2084\u001b[0m                     \u001b[0mthe_args\u001b[0m\u001b[0;34m[\u001b[0m\u001b[0m_i\u001b[0m\u001b[0;34m]\u001b[0m \u001b[0;34m=\u001b[0m \u001b[0mvargs\u001b[0m\u001b[0;34m[\u001b[0m\u001b[0m_n\u001b[0m\u001b[0;34m]\u001b[0m\u001b[0;34m\u001b[0m\u001b[0;34m\u001b[0m\u001b[0m\n\u001b[1;32m   2085\u001b[0m                 \u001b[0mkwargs\u001b[0m\u001b[0;34m.\u001b[0m\u001b[0mupdate\u001b[0m\u001b[0;34m(\u001b[0m\u001b[0mzip\u001b[0m\u001b[0;34m(\u001b[0m\u001b[0mnames\u001b[0m\u001b[0;34m,\u001b[0m \u001b[0mvargs\u001b[0m\u001b[0;34m[\u001b[0m\u001b[0mlen\u001b[0m\u001b[0;34m(\u001b[0m\u001b[0minds\u001b[0m\u001b[0;34m)\u001b[0m\u001b[0;34m:\u001b[0m\u001b[0;34m]\u001b[0m\u001b[0;34m)\u001b[0m\u001b[0;34m)\u001b[0m\u001b[0;34m\u001b[0m\u001b[0;34m\u001b[0m\u001b[0m\n\u001b[0;32m-> 2086\u001b[0;31m                 \u001b[0;32mreturn\u001b[0m \u001b[0mself\u001b[0m\u001b[0;34m.\u001b[0m\u001b[0mpyfunc\u001b[0m\u001b[0;34m(\u001b[0m\u001b[0;34m*\u001b[0m\u001b[0mthe_args\u001b[0m\u001b[0;34m,\u001b[0m \u001b[0;34m**\u001b[0m\u001b[0mkwargs\u001b[0m\u001b[0;34m)\u001b[0m\u001b[0;34m\u001b[0m\u001b[0;34m\u001b[0m\u001b[0m\n\u001b[0m\u001b[1;32m   2087\u001b[0m \u001b[0;34m\u001b[0m\u001b[0m\n\u001b[1;32m   2088\u001b[0m             \u001b[0mvargs\u001b[0m \u001b[0;34m=\u001b[0m \u001b[0;34m[\u001b[0m\u001b[0margs\u001b[0m\u001b[0;34m[\u001b[0m\u001b[0m_i\u001b[0m\u001b[0;34m]\u001b[0m \u001b[0;32mfor\u001b[0m \u001b[0m_i\u001b[0m \u001b[0;32min\u001b[0m \u001b[0minds\u001b[0m\u001b[0;34m]\u001b[0m\u001b[0;34m\u001b[0m\u001b[0;34m\u001b[0m\u001b[0m\n",
      "\u001b[0;32m<__array_function__ internals>\u001b[0m in \u001b[0;36mcorrelate\u001b[0;34m(*args, **kwargs)\u001b[0m\n",
      "\u001b[0;32m~/.miniconda3/envs/equinox/lib/python3.7/site-packages/numpy/core/numeric.py\u001b[0m in \u001b[0;36mcorrelate\u001b[0;34m(a, v, mode)\u001b[0m\n\u001b[1;32m    711\u001b[0m     \"\"\"\n\u001b[1;32m    712\u001b[0m     \u001b[0mmode\u001b[0m \u001b[0;34m=\u001b[0m \u001b[0m_mode_from_name\u001b[0m\u001b[0;34m(\u001b[0m\u001b[0mmode\u001b[0m\u001b[0;34m)\u001b[0m\u001b[0;34m\u001b[0m\u001b[0;34m\u001b[0m\u001b[0m\n\u001b[0;32m--> 713\u001b[0;31m     \u001b[0;32mreturn\u001b[0m \u001b[0mmultiarray\u001b[0m\u001b[0;34m.\u001b[0m\u001b[0mcorrelate2\u001b[0m\u001b[0;34m(\u001b[0m\u001b[0ma\u001b[0m\u001b[0;34m,\u001b[0m \u001b[0mv\u001b[0m\u001b[0;34m,\u001b[0m \u001b[0mmode\u001b[0m\u001b[0;34m)\u001b[0m\u001b[0;34m\u001b[0m\u001b[0;34m\u001b[0m\u001b[0m\n\u001b[0m\u001b[1;32m    714\u001b[0m \u001b[0;34m\u001b[0m\u001b[0m\n\u001b[1;32m    715\u001b[0m \u001b[0;34m\u001b[0m\u001b[0m\n",
      "\u001b[0;31mValueError\u001b[0m: object of too small depth for desired array"
     ]
    }
   ],
   "source": [
    "def correlate(v1, v2, dt=None, detrend=False, ufunc=True):\n",
    "    ''' Compute a lagged correlation between two time series\n",
    "    These time series are assumed to be regularly sampled in time \n",
    "    and along the same time line.\n",
    "    \n",
    "    Parameters\n",
    "    ----------\n",
    "    \n",
    "        v1, v2: ndarray, pd.Series\n",
    "            Time series to correlate, the index must be time if dt is not provided\n",
    "            \n",
    "        dt: float, optional\n",
    "            Time step\n",
    "            \n",
    "        detrend: boolean, optional\n",
    "            Turns detrending on or off. Default is False.\n",
    "\n",
    "    See: https://docs.scipy.org/doc/numpy/reference/generated/numpy.correlate.html\n",
    "    '''\n",
    "    \n",
    "    if detrend:\n",
    "        v1 = signal.detrend(v1)\n",
    "        v2 = signal.detrend(v2)        \n",
    "    \n",
    "    vv = np.vectorize(np.correlate)(v1, v2, mode='same')\n",
    "    #return pd.Series(vv[int(vv.size/2):][:N], index=np.arange(N)*dt)\n",
    "\n",
    "\n",
    "v1 = ds.u.isel(x_u=slice(0,10), y_rho=slice(0,10)).values.transpose((1,2,0))\n",
    "\n",
    "\n",
    "np.vectorize(np.correlate)(np.moveaxis(v1, 0, -1), np.moveaxis(v1, 0, -1), mode='same')"
   ]
  },
  {
   "cell_type": "code",
   "execution_count": null,
   "metadata": {},
   "outputs": [],
   "source": []
  },
  {
   "cell_type": "code",
   "execution_count": 97,
   "metadata": {},
   "outputs": [
    {
     "data": {
      "text/plain": [
       "(10, 10, 28800)"
      ]
     },
     "execution_count": 97,
     "metadata": {},
     "output_type": "execute_result"
    }
   ],
   "source": [
    "v1.shape"
   ]
  },
  {
   "cell_type": "code",
   "execution_count": null,
   "metadata": {},
   "outputs": [],
   "source": [
    "def _get_decor(x, fs=None, ufunc=True, **kwargs):\n",
    "    ax = -1 if ufunc else 0\n",
    "    #\n",
    "    dkwargs = {'window': 'hann', 'return_onesided': False, \n",
    "               'detrend': 'linear', 'scaling': 'density'}\n",
    "    dkwargs.update(kwargs)\n",
    "    f, E = signal.welch(x, fs=fs, axis=ax, **dkwargs)\n",
    "    #\n",
    "    if ufunc:\n",
    "        return E\n",
    "    else:\n",
    "        return f, E\n",
    "\n",
    "def get_E(v, dt, f=None, **kwargs):\n",
    "    v = v.chunk({'time': -1})\n",
    "    _kwargs = {'fs': 1./dt}\n",
    "    _kwargs.update(kwargs)\n",
    "    if f is None:\n",
    "        f, E = _get_E(v.values, ufunc=False, **_kwargs)\n",
    "        return f, E\n",
    "    else:\n",
    "        E = xr.apply_ufunc(_get_E, v,\n",
    "                    dask='parallelized', output_dtypes=[np.float64],\n",
    "                    input_core_dims=[['time']],\n",
    "                    output_core_dims=[['freq_time']],\n",
    "                    output_sizes={'freq_time': _kwargs['nperseg']}, kwargs=_kwargs)\n",
    "        return E.assign_coords(freq_time=f).sortby('freq_time')"
   ]
  },
  {
   "cell_type": "code",
   "execution_count": null,
   "metadata": {},
   "outputs": [],
   "source": []
  },
  {
   "cell_type": "code",
   "execution_count": null,
   "metadata": {},
   "outputs": [],
   "source": []
  },
  {
   "cell_type": "markdown",
   "metadata": {},
   "source": [
    "---"
   ]
  },
  {
   "cell_type": "code",
   "execution_count": 9,
   "metadata": {},
   "outputs": [
    {
     "name": "stderr",
     "output_type": "stream",
     "text": [
      "distributed.client - ERROR - Failed to reconnect to scheduler after 10.00 seconds, closing client\n",
      "distributed.utils - ERROR - \n",
      "Traceback (most recent call last):\n",
      "  File \"/home1/datahome/aponte/.miniconda3/envs/equinox/lib/python3.7/site-packages/distributed/utils.py\", line 666, in log_errors\n",
      "    yield\n",
      "  File \"/home1/datahome/aponte/.miniconda3/envs/equinox/lib/python3.7/site-packages/distributed/client.py\", line 1283, in _close\n",
      "    await gen.with_timeout(timedelta(seconds=2), list(coroutines))\n",
      "concurrent.futures._base.CancelledError\n",
      "distributed.utils - ERROR - \n",
      "Traceback (most recent call last):\n",
      "  File \"/home1/datahome/aponte/.miniconda3/envs/equinox/lib/python3.7/site-packages/distributed/utils.py\", line 666, in log_errors\n",
      "    yield\n",
      "  File \"/home1/datahome/aponte/.miniconda3/envs/equinox/lib/python3.7/site-packages/distributed/client.py\", line 1012, in _reconnect\n",
      "    await self._close()\n",
      "  File \"/home1/datahome/aponte/.miniconda3/envs/equinox/lib/python3.7/site-packages/distributed/client.py\", line 1283, in _close\n",
      "    await gen.with_timeout(timedelta(seconds=2), list(coroutines))\n",
      "concurrent.futures._base.CancelledError\n"
     ]
    }
   ],
   "source": [
    "cluster.close()"
   ]
  },
  {
   "cell_type": "code",
   "execution_count": null,
   "metadata": {},
   "outputs": [],
   "source": []
  }
 ],
 "metadata": {
  "kernelspec": {
   "display_name": "Python 3",
   "language": "python",
   "name": "python3"
  },
  "language_info": {
   "codemirror_mode": {
    "name": "ipython",
    "version": 3
   },
   "file_extension": ".py",
   "mimetype": "text/x-python",
   "name": "python",
   "nbconvert_exporter": "python",
   "pygments_lexer": "ipython3",
   "version": "3.7.3"
  }
 },
 "nbformat": 4,
 "nbformat_minor": 4
}
