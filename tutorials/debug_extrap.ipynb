{
 "cells": [
  {
   "cell_type": "code",
   "execution_count": 1,
   "metadata": {},
   "outputs": [],
   "source": [
    "import numpy as np\n",
    "from matplotlib import pyplot as plt\n",
    "%matplotlib inline"
   ]
  },
  {
   "cell_type": "code",
   "execution_count": 2,
   "metadata": {},
   "outputs": [],
   "source": [
    "z = np.arange(-10,0,1)\n",
    "v = z**2\n",
    "zt = np.arange(-11,0,1)+.5"
   ]
  },
  {
   "cell_type": "code",
   "execution_count": 3,
   "metadata": {},
   "outputs": [],
   "source": [
    "def interp2z_3d(z0, z, v, b_extrap=2, t_extrap=2):\n",
    "    \"\"\"\n",
    "    b_extrap, t_extrap:\n",
    "        0 set to NaN\n",
    "        1 set to nearest neighboor\n",
    "        2 linear extrapolation\n",
    "    \"\"\"\n",
    "    import crocosi.fast_interp3D as fi  # OpenMP accelerated C based interpolator\n",
    "    # check v and z have identical shape\n",
    "    assert v.ndim==z.ndim\n",
    "    # add dimensions if necessary\n",
    "    if v.ndim == 1:\n",
    "        lv = v.squeeze()[:,None,None]\n",
    "        lz = z.squeeze()[:,None,None]\n",
    "    elif v.ndim == 2:\n",
    "        lv = v[...,None]\n",
    "        lz = z[...,None]\n",
    "    else:\n",
    "        lz = z[...]\n",
    "        lv = v[...]\n",
    "    #\n",
    "    return fi.interp(z0.astype('float64'), lz.astype('float64'), lv.astype('float64'), b_extrap, t_extrap)"
   ]
  },
  {
   "cell_type": "code",
   "execution_count": 4,
   "metadata": {},
   "outputs": [
    {
     "name": "stdout",
     "output_type": "stream",
     "text": [
      "(11, 1, 1)\n"
     ]
    },
    {
     "name": "stderr",
     "output_type": "stream",
     "text": [
      "/home1/datahome/aponte/.miniconda3/envs/equinox/lib/python3.7/site-packages/distributed/utils.py:137: RuntimeWarning: Couldn't detect a suitable IP address for reaching '8.8.8.8', defaulting to '127.0.0.1': [Errno 101] Network is unreachable\n",
      "  RuntimeWarning,\n"
     ]
    },
    {
     "data": {
      "text/plain": [
       "[<matplotlib.lines.Line2D at 0x2aab0bbbe828>]"
      ]
     },
     "execution_count": 4,
     "metadata": {},
     "output_type": "execute_result"
    },
    {
     "data": {
      "image/png": "[encoded data removed]",
      "text/plain": [
       "<Figure size 432x288 with 1 Axes>"
      ]
     },
     "metadata": {
      "needs_background": "light"
     },
     "output_type": "display_data"
    }
   ],
   "source": [
    "# no extrapolation\n",
    "vt = interp2z_3d(zt, z, v, 0, 0)\n",
    "print(vt.shape)\n",
    "ax = plt.subplot(111)\n",
    "ax.plot(v, z, '+')\n",
    "ax.plot(vt.squeeze(), zt, '+-')"
   ]
  },
  {
   "cell_type": "code",
   "execution_count": 5,
   "metadata": {},
   "outputs": [
    {
     "name": "stdout",
     "output_type": "stream",
     "text": [
      "(11, 1, 1)\n"
     ]
    },
    {
     "data": {
      "text/plain": [
       "[<matplotlib.lines.Line2D at 0x2aab0bd740f0>]"
      ]
     },
     "execution_count": 5,
     "metadata": {},
     "output_type": "execute_result"
    },
    {
     "data": {
      "image/png": "[encoded data removed]",
      "text/plain": [
       "<Figure size 432x288 with 1 Axes>"
      ]
     },
     "metadata": {
      "needs_background": "light"
     },
     "output_type": "display_data"
    }
   ],
   "source": [
    "# nearest neighboor extrapolation\n",
    "vt = interp2z_3d(zt, z, v, 1, 1)\n",
    "print(vt.shape)\n",
    "ax = plt.subplot(111)\n",
    "ax.plot(v, z, '+')\n",
    "ax.plot(vt.squeeze(), zt, '+-')"
   ]
  },
  {
   "cell_type": "code",
   "execution_count": 6,
   "metadata": {},
   "outputs": [
    {
     "name": "stdout",
     "output_type": "stream",
     "text": [
      "(11, 1, 1)\n"
     ]
    },
    {
     "data": {
      "text/plain": [
       "[<matplotlib.lines.Line2D at 0x2aab0bdd8518>]"
      ]
     },
     "execution_count": 6,
     "metadata": {},
     "output_type": "execute_result"
    },
    {
     "data": {
      "image/png": "[encoded data removed]",
      "text/plain": [
       "<Figure size 432x288 with 1 Axes>"
      ]
     },
     "metadata": {
      "needs_background": "light"
     },
     "output_type": "display_data"
    }
   ],
   "source": [
    "# linear extrapolation\n",
    "vt = interp2z_3d(zt, z, v, 2, 2)\n",
    "print(vt.shape)\n",
    "ax = plt.subplot(111)\n",
    "ax.plot(v, z, '+')\n",
    "ax.plot(vt.squeeze(), zt, '+-')"
   ]
  },
  {
   "cell_type": "code",
   "execution_count": null,
   "metadata": {},
   "outputs": [],
   "source": []
  }
 ],
 "metadata": {
  "kernelspec": {
   "display_name": "Python 3",
   "language": "python",
   "name": "python3"
  },
  "language_info": {
   "codemirror_mode": {
    "name": "ipython",
    "version": 3
   },
   "file_extension": ".py",
   "mimetype": "text/x-python",
   "name": "python",
   "nbconvert_exporter": "python",
   "pygments_lexer": "ipython3",
   "version": "3.7.3"
  }
 },
 "nbformat": 4,
 "nbformat_minor": 4
}
