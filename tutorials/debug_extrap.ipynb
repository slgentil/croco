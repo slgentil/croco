{
 "cells": [
  {
   "cell_type": "code",
   "execution_count": 5,
   "metadata": {},
   "outputs": [
    {
     "ename": "ModuleNotFoundError",
     "evalue": "No module named 'fast_interp3D'",
     "output_type": "error",
     "traceback": [
      "\u001b[0;31m---------------------------------------------------------------------------\u001b[0m",
      "\u001b[0;31mModuleNotFoundError\u001b[0m                       Traceback (most recent call last)",
      "\u001b[0;32m<ipython-input-5-6d8c636706d0>\u001b[0m in \u001b[0;36m<module>\u001b[0;34m\u001b[0m\n\u001b[1;32m      5\u001b[0m \u001b[0;32mimport\u001b[0m \u001b[0msys\u001b[0m\u001b[0;34m\u001b[0m\u001b[0;34m\u001b[0m\u001b[0m\n\u001b[1;32m      6\u001b[0m \u001b[0msys\u001b[0m\u001b[0;34m.\u001b[0m\u001b[0mpath\u001b[0m\u001b[0;34m.\u001b[0m\u001b[0mappend\u001b[0m\u001b[0;34m(\u001b[0m\u001b[0;34m'/Users/aponte/code/croco/crocosi/'\u001b[0m\u001b[0;34m)\u001b[0m\u001b[0;34m\u001b[0m\u001b[0;34m\u001b[0m\u001b[0m\n\u001b[0;32m----> 7\u001b[0;31m \u001b[0;32mimport\u001b[0m \u001b[0mfast_interp3D\u001b[0m  \u001b[0;31m#as fi  # OpenMP accelerated C based interpolator\u001b[0m\u001b[0;34m\u001b[0m\u001b[0;34m\u001b[0m\u001b[0m\n\u001b[0m",
      "\u001b[0;31mModuleNotFoundError\u001b[0m: No module named 'fast_interp3D'"
     ]
    }
   ],
   "source": [
    "import numpy as np\n",
    "from matplotlib import pyplot as plt\n",
    "%matplotlib inline"
   ]
  },
  {
   "cell_type": "code",
   "execution_count": 6,
   "metadata": {},
   "outputs": [],
   "source": [
    "z = np.arange(-100,0,1)\n",
    "v = z**2\n",
    "zt = np.arange(-101,1,.5)"
   ]
  },
  {
   "cell_type": "code",
   "execution_count": null,
   "metadata": {},
   "outputs": [],
   "source": [
    "def interp2z_3d(z0, z, v, extrap):\n",
    "    #import crocosi.fast_interp3D as fi  # OpenMP accelerated C based interpolator\n",
    "    # check v and z have identical shape\n",
    "    assert v.ndim==z.ndim\n",
    "    # test if temporal dimension is present\n",
    "    if v.ndim == 1:\n",
    "        lv = v.squeeze()[:,None,None]\n",
    "        lz = z.squeeze()[:,None,None]\n",
    "    elif v.ndim == 2:\n",
    "        lv = v[...,None]\n",
    "        lz = z[...,None]\n",
    "    else:\n",
    "        lz = z[...]\n",
    "        lv = v[...]\n",
    "    #\n",
    "    if extrap:\n",
    "        zmin = np.min(z0)-1.\n",
    "        lv = np.concatenate((lv[[0],...], lv), axis=0)\n",
    "        lz = np.concatenate((zmin+0.*lz[[0],...], lz), axis=0)\n",
    "    #\n",
    "    return fi.interp(z0.astype('float64'), lz.astype('float64'), lv.astype('float64'))"
   ]
  },
  {
   "cell_type": "code",
   "execution_count": null,
   "metadata": {},
   "outputs": [],
   "source": [
    "vt = interp2z_3d(zt, z, v, False)"
   ]
  }
 ],
 "metadata": {
  "kernelspec": {
   "display_name": "Python 3",
   "language": "python",
   "name": "python3"
  },
  "language_info": {
   "codemirror_mode": {
    "name": "ipython",
    "version": 3
   },
   "file_extension": ".py",
   "mimetype": "text/x-python",
   "name": "python",
   "nbconvert_exporter": "python",
   "pygments_lexer": "ipython3",
   "version": "3.7.3"
  }
 },
 "nbformat": 4,
 "nbformat_minor": 4
}
